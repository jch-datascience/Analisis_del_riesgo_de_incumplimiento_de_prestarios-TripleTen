{
  "cells": [
    {
      "cell_type": "markdown",
      "metadata": {
        "id": "9e9thCIbS-yF"
      },
      "source": [
        "# Análisis del riesgo de incumplimiento de los prestatarios\n",
        "\n",
        "Tu proyecto consiste en preparar un informe para la división de préstamos de un banco. Deberás averiguar si el estado civil y el número de hijos de un cliente tienen un impacto en el incumplimiento de pago de un préstamo. El banco ya tiene algunos datos sobre la solvencia crediticia de los clientes.\n",
        "\n",
        "Tu informe se tendrá en cuenta al crear una **puntuación de crédito** para un cliente potencial. La **puntuación de crédito** se utiliza para evaluar la capacidad de un prestatario potencial para pagar su préstamo."
      ]
    },
    {
      "cell_type": "markdown",
      "metadata": {
        "id": "9ryz5iwnS-yF"
      },
      "source": [
        "En el siguiente informe se analizará el riesgo de incumplimiento de los prestarios de un banco. Para esto, se evaluará si el estado civil y la cantidad de hijos de los clientes tinen incidencia en el incumplimiento del pago de los préstamos. Además, se evaluará la capacidad de los clientes para pagar sus préstamos por medio de un sistema de puncuación de crédito."
      ]
    },
    {
      "cell_type": "markdown",
      "metadata": {
        "id": "CxHIA6_SS-yF"
      },
      "source": [
        "## Abrrir el archivo de datos y observar la información general.\n"
      ]
    },
    {
      "cell_type": "code",
      "execution_count": null,
      "metadata": {
        "id": "L3YDvDOjS-yG"
      },
      "outputs": [],
      "source": [
        "# Cargar todas las librerías\n",
        "import pandas as pd\n"
      ]
    },
    {
      "cell_type": "code",
      "execution_count": null,
      "metadata": {
        "id": "b9_yDdaiS-yH"
      },
      "outputs": [],
      "source": [
        "# Carga los datos\n",
        "df = pd.read_csv('/datasets/credit_scoring_eng.csv')\n"
      ]
    },
    {
      "cell_type": "markdown",
      "metadata": {
        "id": "bnX3dNgFS-yI"
      },
      "source": [
        "## 1. Exploración de datos\n",
        "\n",
        "**Descripción de los datos**\n",
        "- `children` - el número de hijos en la familia\n",
        "- `days_employed` - experiencia laboral en días\n",
        "- `dob_years` - la edad del cliente en años\n",
        "- `education` - la educación del cliente\n",
        "- `education_id` - identificador de educación\n",
        "- `family_status` - estado civil\n",
        "- `family_status_id` - identificador de estado civil\n",
        "- `gender` - género del cliente\n",
        "- `income_type` - tipo de empleo\n",
        "- `debt` - ¿había alguna deuda en el pago de un préstamo?\n",
        "- `total_income` - ingreso mensual\n",
        "- `purpose` - el propósito de obtener un préstamo\n"
      ]
    },
    {
      "cell_type": "code",
      "execution_count": null,
      "metadata": {
        "id": "WeuicxMqS-yI",
        "outputId": "18aef26a-e9d4-4d16-cd3e-abbde287dd23"
      },
      "outputs": [
        {
          "data": {
            "text/plain": [
              "(21525, 12)"
            ]
          },
          "execution_count": 3,
          "metadata": {},
          "output_type": "execute_result"
        }
      ],
      "source": [
        "# Vamos a ver cuántas filas y columnas tiene nuestro conjunto de datos\n",
        "df.shape\n"
      ]
    },
    {
      "cell_type": "code",
      "execution_count": null,
      "metadata": {
        "scrolled": false,
        "id": "EvAEOmHYS-yJ",
        "outputId": "119cc8b4-151d-430a-927c-b8a30995a97a"
      },
      "outputs": [
        {
          "data": {
            "text/html": [
              "<div>\n",
              "<style scoped>\n",
              "    .dataframe tbody tr th:only-of-type {\n",
              "        vertical-align: middle;\n",
              "    }\n",
              "\n",
              "    .dataframe tbody tr th {\n",
              "        vertical-align: top;\n",
              "    }\n",
              "\n",
              "    .dataframe thead th {\n",
              "        text-align: right;\n",
              "    }\n",
              "</style>\n",
              "<table border=\"1\" class=\"dataframe\">\n",
              "  <thead>\n",
              "    <tr style=\"text-align: right;\">\n",
              "      <th></th>\n",
              "      <th>children</th>\n",
              "      <th>days_employed</th>\n",
              "      <th>dob_years</th>\n",
              "      <th>education</th>\n",
              "      <th>education_id</th>\n",
              "      <th>family_status</th>\n",
              "      <th>family_status_id</th>\n",
              "      <th>gender</th>\n",
              "      <th>income_type</th>\n",
              "      <th>debt</th>\n",
              "      <th>total_income</th>\n",
              "      <th>purpose</th>\n",
              "    </tr>\n",
              "  </thead>\n",
              "  <tbody>\n",
              "    <tr>\n",
              "      <th>0</th>\n",
              "      <td>1</td>\n",
              "      <td>-8437.673028</td>\n",
              "      <td>42</td>\n",
              "      <td>bachelor's degree</td>\n",
              "      <td>0</td>\n",
              "      <td>married</td>\n",
              "      <td>0</td>\n",
              "      <td>F</td>\n",
              "      <td>employee</td>\n",
              "      <td>0</td>\n",
              "      <td>40620.102</td>\n",
              "      <td>purchase of the house</td>\n",
              "    </tr>\n",
              "    <tr>\n",
              "      <th>1</th>\n",
              "      <td>1</td>\n",
              "      <td>-4024.803754</td>\n",
              "      <td>36</td>\n",
              "      <td>secondary education</td>\n",
              "      <td>1</td>\n",
              "      <td>married</td>\n",
              "      <td>0</td>\n",
              "      <td>F</td>\n",
              "      <td>employee</td>\n",
              "      <td>0</td>\n",
              "      <td>17932.802</td>\n",
              "      <td>car purchase</td>\n",
              "    </tr>\n",
              "    <tr>\n",
              "      <th>2</th>\n",
              "      <td>0</td>\n",
              "      <td>-5623.422610</td>\n",
              "      <td>33</td>\n",
              "      <td>Secondary Education</td>\n",
              "      <td>1</td>\n",
              "      <td>married</td>\n",
              "      <td>0</td>\n",
              "      <td>M</td>\n",
              "      <td>employee</td>\n",
              "      <td>0</td>\n",
              "      <td>23341.752</td>\n",
              "      <td>purchase of the house</td>\n",
              "    </tr>\n",
              "    <tr>\n",
              "      <th>3</th>\n",
              "      <td>3</td>\n",
              "      <td>-4124.747207</td>\n",
              "      <td>32</td>\n",
              "      <td>secondary education</td>\n",
              "      <td>1</td>\n",
              "      <td>married</td>\n",
              "      <td>0</td>\n",
              "      <td>M</td>\n",
              "      <td>employee</td>\n",
              "      <td>0</td>\n",
              "      <td>42820.568</td>\n",
              "      <td>supplementary education</td>\n",
              "    </tr>\n",
              "    <tr>\n",
              "      <th>4</th>\n",
              "      <td>0</td>\n",
              "      <td>340266.072047</td>\n",
              "      <td>53</td>\n",
              "      <td>secondary education</td>\n",
              "      <td>1</td>\n",
              "      <td>civil partnership</td>\n",
              "      <td>1</td>\n",
              "      <td>F</td>\n",
              "      <td>retiree</td>\n",
              "      <td>0</td>\n",
              "      <td>25378.572</td>\n",
              "      <td>to have a wedding</td>\n",
              "    </tr>\n",
              "    <tr>\n",
              "      <th>5</th>\n",
              "      <td>0</td>\n",
              "      <td>-926.185831</td>\n",
              "      <td>27</td>\n",
              "      <td>bachelor's degree</td>\n",
              "      <td>0</td>\n",
              "      <td>civil partnership</td>\n",
              "      <td>1</td>\n",
              "      <td>M</td>\n",
              "      <td>business</td>\n",
              "      <td>0</td>\n",
              "      <td>40922.170</td>\n",
              "      <td>purchase of the house</td>\n",
              "    </tr>\n",
              "    <tr>\n",
              "      <th>6</th>\n",
              "      <td>0</td>\n",
              "      <td>-2879.202052</td>\n",
              "      <td>43</td>\n",
              "      <td>bachelor's degree</td>\n",
              "      <td>0</td>\n",
              "      <td>married</td>\n",
              "      <td>0</td>\n",
              "      <td>F</td>\n",
              "      <td>business</td>\n",
              "      <td>0</td>\n",
              "      <td>38484.156</td>\n",
              "      <td>housing transactions</td>\n",
              "    </tr>\n",
              "    <tr>\n",
              "      <th>7</th>\n",
              "      <td>0</td>\n",
              "      <td>-152.779569</td>\n",
              "      <td>50</td>\n",
              "      <td>SECONDARY EDUCATION</td>\n",
              "      <td>1</td>\n",
              "      <td>married</td>\n",
              "      <td>0</td>\n",
              "      <td>M</td>\n",
              "      <td>employee</td>\n",
              "      <td>0</td>\n",
              "      <td>21731.829</td>\n",
              "      <td>education</td>\n",
              "    </tr>\n",
              "    <tr>\n",
              "      <th>8</th>\n",
              "      <td>2</td>\n",
              "      <td>-6929.865299</td>\n",
              "      <td>35</td>\n",
              "      <td>BACHELOR'S DEGREE</td>\n",
              "      <td>0</td>\n",
              "      <td>civil partnership</td>\n",
              "      <td>1</td>\n",
              "      <td>F</td>\n",
              "      <td>employee</td>\n",
              "      <td>0</td>\n",
              "      <td>15337.093</td>\n",
              "      <td>having a wedding</td>\n",
              "    </tr>\n",
              "    <tr>\n",
              "      <th>9</th>\n",
              "      <td>0</td>\n",
              "      <td>-2188.756445</td>\n",
              "      <td>41</td>\n",
              "      <td>secondary education</td>\n",
              "      <td>1</td>\n",
              "      <td>married</td>\n",
              "      <td>0</td>\n",
              "      <td>M</td>\n",
              "      <td>employee</td>\n",
              "      <td>0</td>\n",
              "      <td>23108.150</td>\n",
              "      <td>purchase of the house for my family</td>\n",
              "    </tr>\n",
              "    <tr>\n",
              "      <th>10</th>\n",
              "      <td>2</td>\n",
              "      <td>-4171.483647</td>\n",
              "      <td>36</td>\n",
              "      <td>bachelor's degree</td>\n",
              "      <td>0</td>\n",
              "      <td>married</td>\n",
              "      <td>0</td>\n",
              "      <td>M</td>\n",
              "      <td>business</td>\n",
              "      <td>0</td>\n",
              "      <td>18230.959</td>\n",
              "      <td>buy real estate</td>\n",
              "    </tr>\n",
              "    <tr>\n",
              "      <th>11</th>\n",
              "      <td>0</td>\n",
              "      <td>-792.701887</td>\n",
              "      <td>40</td>\n",
              "      <td>secondary education</td>\n",
              "      <td>1</td>\n",
              "      <td>married</td>\n",
              "      <td>0</td>\n",
              "      <td>F</td>\n",
              "      <td>employee</td>\n",
              "      <td>0</td>\n",
              "      <td>12331.077</td>\n",
              "      <td>buy commercial real estate</td>\n",
              "    </tr>\n",
              "    <tr>\n",
              "      <th>12</th>\n",
              "      <td>0</td>\n",
              "      <td>NaN</td>\n",
              "      <td>65</td>\n",
              "      <td>secondary education</td>\n",
              "      <td>1</td>\n",
              "      <td>civil partnership</td>\n",
              "      <td>1</td>\n",
              "      <td>M</td>\n",
              "      <td>retiree</td>\n",
              "      <td>0</td>\n",
              "      <td>NaN</td>\n",
              "      <td>to have a wedding</td>\n",
              "    </tr>\n",
              "    <tr>\n",
              "      <th>13</th>\n",
              "      <td>0</td>\n",
              "      <td>-1846.641941</td>\n",
              "      <td>54</td>\n",
              "      <td>some college</td>\n",
              "      <td>2</td>\n",
              "      <td>married</td>\n",
              "      <td>0</td>\n",
              "      <td>F</td>\n",
              "      <td>employee</td>\n",
              "      <td>0</td>\n",
              "      <td>20873.317</td>\n",
              "      <td>car purchase</td>\n",
              "    </tr>\n",
              "    <tr>\n",
              "      <th>14</th>\n",
              "      <td>0</td>\n",
              "      <td>-1844.956182</td>\n",
              "      <td>56</td>\n",
              "      <td>bachelor's degree</td>\n",
              "      <td>0</td>\n",
              "      <td>civil partnership</td>\n",
              "      <td>1</td>\n",
              "      <td>F</td>\n",
              "      <td>business</td>\n",
              "      <td>1</td>\n",
              "      <td>26420.466</td>\n",
              "      <td>buy residential real estate</td>\n",
              "    </tr>\n",
              "  </tbody>\n",
              "</table>\n",
              "</div>"
            ],
            "text/plain": [
              "    children  days_employed  dob_years            education  education_id  \\\n",
              "0          1   -8437.673028         42    bachelor's degree             0   \n",
              "1          1   -4024.803754         36  secondary education             1   \n",
              "2          0   -5623.422610         33  Secondary Education             1   \n",
              "3          3   -4124.747207         32  secondary education             1   \n",
              "4          0  340266.072047         53  secondary education             1   \n",
              "5          0    -926.185831         27    bachelor's degree             0   \n",
              "6          0   -2879.202052         43    bachelor's degree             0   \n",
              "7          0    -152.779569         50  SECONDARY EDUCATION             1   \n",
              "8          2   -6929.865299         35    BACHELOR'S DEGREE             0   \n",
              "9          0   -2188.756445         41  secondary education             1   \n",
              "10         2   -4171.483647         36    bachelor's degree             0   \n",
              "11         0    -792.701887         40  secondary education             1   \n",
              "12         0            NaN         65  secondary education             1   \n",
              "13         0   -1846.641941         54         some college             2   \n",
              "14         0   -1844.956182         56    bachelor's degree             0   \n",
              "\n",
              "        family_status  family_status_id gender income_type  debt  \\\n",
              "0             married                 0      F    employee     0   \n",
              "1             married                 0      F    employee     0   \n",
              "2             married                 0      M    employee     0   \n",
              "3             married                 0      M    employee     0   \n",
              "4   civil partnership                 1      F     retiree     0   \n",
              "5   civil partnership                 1      M    business     0   \n",
              "6             married                 0      F    business     0   \n",
              "7             married                 0      M    employee     0   \n",
              "8   civil partnership                 1      F    employee     0   \n",
              "9             married                 0      M    employee     0   \n",
              "10            married                 0      M    business     0   \n",
              "11            married                 0      F    employee     0   \n",
              "12  civil partnership                 1      M     retiree     0   \n",
              "13            married                 0      F    employee     0   \n",
              "14  civil partnership                 1      F    business     1   \n",
              "\n",
              "    total_income                              purpose  \n",
              "0      40620.102                purchase of the house  \n",
              "1      17932.802                         car purchase  \n",
              "2      23341.752                purchase of the house  \n",
              "3      42820.568              supplementary education  \n",
              "4      25378.572                    to have a wedding  \n",
              "5      40922.170                purchase of the house  \n",
              "6      38484.156                 housing transactions  \n",
              "7      21731.829                            education  \n",
              "8      15337.093                     having a wedding  \n",
              "9      23108.150  purchase of the house for my family  \n",
              "10     18230.959                      buy real estate  \n",
              "11     12331.077           buy commercial real estate  \n",
              "12           NaN                    to have a wedding  \n",
              "13     20873.317                         car purchase  \n",
              "14     26420.466          buy residential real estate  "
            ]
          },
          "execution_count": 4,
          "metadata": {},
          "output_type": "execute_result"
        }
      ],
      "source": [
        "# vamos a mostrar las primeras filas N\n",
        "df.head(15)\n"
      ]
    },
    {
      "cell_type": "markdown",
      "metadata": {
        "id": "3tfm9GVHS-yJ"
      },
      "source": [
        "El primer problema que podemos notar es que hay valores ausentes en la columna 'days_employed' y 'total_income'. También podemos ver que en la columna 'education' hay valores duplicados y, además, que en la columna 'days_employed' hay valores negativos.\n",
        "\n"
      ]
    },
    {
      "cell_type": "code",
      "execution_count": null,
      "metadata": {
        "scrolled": true,
        "id": "8eOTi8WGS-yK",
        "outputId": "d061bfd9-693b-473e-8f71-285ce1af09a9"
      },
      "outputs": [
        {
          "name": "stdout",
          "output_type": "stream",
          "text": [
            "<class 'pandas.core.frame.DataFrame'>\n",
            "RangeIndex: 21525 entries, 0 to 21524\n",
            "Data columns (total 12 columns):\n",
            " #   Column            Non-Null Count  Dtype  \n",
            "---  ------            --------------  -----  \n",
            " 0   children          21525 non-null  int64  \n",
            " 1   days_employed     19351 non-null  float64\n",
            " 2   dob_years         21525 non-null  int64  \n",
            " 3   education         21525 non-null  object \n",
            " 4   education_id      21525 non-null  int64  \n",
            " 5   family_status     21525 non-null  object \n",
            " 6   family_status_id  21525 non-null  int64  \n",
            " 7   gender            21525 non-null  object \n",
            " 8   income_type       21525 non-null  object \n",
            " 9   debt              21525 non-null  int64  \n",
            " 10  total_income      19351 non-null  float64\n",
            " 11  purpose           21525 non-null  object \n",
            "dtypes: float64(2), int64(5), object(5)\n",
            "memory usage: 2.0+ MB\n"
          ]
        }
      ],
      "source": [
        "# Obtener información sobre los datos\n",
        "df.info()\n",
        "\n"
      ]
    },
    {
      "cell_type": "markdown",
      "metadata": {
        "id": "4jSDEwzkS-yK"
      },
      "source": [
        "Al obtener la información sobre los datos, podemos comprobar que hay la misma cantidad de valores nulos para las columnas 'days_employed' y 'total_income', y solo en estas columnas."
      ]
    },
    {
      "cell_type": "code",
      "execution_count": null,
      "metadata": {
        "id": "jGc7d19ZS-yK",
        "outputId": "52bd4ea7-9383-4378-84e9-318e10a25cd0"
      },
      "outputs": [
        {
          "data": {
            "text/plain": [
              "2174"
            ]
          },
          "execution_count": 6,
          "metadata": {},
          "output_type": "execute_result"
        }
      ],
      "source": [
        "# Veamos la tabla filtrada con valores ausentes de la primera columna donde faltan datos\n",
        "\n",
        "df[\"days_employed\"].isnull().sum()"
      ]
    },
    {
      "cell_type": "markdown",
      "metadata": {
        "id": "cVJKJphxS-yK"
      },
      "source": [
        "Los valores ausentes parecen simétricos, para estar seguros de esto mostraremos el número de valores ausentes de ambas columnas. También mostraremos el número de filas de la tabla que contienen valores ausentes."
      ]
    },
    {
      "cell_type": "code",
      "execution_count": null,
      "metadata": {
        "scrolled": false,
        "id": "c6p-HdoKS-yL",
        "outputId": "6eab6749-5fe1-4545-be09-80f7cafe0e69"
      },
      "outputs": [
        {
          "name": "stdout",
          "output_type": "stream",
          "text": [
            "Valores ausentes de la columna \"days_employed\": 2174\n",
            "Valores ausentes de la columna \"total_income\": 2174\n",
            "\n",
            "El total de filas que contienen valores ausentes es: 2174\n"
          ]
        }
      ],
      "source": [
        "# Apliquemos múltiples condiciones para filtrar datos y veamos el número de filas en la tabla filtrada.\n",
        "\n",
        "# Las siguientes variables nos arrojarán el total de valores ausentes de las columnas 'days_employed' y 'total_income'.\n",
        "days_emp_isna = df[\"days_employed\"].isnull().sum()\n",
        "total_income_isna = df[\"total_income\"].isnull().sum()\n",
        "\n",
        "print(f'Valores ausentes de la columna \"days_employed\": {days_emp_isna}')\n",
        "print(f'Valores ausentes de la columna \"total_income\": {total_income_isna}')\n",
        "print()\n",
        "\n",
        "# Además filtraremos la tabla para obtener el total de filas que contienen valores ausentes.\n",
        "filas_isna = df.isnull().any(axis=1).sum()\n",
        "print(f'El total de filas que contienen valores ausentes es: {filas_isna}')\n",
        "\n",
        "\n"
      ]
    },
    {
      "cell_type": "markdown",
      "metadata": {
        "id": "S6LlJQUaS-yL"
      },
      "source": [
        "**Conclusión intermedia**\n",
        "\n",
        "El número de valores ausentes de la tabla filtrada coincice con el número de valores ausentes de ambas columnas. Con esto podemo concluir que los valores ausentes son simétricos y que estos se encuentran en la misma ubicación en ambas columnas.\n",
        "\n",
        "A continuación calcularemos el porcentaje de valores ausentes y comprobaremos la distribución, para saber qué acciones tomar respecto a estos valores."
      ]
    },
    {
      "cell_type": "code",
      "execution_count": null,
      "metadata": {
        "id": "qaQ1RsYOS-yL",
        "outputId": "2641d5e8-d790-43f9-8e00-068817476201"
      },
      "outputs": [
        {
          "name": "stdout",
          "output_type": "stream",
          "text": [
            "El porcentaje de valores ausentes respecto al número total de valores en \"days_employed\": 10%\n",
            "El porcentaje de valores ausentes respecto al número total de valores en \"total_income\": 10%\n"
          ]
        }
      ],
      "source": [
        "# Vamos a investigar a los clientes que no tienen datos sobre la característica identificada y la columna con los valores ausentes\n",
        "\n",
        "# Calculamos el porcentaje de los valores ausentes en comparación con el conjunto de datos completo.**\n",
        "per_days_emp = df[\"days_employed\"].isna().mean()\n",
        "per_total_income = df[\"total_income\"].isna().mean()\n",
        "\n",
        "print(f'El porcentaje de valores ausentes respecto al número total de valores en \"days_employed\": {per_days_emp:.0%}')\n",
        "print(f'El porcentaje de valores ausentes respecto al número total de valores en \"total_income\": {per_total_income:.0%}')\n"
      ]
    },
    {
      "cell_type": "code",
      "execution_count": null,
      "metadata": {
        "id": "TF4-QlWcS-yL",
        "outputId": "56bf7e45-b379-402a-f37f-40bdd296fcff"
      },
      "outputs": [
        {
          "data": {
            "text/plain": [
              " NaN            2174\n",
              "-1580.622577       1\n",
              "-4122.460569       1\n",
              "-2828.237691       1\n",
              "-2636.090517       1\n",
              "                ... \n",
              "-7120.517564       1\n",
              "-2146.884040       1\n",
              "-881.454684        1\n",
              "-794.666350        1\n",
              "-3382.113891       1\n",
              "Name: days_employed, Length: 19352, dtype: int64"
            ]
          },
          "execution_count": 9,
          "metadata": {},
          "output_type": "execute_result"
        }
      ],
      "source": [
        "# Comprobación de la distribución en 'days_employed'.\n",
        "df.days_employed.value_counts(dropna=False)"
      ]
    },
    {
      "cell_type": "code",
      "execution_count": null,
      "metadata": {
        "id": "m8pUsqa-S-yM",
        "outputId": "e4817a52-186c-41e3-f5cc-971327de1a51"
      },
      "outputs": [
        {
          "data": {
            "text/plain": [
              "NaN          2174\n",
              "17312.717       2\n",
              "31791.384       2\n",
              "42413.096       2\n",
              "22435.069       1\n",
              "             ... \n",
              "23834.534       1\n",
              "26124.613       1\n",
              "28692.182       1\n",
              "28477.783       1\n",
              "41428.916       1\n",
              "Name: total_income, Length: 19349, dtype: int64"
            ]
          },
          "execution_count": 10,
          "metadata": {},
          "output_type": "execute_result"
        }
      ],
      "source": [
        "# Comprobación de la distribución en 'total_income'.\n",
        "df.total_income.value_counts(dropna=False)"
      ]
    },
    {
      "cell_type": "markdown",
      "metadata": {
        "id": "LUCztSDeS-yM"
      },
      "source": [
        "Como se puede apreciar, ambas columbas poseen 2174 valores ausentes, esto equivale al 10% en ambas columnas examinadas. Si bien la porción de datos ausentes no es grande, reemplazaremos estos valores por otros para que no alteren los resultados de nuestra investigación.\n",
        "\n",
        "**Posibles razones por las que hay valores ausentes en los datos**\n",
        "\n",
        "Una posible razón es que los clientes tengan trabajos más informales en los que no se registran estos tipos de dato, otra posible razón podría ser errores técnicos o de sistema. Además los valos ausentes en \"days_employed\" tiene incidencia en los valores ausentes de \"total_income\". Se entiende que al no haber días de trabajo registrado, no se puede calcular el total de ingresos del cliente.\n"
      ]
    },
    {
      "cell_type": "code",
      "execution_count": null,
      "metadata": {
        "scrolled": true,
        "id": "CM4k5kgvS-yM",
        "outputId": "2a4297cf-af4a-4e37-9d69-17d0ad05c5f1"
      },
      "outputs": [
        {
          "data": {
            "text/html": [
              "<div>\n",
              "<style scoped>\n",
              "    .dataframe tbody tr th:only-of-type {\n",
              "        vertical-align: middle;\n",
              "    }\n",
              "\n",
              "    .dataframe tbody tr th {\n",
              "        vertical-align: top;\n",
              "    }\n",
              "\n",
              "    .dataframe thead th {\n",
              "        text-align: right;\n",
              "    }\n",
              "</style>\n",
              "<table border=\"1\" class=\"dataframe\">\n",
              "  <thead>\n",
              "    <tr style=\"text-align: right;\">\n",
              "      <th></th>\n",
              "      <th>children</th>\n",
              "      <th>days_employed</th>\n",
              "      <th>dob_years</th>\n",
              "      <th>education_id</th>\n",
              "      <th>family_status_id</th>\n",
              "      <th>debt</th>\n",
              "      <th>total_income</th>\n",
              "    </tr>\n",
              "  </thead>\n",
              "  <tbody>\n",
              "    <tr>\n",
              "      <th>count</th>\n",
              "      <td>21525.000000</td>\n",
              "      <td>19351.000000</td>\n",
              "      <td>21525.000000</td>\n",
              "      <td>21525.000000</td>\n",
              "      <td>21525.000000</td>\n",
              "      <td>21525.000000</td>\n",
              "      <td>19351.000000</td>\n",
              "    </tr>\n",
              "    <tr>\n",
              "      <th>mean</th>\n",
              "      <td>0.538908</td>\n",
              "      <td>63046.497661</td>\n",
              "      <td>43.293380</td>\n",
              "      <td>0.817236</td>\n",
              "      <td>0.972544</td>\n",
              "      <td>0.080883</td>\n",
              "      <td>26787.568355</td>\n",
              "    </tr>\n",
              "    <tr>\n",
              "      <th>std</th>\n",
              "      <td>1.381587</td>\n",
              "      <td>140827.311974</td>\n",
              "      <td>12.574584</td>\n",
              "      <td>0.548138</td>\n",
              "      <td>1.420324</td>\n",
              "      <td>0.272661</td>\n",
              "      <td>16475.450632</td>\n",
              "    </tr>\n",
              "    <tr>\n",
              "      <th>min</th>\n",
              "      <td>-1.000000</td>\n",
              "      <td>-18388.949901</td>\n",
              "      <td>0.000000</td>\n",
              "      <td>0.000000</td>\n",
              "      <td>0.000000</td>\n",
              "      <td>0.000000</td>\n",
              "      <td>3306.762000</td>\n",
              "    </tr>\n",
              "    <tr>\n",
              "      <th>25%</th>\n",
              "      <td>0.000000</td>\n",
              "      <td>-2747.423625</td>\n",
              "      <td>33.000000</td>\n",
              "      <td>1.000000</td>\n",
              "      <td>0.000000</td>\n",
              "      <td>0.000000</td>\n",
              "      <td>16488.504500</td>\n",
              "    </tr>\n",
              "    <tr>\n",
              "      <th>50%</th>\n",
              "      <td>0.000000</td>\n",
              "      <td>-1203.369529</td>\n",
              "      <td>42.000000</td>\n",
              "      <td>1.000000</td>\n",
              "      <td>0.000000</td>\n",
              "      <td>0.000000</td>\n",
              "      <td>23202.870000</td>\n",
              "    </tr>\n",
              "    <tr>\n",
              "      <th>75%</th>\n",
              "      <td>1.000000</td>\n",
              "      <td>-291.095954</td>\n",
              "      <td>53.000000</td>\n",
              "      <td>1.000000</td>\n",
              "      <td>1.000000</td>\n",
              "      <td>0.000000</td>\n",
              "      <td>32549.611000</td>\n",
              "    </tr>\n",
              "    <tr>\n",
              "      <th>max</th>\n",
              "      <td>20.000000</td>\n",
              "      <td>401755.400475</td>\n",
              "      <td>75.000000</td>\n",
              "      <td>4.000000</td>\n",
              "      <td>4.000000</td>\n",
              "      <td>1.000000</td>\n",
              "      <td>362496.645000</td>\n",
              "    </tr>\n",
              "  </tbody>\n",
              "</table>\n",
              "</div>"
            ],
            "text/plain": [
              "           children  days_employed     dob_years  education_id  \\\n",
              "count  21525.000000   19351.000000  21525.000000  21525.000000   \n",
              "mean       0.538908   63046.497661     43.293380      0.817236   \n",
              "std        1.381587  140827.311974     12.574584      0.548138   \n",
              "min       -1.000000  -18388.949901      0.000000      0.000000   \n",
              "25%        0.000000   -2747.423625     33.000000      1.000000   \n",
              "50%        0.000000   -1203.369529     42.000000      1.000000   \n",
              "75%        1.000000    -291.095954     53.000000      1.000000   \n",
              "max       20.000000  401755.400475     75.000000      4.000000   \n",
              "\n",
              "       family_status_id          debt   total_income  \n",
              "count      21525.000000  21525.000000   19351.000000  \n",
              "mean           0.972544      0.080883   26787.568355  \n",
              "std            1.420324      0.272661   16475.450632  \n",
              "min            0.000000      0.000000    3306.762000  \n",
              "25%            0.000000      0.000000   16488.504500  \n",
              "50%            0.000000      0.000000   23202.870000  \n",
              "75%            1.000000      0.000000   32549.611000  \n",
              "max            4.000000      1.000000  362496.645000  "
            ]
          },
          "execution_count": 11,
          "metadata": {},
          "output_type": "execute_result"
        }
      ],
      "source": [
        "# Comprobando la distribución en el conjunto de datos entero\n",
        "df.describe()"
      ]
    },
    {
      "cell_type": "markdown",
      "metadata": {
        "id": "qoE9tt_BS-yM"
      },
      "source": [
        "**Conclusión intermedia**\n",
        "\n",
        "La distribución tanto la tabla filtrada como en el conjunto datos es la misma. De acuerdo a la información de la celda de arriba todas las columnas poseen la misma cantidad de valores, a excepción de las columnas ya estudiadas que contienen 2174 datos ausentes."
      ]
    },
    {
      "cell_type": "code",
      "execution_count": null,
      "metadata": {
        "id": "DU7Ly09LS-yN",
        "outputId": "f7323f07-05d9-4af6-9923-7789d45f879d"
      },
      "outputs": [
        {
          "data": {
            "text/html": [
              "<div>\n",
              "<style scoped>\n",
              "    .dataframe tbody tr th:only-of-type {\n",
              "        vertical-align: middle;\n",
              "    }\n",
              "\n",
              "    .dataframe tbody tr th {\n",
              "        vertical-align: top;\n",
              "    }\n",
              "\n",
              "    .dataframe thead th {\n",
              "        text-align: right;\n",
              "    }\n",
              "</style>\n",
              "<table border=\"1\" class=\"dataframe\">\n",
              "  <thead>\n",
              "    <tr style=\"text-align: right;\">\n",
              "      <th></th>\n",
              "      <th>children</th>\n",
              "      <th>days_employed</th>\n",
              "      <th>dob_years</th>\n",
              "      <th>education</th>\n",
              "      <th>education_id</th>\n",
              "      <th>family_status</th>\n",
              "      <th>family_status_id</th>\n",
              "      <th>gender</th>\n",
              "      <th>income_type</th>\n",
              "      <th>debt</th>\n",
              "      <th>total_income</th>\n",
              "      <th>purpose</th>\n",
              "    </tr>\n",
              "  </thead>\n",
              "  <tbody>\n",
              "    <tr>\n",
              "      <th>12</th>\n",
              "      <td>0</td>\n",
              "      <td>NaN</td>\n",
              "      <td>65</td>\n",
              "      <td>secondary education</td>\n",
              "      <td>1</td>\n",
              "      <td>civil partnership</td>\n",
              "      <td>1</td>\n",
              "      <td>M</td>\n",
              "      <td>retiree</td>\n",
              "      <td>0</td>\n",
              "      <td>NaN</td>\n",
              "      <td>to have a wedding</td>\n",
              "    </tr>\n",
              "    <tr>\n",
              "      <th>26</th>\n",
              "      <td>0</td>\n",
              "      <td>NaN</td>\n",
              "      <td>41</td>\n",
              "      <td>secondary education</td>\n",
              "      <td>1</td>\n",
              "      <td>married</td>\n",
              "      <td>0</td>\n",
              "      <td>M</td>\n",
              "      <td>civil servant</td>\n",
              "      <td>0</td>\n",
              "      <td>NaN</td>\n",
              "      <td>education</td>\n",
              "    </tr>\n",
              "    <tr>\n",
              "      <th>29</th>\n",
              "      <td>0</td>\n",
              "      <td>NaN</td>\n",
              "      <td>63</td>\n",
              "      <td>secondary education</td>\n",
              "      <td>1</td>\n",
              "      <td>unmarried</td>\n",
              "      <td>4</td>\n",
              "      <td>F</td>\n",
              "      <td>retiree</td>\n",
              "      <td>0</td>\n",
              "      <td>NaN</td>\n",
              "      <td>building a real estate</td>\n",
              "    </tr>\n",
              "    <tr>\n",
              "      <th>41</th>\n",
              "      <td>0</td>\n",
              "      <td>NaN</td>\n",
              "      <td>50</td>\n",
              "      <td>secondary education</td>\n",
              "      <td>1</td>\n",
              "      <td>married</td>\n",
              "      <td>0</td>\n",
              "      <td>F</td>\n",
              "      <td>civil servant</td>\n",
              "      <td>0</td>\n",
              "      <td>NaN</td>\n",
              "      <td>second-hand car purchase</td>\n",
              "    </tr>\n",
              "    <tr>\n",
              "      <th>55</th>\n",
              "      <td>0</td>\n",
              "      <td>NaN</td>\n",
              "      <td>54</td>\n",
              "      <td>secondary education</td>\n",
              "      <td>1</td>\n",
              "      <td>civil partnership</td>\n",
              "      <td>1</td>\n",
              "      <td>F</td>\n",
              "      <td>retiree</td>\n",
              "      <td>1</td>\n",
              "      <td>NaN</td>\n",
              "      <td>to have a wedding</td>\n",
              "    </tr>\n",
              "    <tr>\n",
              "      <th>...</th>\n",
              "      <td>...</td>\n",
              "      <td>...</td>\n",
              "      <td>...</td>\n",
              "      <td>...</td>\n",
              "      <td>...</td>\n",
              "      <td>...</td>\n",
              "      <td>...</td>\n",
              "      <td>...</td>\n",
              "      <td>...</td>\n",
              "      <td>...</td>\n",
              "      <td>...</td>\n",
              "      <td>...</td>\n",
              "    </tr>\n",
              "    <tr>\n",
              "      <th>21489</th>\n",
              "      <td>2</td>\n",
              "      <td>NaN</td>\n",
              "      <td>47</td>\n",
              "      <td>Secondary Education</td>\n",
              "      <td>1</td>\n",
              "      <td>married</td>\n",
              "      <td>0</td>\n",
              "      <td>M</td>\n",
              "      <td>business</td>\n",
              "      <td>0</td>\n",
              "      <td>NaN</td>\n",
              "      <td>purchase of a car</td>\n",
              "    </tr>\n",
              "    <tr>\n",
              "      <th>21495</th>\n",
              "      <td>1</td>\n",
              "      <td>NaN</td>\n",
              "      <td>50</td>\n",
              "      <td>secondary education</td>\n",
              "      <td>1</td>\n",
              "      <td>civil partnership</td>\n",
              "      <td>1</td>\n",
              "      <td>F</td>\n",
              "      <td>employee</td>\n",
              "      <td>0</td>\n",
              "      <td>NaN</td>\n",
              "      <td>wedding ceremony</td>\n",
              "    </tr>\n",
              "    <tr>\n",
              "      <th>21497</th>\n",
              "      <td>0</td>\n",
              "      <td>NaN</td>\n",
              "      <td>48</td>\n",
              "      <td>BACHELOR'S DEGREE</td>\n",
              "      <td>0</td>\n",
              "      <td>married</td>\n",
              "      <td>0</td>\n",
              "      <td>F</td>\n",
              "      <td>business</td>\n",
              "      <td>0</td>\n",
              "      <td>NaN</td>\n",
              "      <td>building a property</td>\n",
              "    </tr>\n",
              "    <tr>\n",
              "      <th>21502</th>\n",
              "      <td>1</td>\n",
              "      <td>NaN</td>\n",
              "      <td>42</td>\n",
              "      <td>secondary education</td>\n",
              "      <td>1</td>\n",
              "      <td>married</td>\n",
              "      <td>0</td>\n",
              "      <td>F</td>\n",
              "      <td>employee</td>\n",
              "      <td>0</td>\n",
              "      <td>NaN</td>\n",
              "      <td>building a real estate</td>\n",
              "    </tr>\n",
              "    <tr>\n",
              "      <th>21510</th>\n",
              "      <td>2</td>\n",
              "      <td>NaN</td>\n",
              "      <td>28</td>\n",
              "      <td>secondary education</td>\n",
              "      <td>1</td>\n",
              "      <td>married</td>\n",
              "      <td>0</td>\n",
              "      <td>F</td>\n",
              "      <td>employee</td>\n",
              "      <td>0</td>\n",
              "      <td>NaN</td>\n",
              "      <td>car purchase</td>\n",
              "    </tr>\n",
              "  </tbody>\n",
              "</table>\n",
              "<p>2174 rows × 12 columns</p>\n",
              "</div>"
            ],
            "text/plain": [
              "       children  days_employed  dob_years            education  education_id  \\\n",
              "12            0            NaN         65  secondary education             1   \n",
              "26            0            NaN         41  secondary education             1   \n",
              "29            0            NaN         63  secondary education             1   \n",
              "41            0            NaN         50  secondary education             1   \n",
              "55            0            NaN         54  secondary education             1   \n",
              "...         ...            ...        ...                  ...           ...   \n",
              "21489         2            NaN         47  Secondary Education             1   \n",
              "21495         1            NaN         50  secondary education             1   \n",
              "21497         0            NaN         48    BACHELOR'S DEGREE             0   \n",
              "21502         1            NaN         42  secondary education             1   \n",
              "21510         2            NaN         28  secondary education             1   \n",
              "\n",
              "           family_status  family_status_id gender    income_type  debt  \\\n",
              "12     civil partnership                 1      M        retiree     0   \n",
              "26               married                 0      M  civil servant     0   \n",
              "29             unmarried                 4      F        retiree     0   \n",
              "41               married                 0      F  civil servant     0   \n",
              "55     civil partnership                 1      F        retiree     1   \n",
              "...                  ...               ...    ...            ...   ...   \n",
              "21489            married                 0      M       business     0   \n",
              "21495  civil partnership                 1      F       employee     0   \n",
              "21497            married                 0      F       business     0   \n",
              "21502            married                 0      F       employee     0   \n",
              "21510            married                 0      F       employee     0   \n",
              "\n",
              "       total_income                   purpose  \n",
              "12              NaN         to have a wedding  \n",
              "26              NaN                 education  \n",
              "29              NaN    building a real estate  \n",
              "41              NaN  second-hand car purchase  \n",
              "55              NaN         to have a wedding  \n",
              "...             ...                       ...  \n",
              "21489           NaN         purchase of a car  \n",
              "21495           NaN          wedding ceremony  \n",
              "21497           NaN       building a property  \n",
              "21502           NaN    building a real estate  \n",
              "21510           NaN              car purchase  \n",
              "\n",
              "[2174 rows x 12 columns]"
            ]
          },
          "execution_count": 12,
          "metadata": {},
          "output_type": "execute_result"
        }
      ],
      "source": [
        "# Comprueba otras razones y patrones que podrían llevar a valores ausentes\n",
        "df[df.isna().any(axis=1)]\n"
      ]
    },
    {
      "cell_type": "markdown",
      "metadata": {
        "id": "DDVexkV7S-yN"
      },
      "source": [
        "**Conclusión intermedia**\n",
        "\n",
        "En la celda de arriba podemos ver la tabla filtrada por valores ausentes, donde podemos confirmar que por cada valor ausente en \"days_employed\" hay un valor ausente en \"total_income\"."
      ]
    },
    {
      "cell_type": "code",
      "execution_count": null,
      "metadata": {
        "scrolled": true,
        "id": "UOIM8EKuS-yN"
      },
      "outputs": [],
      "source": [
        "# Comprobación de otros patrones: explica cuáles"
      ]
    },
    {
      "cell_type": "markdown",
      "metadata": {
        "id": "UK2SJs9vS-yN"
      },
      "source": [
        "**Conclusiones**\n",
        "\n",
        "En conclusión, la cantidad de valores ausentes en las columnas examinadas anteriormente son la misma y se encuentran en las mismas filas, es decir son simétricos.\n",
        "\n",
        "Para abordar los valores ausentes, se calculará la media o mediana de \"days_employed\" y \"total_income\" para poder reemplaarlos.\n",
        "\n",
        "A continuación abordaremos diferentes tipos de problemas tales como: duplicados, diferentes registros, artefactos incorrectos y valores ausentes.\n"
      ]
    },
    {
      "cell_type": "markdown",
      "metadata": {
        "id": "1D-PadBBS-yO"
      },
      "source": [
        "## Transformación de datos\n",
        "\n",
        "Ahora repasaremos cada columna para ver qué problemas podemos encontrar en ellas. En primer lugar analizaremos la columna \"education\", aliminaremos sus duplicados y lo que sea necesario corregir.\n",
        "\n"
      ]
    },
    {
      "cell_type": "code",
      "execution_count": null,
      "metadata": {
        "id": "Ev0_hdxRS-yO",
        "outputId": "5333db72-4cf0-4534-a23b-8d1b0e661327"
      },
      "outputs": [
        {
          "data": {
            "text/plain": [
              "secondary education    13750\n",
              "bachelor's degree       4718\n",
              "SECONDARY EDUCATION      772\n",
              "Secondary Education      711\n",
              "some college             668\n",
              "BACHELOR'S DEGREE        274\n",
              "Bachelor's Degree        268\n",
              "primary education        250\n",
              "Some College              47\n",
              "SOME COLLEGE              29\n",
              "PRIMARY EDUCATION         17\n",
              "Primary Education         15\n",
              "graduate degree            4\n",
              "Graduate Degree            1\n",
              "GRADUATE DEGREE            1\n",
              "Name: education, dtype: int64"
            ]
          },
          "execution_count": 14,
          "metadata": {},
          "output_type": "execute_result"
        }
      ],
      "source": [
        "# Veamos todos los valores en la columna de educación para verificar si será necesario corregir la ortografía y qué habrá que corregir exactamente\n",
        "df.education.value_counts()"
      ]
    },
    {
      "cell_type": "markdown",
      "metadata": {
        "id": "JpTtH4bxS-yO"
      },
      "source": [
        "A continuación mormalizamos los valores."
      ]
    },
    {
      "cell_type": "code",
      "execution_count": null,
      "metadata": {
        "scrolled": true,
        "id": "2H2q-FdcS-yO"
      },
      "outputs": [],
      "source": [
        "# Corregir registros\n",
        "df[\"education\"] = df.education.str.lower()\n"
      ]
    },
    {
      "cell_type": "code",
      "execution_count": null,
      "metadata": {
        "id": "1YCvMzmiS-yO",
        "outputId": "78ef9237-70ce-4a70-c397-dcfd63859ac5"
      },
      "outputs": [
        {
          "data": {
            "text/plain": [
              "secondary education    15233\n",
              "bachelor's degree       5260\n",
              "some college             744\n",
              "primary education        282\n",
              "graduate degree            6\n",
              "Name: education, dtype: int64"
            ]
          },
          "execution_count": 16,
          "metadata": {},
          "output_type": "execute_result"
        }
      ],
      "source": [
        "# Comprobar todos los valores en la columna para asegurarnos de que los hayamos corregido\n",
        "df.education.value_counts()"
      ]
    },
    {
      "cell_type": "markdown",
      "metadata": {
        "id": "ZMhVEZbXS-yX"
      },
      "source": [
        "A continuación comprobaremos los datos de la columna \"children\"."
      ]
    },
    {
      "cell_type": "code",
      "execution_count": null,
      "metadata": {
        "scrolled": true,
        "id": "c5SC135VS-yX",
        "outputId": "9b96f125-c0e0-4b05-e98f-56b8ed0b7dec"
      },
      "outputs": [
        {
          "data": {
            "text/plain": [
              " 0     14149\n",
              " 1      4818\n",
              " 2      2055\n",
              " 3       330\n",
              " 20       76\n",
              "-1        47\n",
              " 4        41\n",
              " 5         9\n",
              "Name: children, dtype: int64"
            ]
          },
          "execution_count": 17,
          "metadata": {},
          "output_type": "execute_result"
        }
      ],
      "source": [
        "# Veamos la distribución de los valores en la columna `children`\n",
        "df.children.value_counts()"
      ]
    },
    {
      "cell_type": "markdown",
      "metadata": {
        "id": "9OhKAYLGS-yX"
      },
      "source": [
        "El primer factor extraño que podemos notar es que hay 47 elementos en negativo, que en este caso sería el número de hijos. Otro factor curioso es que hay 76 clientes con una cantidad de 20 hijos, lo que probablemente se trate de un error de tipeo en el que se incluyó un 0 demás."
      ]
    },
    {
      "cell_type": "code",
      "execution_count": null,
      "metadata": {
        "scrolled": true,
        "id": "HGFwYmSAS-yY",
        "outputId": "d74b2f38-0822-4695-bfa1-cb60accfa66a"
      },
      "outputs": [
        {
          "name": "stdout",
          "output_type": "stream",
          "text": [
            "Porcentaje de datos edades negativas: 0.2183507549361208%\n"
          ]
        }
      ],
      "source": [
        "# Ahora calcularemos el porcentaje de error de los valores negativos.\n",
        "df_neg = df[\"children\"] == -1\n",
        "child_neg = df[df_neg]\n",
        "por_child_neg = (len(child_neg) / len(df[\"children\"]))*100\n",
        "print(f'Porcentaje de datos edades negativas: {por_child_neg}%')\n"
      ]
    },
    {
      "cell_type": "code",
      "execution_count": null,
      "metadata": {
        "id": "n4SXeN5bS-yY",
        "outputId": "fdd773a0-a0ef-49f5-e43e-c284de313942"
      },
      "outputs": [
        {
          "name": "stdout",
          "output_type": "stream",
          "text": [
            "Porcentaje de error 20 hijos: 0.3530778164924506%\n"
          ]
        }
      ],
      "source": [
        "# Y el porcentaje de error de la cantidad de 20 hijos.\n",
        "df_excess = df[\"children\"] == 20\n",
        "child_excess = df[df_excess]\n",
        "por_child_excess = (len(child_excess) / len(df[\"children\"]))*100\n",
        "print(f'Porcentaje de error 20 hijos: {por_child_excess}%')\n"
      ]
    },
    {
      "cell_type": "markdown",
      "metadata": {
        "id": "0ODGxZ69S-yY"
      },
      "source": [
        "El porcentaje de edades negativas es de 0.21% y del extraño valor es de 20 hijos es 0.35%.\n",
        "\n",
        "Al parecer son errores de tipeo, dejaremos los valores negativos en positivos y los 20 los reemplazaremos por 2."
      ]
    },
    {
      "cell_type": "code",
      "execution_count": null,
      "metadata": {
        "id": "pVRA5CpnS-yY"
      },
      "outputs": [],
      "source": [
        "# Corregir los valores negativos\n",
        "df[\"children\"] = df[\"children\"].abs()"
      ]
    },
    {
      "cell_type": "code",
      "execution_count": null,
      "metadata": {
        "id": "7zmdNnwDS-yZ"
      },
      "outputs": [],
      "source": [
        "#reemplazamos 20 por 2\n",
        "df.children = df.children.replace(20, 2)\n"
      ]
    },
    {
      "cell_type": "code",
      "execution_count": null,
      "metadata": {
        "id": "V5pwHVh_S-yZ",
        "outputId": "cb435bf1-b2ef-4c0d-9549-01dfb1490f12"
      },
      "outputs": [
        {
          "data": {
            "text/plain": [
              "0    14149\n",
              "1     4865\n",
              "2     2131\n",
              "3      330\n",
              "4       41\n",
              "5        9\n",
              "Name: children, dtype: int64"
            ]
          },
          "execution_count": 22,
          "metadata": {},
          "output_type": "execute_result"
        }
      ],
      "source": [
        "# Comprobar la columna `children` de nuevo para asegurarnos de que todo está arreglado.\n",
        "df.children.value_counts()"
      ]
    },
    {
      "cell_type": "markdown",
      "metadata": {
        "id": "rsONNU41S-yZ"
      },
      "source": [
        "A continuación comprobaremos los datos de la columna 'days_employed'."
      ]
    },
    {
      "cell_type": "code",
      "execution_count": null,
      "metadata": {
        "id": "GDwzqOzUS-yZ",
        "outputId": "637afa95-df4b-481c-9f58-362efadd5325"
      },
      "outputs": [
        {
          "data": {
            "text/plain": [
              " NaN            2174\n",
              "-1580.622577       1\n",
              "-4122.460569       1\n",
              "-2828.237691       1\n",
              "-2636.090517       1\n",
              "                ... \n",
              "-7120.517564       1\n",
              "-2146.884040       1\n",
              "-881.454684        1\n",
              "-794.666350        1\n",
              "-3382.113891       1\n",
              "Name: days_employed, Length: 19352, dtype: int64"
            ]
          },
          "execution_count": 23,
          "metadata": {},
          "output_type": "execute_result"
        }
      ],
      "source": [
        "# Encuentra datos problemáticos en `days_employed`, si existen, y calcula el porcentaje.\n",
        "df.days_employed.value_counts(dropna=False)\n"
      ]
    },
    {
      "cell_type": "code",
      "execution_count": null,
      "metadata": {
        "id": "FCXED7w7S-yZ",
        "outputId": "0eca23ca-267d-4d17-bd18-4f7c4c2778a8"
      },
      "outputs": [
        {
          "name": "stdout",
          "output_type": "stream",
          "text": [
            "Porcentaje de datos problemáticos: 0.7389547038327526%\n"
          ]
        }
      ],
      "source": [
        "df_days_neg = (df[\"days_employed\"] < 0).mean()\n",
        "print(f'Porcentaje de datos problemáticos: {df_days_neg}%')"
      ]
    },
    {
      "cell_type": "markdown",
      "metadata": {
        "id": "7NopPncGS-yZ"
      },
      "source": [
        "Como mencionamos anteriormente, en esta columna hay valores ausentes, que abordaremos más adelante en el informe. Por otro lado, nos encontramos con que el 74% de los días laborales están en números negativos, que es un porcentaje alto. Con esto podemos deducir que esto debió suceder por problemas técnicos. De este modo, dejaremos los valores en positivo."
      ]
    },
    {
      "cell_type": "code",
      "execution_count": null,
      "metadata": {
        "id": "vXFN07roS-ya"
      },
      "outputs": [],
      "source": [
        "# Corregir valores negativos en \"days_employed\".\n",
        "df[\"days_employed\"] = df.days_employed.abs()"
      ]
    },
    {
      "cell_type": "code",
      "execution_count": null,
      "metadata": {
        "id": "6nVusfHnS-ya",
        "outputId": "bed10cf5-46b1-4857-f67c-3b73b5b8b6df"
      },
      "outputs": [
        {
          "name": "stdout",
          "output_type": "stream",
          "text": [
            "NaN              2174\n",
            "5849.845620         1\n",
            "2539.534295         1\n",
            "390574.985524       1\n",
            "891.505415          1\n",
            "                 ... \n",
            "2325.720832         1\n",
            "4086.407828         1\n",
            "1259.497032         1\n",
            "985.798488          1\n",
            "1636.419775         1\n",
            "Name: days_employed, Length: 19352, dtype: int64\n",
            "\n",
            "count     19351.000000\n",
            "mean      66914.728907\n",
            "std      139030.880527\n",
            "min          24.141633\n",
            "25%         927.009265\n",
            "50%        2194.220567\n",
            "75%        5537.882441\n",
            "max      401755.400475\n",
            "Name: days_employed, dtype: float64\n"
          ]
        }
      ],
      "source": [
        "# Comprueba el resultado - nos aseguramos de que esté arreglado       FALTA CORREGIR\n",
        "print(df.days_employed.value_counts(dropna=False))\n",
        "print()\n",
        "print(df.days_employed.describe())"
      ]
    },
    {
      "cell_type": "markdown",
      "metadata": {
        "id": "Xsj3w-qES-ya"
      },
      "source": [
        "Ahora que hemos eliminado los valores negativos, también podemos notar que existen valores anormalmente altos que deberemos abordar. Probablemente fue un error de tipeo al igual que los otros errores que vimos."
      ]
    },
    {
      "cell_type": "code",
      "execution_count": null,
      "metadata": {
        "id": "17YBHs8XS-ya"
      },
      "outputs": [],
      "source": [
        "dias_max = (df[\"dob_years\"].max()-18)*335\n",
        "\n",
        "dias_max #el número máximo debería ser este, no 401755.400475 por lo que\n",
        "\n",
        "dias_mean = df[\"dob_years\"].mean()"
      ]
    },
    {
      "cell_type": "markdown",
      "metadata": {
        "id": "QLcamyQ6S-ya"
      },
      "source": [
        "En este caso se decide multiplicar por 335 la edad de las personas -18, considerando que la edad de trabajo legal es desde los 18. Utilizamos 335 debido a que representa aproximadamente la cantidad de días laborales por año"
      ]
    },
    {
      "cell_type": "code",
      "execution_count": null,
      "metadata": {
        "id": "kA2-baTmS-ya"
      },
      "outputs": [],
      "source": [
        "# Aquí abordaremos los valores anormalmente altos\n",
        "df.loc[(df['days_employed'] > dias_max) & (df['dob_years'] != 0), 'days_employed'] = (df['dob_years'])*335\n",
        "df.loc[df['dob_years'] == 0, 'days_employed'] = dias_mean"
      ]
    },
    {
      "cell_type": "code",
      "execution_count": null,
      "metadata": {
        "id": "jsQNY17HS-yb",
        "outputId": "d1b6550d-8365-4610-bc7f-14b6c1bafcfe"
      },
      "outputs": [
        {
          "name": "stdout",
          "output_type": "stream",
          "text": [
            "0         8437.673028\n",
            "1         4024.803754\n",
            "2         5623.422610\n",
            "3         4124.747207\n",
            "4        17755.000000\n",
            "             ...     \n",
            "21520     4529.316663\n",
            "21521    22445.000000\n",
            "21522     2113.346888\n",
            "21523     3112.481705\n",
            "21524     1984.507589\n",
            "Name: days_employed, Length: 21525, dtype: float64\n",
            "\n",
            "count    19361.000000\n",
            "mean      5449.258367\n",
            "std       7080.604967\n",
            "min         24.141633\n",
            "25%        913.510675\n",
            "50%       2177.391045\n",
            "75%       5504.936976\n",
            "max      24790.000000\n",
            "Name: days_employed, dtype: float64\n"
          ]
        }
      ],
      "source": [
        "# Comprobamos que esté arreglado\n",
        "print(df['days_employed'])\n",
        "print()\n",
        "print(df.days_employed.describe())"
      ]
    },
    {
      "cell_type": "markdown",
      "metadata": {
        "id": "mcASL18gS-yb"
      },
      "source": [
        "Ahora analizaremos las edades de los clientes en la columna 'dob_years', para ver si hay valores extraños."
      ]
    },
    {
      "cell_type": "code",
      "execution_count": null,
      "metadata": {
        "scrolled": false,
        "id": "uhjKVtl1S-yb",
        "outputId": "a19ec035-4ab8-4aff-97d7-3a91f9cde7e4"
      },
      "outputs": [
        {
          "data": {
            "text/plain": [
              "35    617\n",
              "40    609\n",
              "41    607\n",
              "34    603\n",
              "38    598\n",
              "42    597\n",
              "33    581\n",
              "39    573\n",
              "31    560\n",
              "36    555\n",
              "44    547\n",
              "29    545\n",
              "30    540\n",
              "48    538\n",
              "37    537\n",
              "50    514\n",
              "43    513\n",
              "32    510\n",
              "49    508\n",
              "28    503\n",
              "45    497\n",
              "27    493\n",
              "56    487\n",
              "52    484\n",
              "47    480\n",
              "54    479\n",
              "46    475\n",
              "58    461\n",
              "57    460\n",
              "53    459\n",
              "51    448\n",
              "59    444\n",
              "55    443\n",
              "26    408\n",
              "60    377\n",
              "25    357\n",
              "61    355\n",
              "62    352\n",
              "63    269\n",
              "64    265\n",
              "24    264\n",
              "23    254\n",
              "65    194\n",
              "66    183\n",
              "22    183\n",
              "67    167\n",
              "21    111\n",
              "0     101\n",
              "68     99\n",
              "69     85\n",
              "70     65\n",
              "71     58\n",
              "20     51\n",
              "72     33\n",
              "19     14\n",
              "73      8\n",
              "74      6\n",
              "75      1\n",
              "Name: dob_years, dtype: int64"
            ]
          },
          "execution_count": 30,
          "metadata": {},
          "output_type": "execute_result"
        }
      ],
      "source": [
        "# Revisa `dob_years` en busca de valores sospechosos y cuenta el porcentaje\n",
        "df[\"dob_years\"].value_counts()\n"
      ]
    },
    {
      "cell_type": "code",
      "execution_count": null,
      "metadata": {
        "id": "PNbrU9DaS-yb",
        "outputId": "f86b27f0-cab0-42a8-e5bd-153ada426004"
      },
      "outputs": [
        {
          "name": "stdout",
          "output_type": "stream",
          "text": [
            "Porcentaje de valores extraños: 0.469222%\n"
          ]
        }
      ],
      "source": [
        "# Porcentaje de valores extraños\n",
        "dob = (101 / df[\"dob_years\"].value_counts().sum())\n",
        "\n",
        "print(f'Porcentaje de valores extraños: {dob:%}')"
      ]
    },
    {
      "cell_type": "markdown",
      "metadata": {
        "id": "r3UJO27bS-yc"
      },
      "source": [
        "De acuerdo a la tabla, hay 101 clientes con una edad de 0, que corresponde a un 0.46% de valores extraños. Debido a que no hay valores atípicos importantes en la columna, reemplazaremos estos valores extraños por la mediana de las edades como el indicador adecuado, de modo que no altere los resultados de nuestra investigación."
      ]
    },
    {
      "cell_type": "code",
      "execution_count": null,
      "metadata": {
        "id": "QCF-_K1RS-yc"
      },
      "outputs": [],
      "source": [
        "# Resuelve los problemas en la columna `dob_years`, si existen\n",
        "# Aquí reemplazamos las edades de 0 por la mediana\n",
        "years_median = df.dob_years.median().astype(int)\n",
        "df.dob_years = df.dob_years.replace([0], [years_median])\n"
      ]
    },
    {
      "cell_type": "code",
      "execution_count": null,
      "metadata": {
        "id": "fyoVwNPSS-yc",
        "outputId": "76273392-d9c0-420e-8fe5-621e12caf788"
      },
      "outputs": [
        {
          "name": "stdout",
          "output_type": "stream",
          "text": [
            "42    698\n",
            "35    617\n",
            "40    609\n",
            "41    607\n",
            "34    603\n",
            "38    598\n",
            "33    581\n",
            "39    573\n",
            "31    560\n",
            "36    555\n",
            "44    547\n",
            "29    545\n",
            "30    540\n",
            "48    538\n",
            "37    537\n",
            "50    514\n",
            "43    513\n",
            "32    510\n",
            "49    508\n",
            "28    503\n",
            "45    497\n",
            "27    493\n",
            "56    487\n",
            "52    484\n",
            "47    480\n",
            "54    479\n",
            "46    475\n",
            "58    461\n",
            "57    460\n",
            "53    459\n",
            "51    448\n",
            "59    444\n",
            "55    443\n",
            "26    408\n",
            "60    377\n",
            "25    357\n",
            "61    355\n",
            "62    352\n",
            "63    269\n",
            "64    265\n",
            "24    264\n",
            "23    254\n",
            "65    194\n",
            "22    183\n",
            "66    183\n",
            "67    167\n",
            "21    111\n",
            "68     99\n",
            "69     85\n",
            "70     65\n",
            "71     58\n",
            "20     51\n",
            "72     33\n",
            "19     14\n",
            "73      8\n",
            "74      6\n",
            "75      1\n",
            "Name: dob_years, dtype: int64\n",
            "\n",
            "count    21525.000000\n",
            "mean        43.490453\n",
            "std         12.218595\n",
            "min         19.000000\n",
            "25%         34.000000\n",
            "50%         42.000000\n",
            "75%         53.000000\n",
            "max         75.000000\n",
            "Name: dob_years, dtype: float64\n"
          ]
        }
      ],
      "source": [
        "# Comprueba el resultado - asegúrate de que esté arreglado\n",
        "print(df.dob_years.value_counts())\n",
        "print()\n",
        "print(df.dob_years.describe())"
      ]
    },
    {
      "cell_type": "markdown",
      "metadata": {
        "id": "hjG6SOUqS-yc"
      },
      "source": [
        "Ahora echaremos un vistazo a la columna 'family_status'."
      ]
    },
    {
      "cell_type": "code",
      "execution_count": null,
      "metadata": {
        "id": "tqadJsdCS-yd",
        "outputId": "542ef0ea-442c-4b54-a944-2d44073f1223"
      },
      "outputs": [
        {
          "data": {
            "text/plain": [
              "married              12380\n",
              "civil partnership     4177\n",
              "unmarried             2813\n",
              "divorced              1195\n",
              "widow / widower        960\n",
              "Name: family_status, dtype: int64"
            ]
          },
          "execution_count": 34,
          "metadata": {},
          "output_type": "execute_result"
        }
      ],
      "source": [
        "# Veamos los valores de la columna\n",
        "df[\"family_status\"].value_counts()\n"
      ]
    },
    {
      "cell_type": "code",
      "execution_count": null,
      "metadata": {
        "id": "3Iv46attS-yd",
        "outputId": "4aa0417f-ecc2-44eb-f0b6-f35c549d7370"
      },
      "outputs": [
        {
          "name": "stdout",
          "output_type": "stream",
          "text": [
            "['married' 'civil_partnership' 'widow_or_widower' 'divorced' 'unmarried']\n"
          ]
        }
      ],
      "source": [
        "#Aquí reemplazaremos los espacios de los valores con 'snake_case'\n",
        "\n",
        "df[\"family_status\"] = df[\"family_status\"].replace('civil partnership', 'civil_partnership')\n",
        "df[\"family_status\"] = df[\"family_status\"].replace('widow / widower', 'widow_or_widower')\n",
        "print(df.family_status.unique())"
      ]
    },
    {
      "cell_type": "markdown",
      "metadata": {
        "id": "yIN9gj1nS-yd"
      },
      "source": [
        "En esta columna se eliminaron los espacios de los valores \"civil partnership\" y \"widow / widower\". Por otra parte no encontramos más problemas."
      ]
    },
    {
      "cell_type": "markdown",
      "metadata": {
        "id": "aSAtQmZGS-ye"
      },
      "source": [
        "A contiuación analizaremos la columna 'gender'."
      ]
    },
    {
      "cell_type": "code",
      "execution_count": null,
      "metadata": {
        "id": "6rtBBJUfS-ye",
        "outputId": "45a4def2-c55b-4a4b-a945-79689c42a747"
      },
      "outputs": [
        {
          "data": {
            "text/plain": [
              "F      14236\n",
              "M       7288\n",
              "XNA        1\n",
              "Name: gender, dtype: int64"
            ]
          },
          "execution_count": 36,
          "metadata": {},
          "output_type": "execute_result"
        }
      ],
      "source": [
        "# Veamos los valores en la columna\n",
        "df.gender.value_counts()\n"
      ]
    },
    {
      "cell_type": "markdown",
      "metadata": {
        "id": "ZscbBI-ES-ye"
      },
      "source": [
        "En esta columna solo hay 1 género desconocido, al ser una porción minúscula de los datos, la eliminaremos, además no tenemos ningún indicio de qué género podría ser. Esto no afectará al resultado de nuestra investigación."
      ]
    },
    {
      "cell_type": "code",
      "execution_count": null,
      "metadata": {
        "id": "ofFiId3rS-yf"
      },
      "outputs": [],
      "source": [
        "# Resuelve los problemas en la columna `gender`, si existen\n",
        "df.drop(df.index[df[\"gender\"] == \"XNA\"],axis=0,inplace=True)"
      ]
    },
    {
      "cell_type": "code",
      "execution_count": null,
      "metadata": {
        "id": "kefBDAeES-yf",
        "outputId": "7a360c6a-050e-4528-8f5f-0402f50ac76c"
      },
      "outputs": [
        {
          "data": {
            "text/plain": [
              "F    14236\n",
              "M     7288\n",
              "Name: gender, dtype: int64"
            ]
          },
          "execution_count": 38,
          "metadata": {},
          "output_type": "execute_result"
        }
      ],
      "source": [
        "# Comprueba el resultado - asegúrate de que esté arreglado\n",
        "df.gender.value_counts()"
      ]
    },
    {
      "cell_type": "markdown",
      "metadata": {
        "id": "S7spMWK7S-yf"
      },
      "source": [
        "Ahora veremos si hay datos extraños en la columna 'income_type'."
      ]
    },
    {
      "cell_type": "code",
      "execution_count": null,
      "metadata": {
        "id": "LoE8lNnaS-yg",
        "outputId": "2db3d883-47ff-4962-ebca-b2d8b604e711"
      },
      "outputs": [
        {
          "data": {
            "text/plain": [
              "employee                       11119\n",
              "business                        5084\n",
              "retiree                         3856\n",
              "civil servant                   1459\n",
              "entrepreneur                       2\n",
              "unemployed                         2\n",
              "paternity / maternity leave        1\n",
              "student                            1\n",
              "Name: income_type, dtype: int64"
            ]
          },
          "execution_count": 39,
          "metadata": {},
          "output_type": "execute_result"
        }
      ],
      "source": [
        "# Veamos los valores en la columna\n",
        "df[\"income_type\"].value_counts()\n"
      ]
    },
    {
      "cell_type": "markdown",
      "metadata": {
        "id": "03mRDl_9S-yg"
      },
      "source": [
        "En esta columna tampoco hemos encontramos valores extraños, más allá de algunos valores poco comunes pero posibles."
      ]
    },
    {
      "cell_type": "markdown",
      "metadata": {
        "id": "IaREgLkCS-yg"
      },
      "source": [
        "A continuación veremos si hay duplicados en los datos."
      ]
    },
    {
      "cell_type": "code",
      "execution_count": null,
      "metadata": {
        "scrolled": false,
        "id": "ea8shHJnS-yh",
        "outputId": "ae4a560f-2ae1-4c24-fa41-dd139260a3a4"
      },
      "outputs": [
        {
          "data": {
            "text/plain": [
              "71"
            ]
          },
          "execution_count": 40,
          "metadata": {},
          "output_type": "execute_result"
        }
      ],
      "source": [
        "# Comprobar los duplicados\n",
        "df.duplicated().sum()"
      ]
    },
    {
      "cell_type": "code",
      "execution_count": null,
      "metadata": {
        "id": "N9tjS2tMS-yh"
      },
      "outputs": [],
      "source": [
        "# Aborda los duplicados, si existen\n",
        "## también reseteamos los índices para mantener el orden\n",
        "df = df.drop_duplicates().reset_index()"
      ]
    },
    {
      "cell_type": "markdown",
      "metadata": {
        "id": "5R274NBrS-yh"
      },
      "source": [
        "<div class=\"alert alert-info\">\n",
        "<h1> Comentarios del estudiante</h1>\n",
        "Listo!\n",
        "</div>"
      ]
    },
    {
      "cell_type": "code",
      "execution_count": null,
      "metadata": {
        "id": "ey-Gi4ZaS-yh",
        "outputId": "b1c3814d-b21b-4059-fe10-a4808177ef22"
      },
      "outputs": [
        {
          "data": {
            "text/plain": [
              "0"
            ]
          },
          "execution_count": 42,
          "metadata": {},
          "output_type": "execute_result"
        }
      ],
      "source": [
        "# Última comprobación para ver si tenemos duplicados\n",
        "df.duplicated().sum()"
      ]
    },
    {
      "cell_type": "code",
      "execution_count": null,
      "metadata": {
        "id": "DxrKPU7-S-yh",
        "outputId": "4d82f1d2-424e-4423-ba09-404976b18c76"
      },
      "outputs": [
        {
          "data": {
            "text/plain": [
              "(21453, 13)"
            ]
          },
          "execution_count": 43,
          "metadata": {},
          "output_type": "execute_result"
        }
      ],
      "source": [
        "# Comprueba el tamaño del conjunto de datos que tienes ahora, después de haber ejecutado estas primeras manipulaciones\n",
        "df.shape"
      ]
    },
    {
      "cell_type": "code",
      "execution_count": null,
      "metadata": {
        "id": "NZKHh42BS-yh",
        "outputId": "9f340276-9d7f-49b1-8a1b-adc55c1325de"
      },
      "outputs": [
        {
          "name": "stdout",
          "output_type": "stream",
          "text": [
            "Porcentaje de datos duplicados: 0.32984901277584205%\n"
          ]
        }
      ],
      "source": [
        "dup = (71/21525)*100\n",
        "print(f\"Porcentaje de datos duplicados: {dup}%\")"
      ]
    },
    {
      "cell_type": "markdown",
      "metadata": {
        "id": "1jxIzk-XS-yi"
      },
      "source": [
        "Ahora nuesta tabla consiste en 21454 filas y 12 columnas, el porcentaje de datos duplicados eliminados fue de 0.33%. Esta es una porción minúscula de los datos totales por lo que no afectará en nuestra investigación."
      ]
    },
    {
      "cell_type": "markdown",
      "metadata": {
        "id": "b3bKxzmmS-yi"
      },
      "source": [
        "# Trabajar con valores ausentes"
      ]
    },
    {
      "cell_type": "markdown",
      "metadata": {
        "id": "rPRJGLaVS-yi"
      },
      "source": [
        "Ahora trabajaremos con con los diccionarios de las columnas 'education_id' y 'family_status_id, ya que proporcionan IDs que nos podrían ayudar a acelerar nuestro trabajo."
      ]
    },
    {
      "cell_type": "code",
      "execution_count": null,
      "metadata": {
        "scrolled": true,
        "id": "2aC_7L16S-yi",
        "outputId": "3d159679-d1fc-4bc9-b77f-741551fe49f1"
      },
      "outputs": [
        {
          "data": {
            "text/plain": [
              "{\"bachelor's degree\": 0,\n",
              " 'secondary education': 1,\n",
              " 'some college': 2,\n",
              " 'primary education': 3,\n",
              " 'graduate degree': 4}"
            ]
          },
          "execution_count": 45,
          "metadata": {},
          "output_type": "execute_result"
        }
      ],
      "source": [
        "# Encuentra los diccionarios\n",
        "## Diccionario de 'education'\n",
        "education_dict = zip(df.education, df.education_id)\n",
        "education_dict = list(education_dict)\n",
        "education_dict = dict(education_dict)\n",
        "education_dict\n",
        "\n"
      ]
    },
    {
      "cell_type": "code",
      "execution_count": null,
      "metadata": {
        "id": "KeNonoqIS-yi",
        "outputId": "eaf8978e-7306-46d7-9e2f-4c81c8e10f18"
      },
      "outputs": [
        {
          "data": {
            "text/plain": [
              "{'married': 0,\n",
              " 'civil_partnership': 1,\n",
              " 'widow_or_widower': 2,\n",
              " 'divorced': 3,\n",
              " 'unmarried': 4}"
            ]
          },
          "execution_count": 46,
          "metadata": {},
          "output_type": "execute_result"
        }
      ],
      "source": [
        "## Diccionario de 'family_status'\n",
        "family_status_dict = zip(df.family_status, df.family_status_id)\n",
        "family_status_dict = list(family_status_dict)\n",
        "family_status_dict = dict(family_status_dict)\n",
        "family_status_dict"
      ]
    },
    {
      "cell_type": "markdown",
      "metadata": {
        "id": "qFdeND76S-yj"
      },
      "source": [
        "### Restaurar valores ausentes en `total_income`"
      ]
    },
    {
      "cell_type": "markdown",
      "metadata": {
        "id": "YYm8xichS-yj"
      },
      "source": [
        "A continuación abordaremos las columnas con valores ausentes 'day_employed' y 'total_income'.\n",
        "\n",
        "Primero abordaremos la columna 'total_income'. Para esto crearemos una nueva columna con categorías de las edades de los clientes, lo que nos podría ayudar a calcular los valores ausentes de 'total_income'.\n"
      ]
    },
    {
      "cell_type": "code",
      "execution_count": null,
      "metadata": {
        "id": "vuSmgCMgS-yj"
      },
      "outputs": [],
      "source": [
        "# Vamos a escribir una función que calcule la categoría de edad\n",
        "def age_group(age):\n",
        "    if 19 <= age <= 30:\n",
        "        return '19_to_30'\n",
        "    if 31 <= age <= 40:\n",
        "        return '31_to_40'\n",
        "    if 41 <= age <= 50:\n",
        "        return '41_to_50'\n",
        "    if 51 <= age <= 60:\n",
        "        return '51_to_60'\n",
        "    if 61 <= age <= 70:\n",
        "        return '61_to_70'\n",
        "    if 71 <= age <= 80:\n",
        "        return '71_to_80'\n",
        "    else:\n",
        "        return 'unknown'"
      ]
    },
    {
      "cell_type": "code",
      "execution_count": null,
      "metadata": {
        "id": "y0LvRtF3S-yj",
        "outputId": "b0fe16f8-634c-4c29-a0c7-e7c058470cb2"
      },
      "outputs": [
        {
          "name": "stdout",
          "output_type": "stream",
          "text": [
            "19_to_30\n",
            "51_to_60\n",
            "71_to_80\n"
          ]
        }
      ],
      "source": [
        "# Prueba si la función funciona bien\n",
        "print(age_group(19))\n",
        "print(age_group(58))\n",
        "print(age_group(71))"
      ]
    },
    {
      "cell_type": "code",
      "execution_count": null,
      "metadata": {
        "id": "WHEnzttIS-yj"
      },
      "outputs": [],
      "source": [
        "# Crear una nueva columna basada en la función\n",
        "df[\"age_group\"] = df[\"dob_years\"].apply(age_group)"
      ]
    },
    {
      "cell_type": "code",
      "execution_count": null,
      "metadata": {
        "id": "2sIKJkwPS-yj",
        "outputId": "67e815f1-657d-42ba-8d0d-1e688f753089"
      },
      "outputs": [
        {
          "data": {
            "text/plain": [
              "0    41_to_50\n",
              "1    31_to_40\n",
              "2    31_to_40\n",
              "3    31_to_40\n",
              "4    51_to_60\n",
              "Name: age_group, dtype: object"
            ]
          },
          "execution_count": 50,
          "metadata": {},
          "output_type": "execute_result"
        }
      ],
      "source": [
        "# Comprobar cómo los valores en la nueva columna\n",
        "df.age_group.head()\n"
      ]
    },
    {
      "cell_type": "markdown",
      "metadata": {
        "id": "eprovv6pS-yk"
      },
      "source": [
        "Sin duda algunos de los factores que afectan a los ingresos totales son: 'education', 'dob_years', 'income_type' y 'gender'. Por otro lado, para definir si utilizaremos la media o mediana al reemplazar los valores ausentes, veremos la distribución de los factores que pueden tener impacto en los ingresos totales.\n"
      ]
    },
    {
      "cell_type": "markdown",
      "metadata": {
        "id": "mMcpuuzAS-yk"
      },
      "source": [
        "A continuación crearemos una tabla sin valores ausentes. Estos datos se utilizarán para restaurar los valores ausentes."
      ]
    },
    {
      "cell_type": "code",
      "execution_count": null,
      "metadata": {
        "scrolled": false,
        "id": "XEjp17TsS-yk",
        "outputId": "90e14585-7738-4502-db83-66ae8f84edb0"
      },
      "outputs": [
        {
          "data": {
            "text/html": [
              "<div>\n",
              "<style scoped>\n",
              "    .dataframe tbody tr th:only-of-type {\n",
              "        vertical-align: middle;\n",
              "    }\n",
              "\n",
              "    .dataframe tbody tr th {\n",
              "        vertical-align: top;\n",
              "    }\n",
              "\n",
              "    .dataframe thead th {\n",
              "        text-align: right;\n",
              "    }\n",
              "</style>\n",
              "<table border=\"1\" class=\"dataframe\">\n",
              "  <thead>\n",
              "    <tr style=\"text-align: right;\">\n",
              "      <th></th>\n",
              "      <th>index</th>\n",
              "      <th>children</th>\n",
              "      <th>days_employed</th>\n",
              "      <th>dob_years</th>\n",
              "      <th>education</th>\n",
              "      <th>education_id</th>\n",
              "      <th>family_status</th>\n",
              "      <th>family_status_id</th>\n",
              "      <th>gender</th>\n",
              "      <th>income_type</th>\n",
              "      <th>debt</th>\n",
              "      <th>total_income</th>\n",
              "      <th>purpose</th>\n",
              "      <th>age_group</th>\n",
              "    </tr>\n",
              "  </thead>\n",
              "  <tbody>\n",
              "    <tr>\n",
              "      <th>0</th>\n",
              "      <td>0</td>\n",
              "      <td>1</td>\n",
              "      <td>8437.673028</td>\n",
              "      <td>42</td>\n",
              "      <td>bachelor's degree</td>\n",
              "      <td>0</td>\n",
              "      <td>married</td>\n",
              "      <td>0</td>\n",
              "      <td>F</td>\n",
              "      <td>employee</td>\n",
              "      <td>0</td>\n",
              "      <td>40620.102</td>\n",
              "      <td>purchase of the house</td>\n",
              "      <td>41_to_50</td>\n",
              "    </tr>\n",
              "    <tr>\n",
              "      <th>1</th>\n",
              "      <td>1</td>\n",
              "      <td>1</td>\n",
              "      <td>4024.803754</td>\n",
              "      <td>36</td>\n",
              "      <td>secondary education</td>\n",
              "      <td>1</td>\n",
              "      <td>married</td>\n",
              "      <td>0</td>\n",
              "      <td>F</td>\n",
              "      <td>employee</td>\n",
              "      <td>0</td>\n",
              "      <td>17932.802</td>\n",
              "      <td>car purchase</td>\n",
              "      <td>31_to_40</td>\n",
              "    </tr>\n",
              "    <tr>\n",
              "      <th>2</th>\n",
              "      <td>2</td>\n",
              "      <td>0</td>\n",
              "      <td>5623.422610</td>\n",
              "      <td>33</td>\n",
              "      <td>secondary education</td>\n",
              "      <td>1</td>\n",
              "      <td>married</td>\n",
              "      <td>0</td>\n",
              "      <td>M</td>\n",
              "      <td>employee</td>\n",
              "      <td>0</td>\n",
              "      <td>23341.752</td>\n",
              "      <td>purchase of the house</td>\n",
              "      <td>31_to_40</td>\n",
              "    </tr>\n",
              "    <tr>\n",
              "      <th>3</th>\n",
              "      <td>3</td>\n",
              "      <td>3</td>\n",
              "      <td>4124.747207</td>\n",
              "      <td>32</td>\n",
              "      <td>secondary education</td>\n",
              "      <td>1</td>\n",
              "      <td>married</td>\n",
              "      <td>0</td>\n",
              "      <td>M</td>\n",
              "      <td>employee</td>\n",
              "      <td>0</td>\n",
              "      <td>42820.568</td>\n",
              "      <td>supplementary education</td>\n",
              "      <td>31_to_40</td>\n",
              "    </tr>\n",
              "    <tr>\n",
              "      <th>4</th>\n",
              "      <td>4</td>\n",
              "      <td>0</td>\n",
              "      <td>17755.000000</td>\n",
              "      <td>53</td>\n",
              "      <td>secondary education</td>\n",
              "      <td>1</td>\n",
              "      <td>civil_partnership</td>\n",
              "      <td>1</td>\n",
              "      <td>F</td>\n",
              "      <td>retiree</td>\n",
              "      <td>0</td>\n",
              "      <td>25378.572</td>\n",
              "      <td>to have a wedding</td>\n",
              "      <td>51_to_60</td>\n",
              "    </tr>\n",
              "    <tr>\n",
              "      <th>5</th>\n",
              "      <td>5</td>\n",
              "      <td>0</td>\n",
              "      <td>926.185831</td>\n",
              "      <td>27</td>\n",
              "      <td>bachelor's degree</td>\n",
              "      <td>0</td>\n",
              "      <td>civil_partnership</td>\n",
              "      <td>1</td>\n",
              "      <td>M</td>\n",
              "      <td>business</td>\n",
              "      <td>0</td>\n",
              "      <td>40922.170</td>\n",
              "      <td>purchase of the house</td>\n",
              "      <td>19_to_30</td>\n",
              "    </tr>\n",
              "    <tr>\n",
              "      <th>6</th>\n",
              "      <td>6</td>\n",
              "      <td>0</td>\n",
              "      <td>2879.202052</td>\n",
              "      <td>43</td>\n",
              "      <td>bachelor's degree</td>\n",
              "      <td>0</td>\n",
              "      <td>married</td>\n",
              "      <td>0</td>\n",
              "      <td>F</td>\n",
              "      <td>business</td>\n",
              "      <td>0</td>\n",
              "      <td>38484.156</td>\n",
              "      <td>housing transactions</td>\n",
              "      <td>41_to_50</td>\n",
              "    </tr>\n",
              "    <tr>\n",
              "      <th>7</th>\n",
              "      <td>7</td>\n",
              "      <td>0</td>\n",
              "      <td>152.779569</td>\n",
              "      <td>50</td>\n",
              "      <td>secondary education</td>\n",
              "      <td>1</td>\n",
              "      <td>married</td>\n",
              "      <td>0</td>\n",
              "      <td>M</td>\n",
              "      <td>employee</td>\n",
              "      <td>0</td>\n",
              "      <td>21731.829</td>\n",
              "      <td>education</td>\n",
              "      <td>41_to_50</td>\n",
              "    </tr>\n",
              "    <tr>\n",
              "      <th>8</th>\n",
              "      <td>8</td>\n",
              "      <td>2</td>\n",
              "      <td>6929.865299</td>\n",
              "      <td>35</td>\n",
              "      <td>bachelor's degree</td>\n",
              "      <td>0</td>\n",
              "      <td>civil_partnership</td>\n",
              "      <td>1</td>\n",
              "      <td>F</td>\n",
              "      <td>employee</td>\n",
              "      <td>0</td>\n",
              "      <td>15337.093</td>\n",
              "      <td>having a wedding</td>\n",
              "      <td>31_to_40</td>\n",
              "    </tr>\n",
              "    <tr>\n",
              "      <th>9</th>\n",
              "      <td>9</td>\n",
              "      <td>0</td>\n",
              "      <td>2188.756445</td>\n",
              "      <td>41</td>\n",
              "      <td>secondary education</td>\n",
              "      <td>1</td>\n",
              "      <td>married</td>\n",
              "      <td>0</td>\n",
              "      <td>M</td>\n",
              "      <td>employee</td>\n",
              "      <td>0</td>\n",
              "      <td>23108.150</td>\n",
              "      <td>purchase of the house for my family</td>\n",
              "      <td>41_to_50</td>\n",
              "    </tr>\n",
              "    <tr>\n",
              "      <th>10</th>\n",
              "      <td>10</td>\n",
              "      <td>2</td>\n",
              "      <td>4171.483647</td>\n",
              "      <td>36</td>\n",
              "      <td>bachelor's degree</td>\n",
              "      <td>0</td>\n",
              "      <td>married</td>\n",
              "      <td>0</td>\n",
              "      <td>M</td>\n",
              "      <td>business</td>\n",
              "      <td>0</td>\n",
              "      <td>18230.959</td>\n",
              "      <td>buy real estate</td>\n",
              "      <td>31_to_40</td>\n",
              "    </tr>\n",
              "    <tr>\n",
              "      <th>11</th>\n",
              "      <td>11</td>\n",
              "      <td>0</td>\n",
              "      <td>792.701887</td>\n",
              "      <td>40</td>\n",
              "      <td>secondary education</td>\n",
              "      <td>1</td>\n",
              "      <td>married</td>\n",
              "      <td>0</td>\n",
              "      <td>F</td>\n",
              "      <td>employee</td>\n",
              "      <td>0</td>\n",
              "      <td>12331.077</td>\n",
              "      <td>buy commercial real estate</td>\n",
              "      <td>31_to_40</td>\n",
              "    </tr>\n",
              "    <tr>\n",
              "      <th>13</th>\n",
              "      <td>13</td>\n",
              "      <td>0</td>\n",
              "      <td>1846.641941</td>\n",
              "      <td>54</td>\n",
              "      <td>some college</td>\n",
              "      <td>2</td>\n",
              "      <td>married</td>\n",
              "      <td>0</td>\n",
              "      <td>F</td>\n",
              "      <td>employee</td>\n",
              "      <td>0</td>\n",
              "      <td>20873.317</td>\n",
              "      <td>car purchase</td>\n",
              "      <td>51_to_60</td>\n",
              "    </tr>\n",
              "    <tr>\n",
              "      <th>14</th>\n",
              "      <td>14</td>\n",
              "      <td>0</td>\n",
              "      <td>1844.956182</td>\n",
              "      <td>56</td>\n",
              "      <td>bachelor's degree</td>\n",
              "      <td>0</td>\n",
              "      <td>civil_partnership</td>\n",
              "      <td>1</td>\n",
              "      <td>F</td>\n",
              "      <td>business</td>\n",
              "      <td>1</td>\n",
              "      <td>26420.466</td>\n",
              "      <td>buy residential real estate</td>\n",
              "      <td>51_to_60</td>\n",
              "    </tr>\n",
              "    <tr>\n",
              "      <th>15</th>\n",
              "      <td>15</td>\n",
              "      <td>1</td>\n",
              "      <td>972.364419</td>\n",
              "      <td>26</td>\n",
              "      <td>secondary education</td>\n",
              "      <td>1</td>\n",
              "      <td>married</td>\n",
              "      <td>0</td>\n",
              "      <td>F</td>\n",
              "      <td>employee</td>\n",
              "      <td>0</td>\n",
              "      <td>18691.345</td>\n",
              "      <td>construction of own property</td>\n",
              "      <td>19_to_30</td>\n",
              "    </tr>\n",
              "  </tbody>\n",
              "</table>\n",
              "</div>"
            ],
            "text/plain": [
              "    index  children  days_employed  dob_years            education  \\\n",
              "0       0         1    8437.673028         42    bachelor's degree   \n",
              "1       1         1    4024.803754         36  secondary education   \n",
              "2       2         0    5623.422610         33  secondary education   \n",
              "3       3         3    4124.747207         32  secondary education   \n",
              "4       4         0   17755.000000         53  secondary education   \n",
              "5       5         0     926.185831         27    bachelor's degree   \n",
              "6       6         0    2879.202052         43    bachelor's degree   \n",
              "7       7         0     152.779569         50  secondary education   \n",
              "8       8         2    6929.865299         35    bachelor's degree   \n",
              "9       9         0    2188.756445         41  secondary education   \n",
              "10     10         2    4171.483647         36    bachelor's degree   \n",
              "11     11         0     792.701887         40  secondary education   \n",
              "13     13         0    1846.641941         54         some college   \n",
              "14     14         0    1844.956182         56    bachelor's degree   \n",
              "15     15         1     972.364419         26  secondary education   \n",
              "\n",
              "    education_id      family_status  family_status_id gender income_type  \\\n",
              "0              0            married                 0      F    employee   \n",
              "1              1            married                 0      F    employee   \n",
              "2              1            married                 0      M    employee   \n",
              "3              1            married                 0      M    employee   \n",
              "4              1  civil_partnership                 1      F     retiree   \n",
              "5              0  civil_partnership                 1      M    business   \n",
              "6              0            married                 0      F    business   \n",
              "7              1            married                 0      M    employee   \n",
              "8              0  civil_partnership                 1      F    employee   \n",
              "9              1            married                 0      M    employee   \n",
              "10             0            married                 0      M    business   \n",
              "11             1            married                 0      F    employee   \n",
              "13             2            married                 0      F    employee   \n",
              "14             0  civil_partnership                 1      F    business   \n",
              "15             1            married                 0      F    employee   \n",
              "\n",
              "    debt  total_income                              purpose age_group  \n",
              "0      0     40620.102                purchase of the house  41_to_50  \n",
              "1      0     17932.802                         car purchase  31_to_40  \n",
              "2      0     23341.752                purchase of the house  31_to_40  \n",
              "3      0     42820.568              supplementary education  31_to_40  \n",
              "4      0     25378.572                    to have a wedding  51_to_60  \n",
              "5      0     40922.170                purchase of the house  19_to_30  \n",
              "6      0     38484.156                 housing transactions  41_to_50  \n",
              "7      0     21731.829                            education  41_to_50  \n",
              "8      0     15337.093                     having a wedding  31_to_40  \n",
              "9      0     23108.150  purchase of the house for my family  41_to_50  \n",
              "10     0     18230.959                      buy real estate  31_to_40  \n",
              "11     0     12331.077           buy commercial real estate  31_to_40  \n",
              "13     0     20873.317                         car purchase  51_to_60  \n",
              "14     1     26420.466          buy residential real estate  51_to_60  \n",
              "15     0     18691.345         construction of own property  19_to_30  "
            ]
          },
          "execution_count": 51,
          "metadata": {},
          "output_type": "execute_result"
        }
      ],
      "source": [
        "# Crea una tabla sin valores ausentes y muestra algunas de sus filas para asegurarte de que se ve bien\n",
        "df_notnull = df[df['total_income'].notnull()]\n",
        "df_notnull.head(15)\n"
      ]
    },
    {
      "cell_type": "markdown",
      "metadata": {
        "id": "p4Ym0AOES-yk"
      },
      "source": [
        "Ahora examinaremos los valores medios y medianos en función a los factores identificados.\n",
        "\n",
        "## Comenzaremos con 'education', ya que el nivel de educación en la mayoría de veces tiene una incidencia directa en los ingresos de las personas."
      ]
    },
    {
      "cell_type": "code",
      "execution_count": null,
      "metadata": {
        "scrolled": true,
        "id": "5jzzmRwtS-yk",
        "outputId": "0ea8a4c7-c0d7-4cfc-af79-a0e07db54d07"
      },
      "outputs": [
        {
          "data": {
            "text/html": [
              "<div>\n",
              "<style scoped>\n",
              "    .dataframe tbody tr th:only-of-type {\n",
              "        vertical-align: middle;\n",
              "    }\n",
              "\n",
              "    .dataframe tbody tr th {\n",
              "        vertical-align: top;\n",
              "    }\n",
              "\n",
              "    .dataframe thead tr th {\n",
              "        text-align: left;\n",
              "    }\n",
              "\n",
              "    .dataframe thead tr:last-of-type th {\n",
              "        text-align: right;\n",
              "    }\n",
              "</style>\n",
              "<table border=\"1\" class=\"dataframe\">\n",
              "  <thead>\n",
              "    <tr>\n",
              "      <th></th>\n",
              "      <th colspan=\"2\" halign=\"left\">total_income</th>\n",
              "    </tr>\n",
              "    <tr>\n",
              "      <th></th>\n",
              "      <th>mean</th>\n",
              "      <th>median</th>\n",
              "    </tr>\n",
              "    <tr>\n",
              "      <th>education</th>\n",
              "      <th></th>\n",
              "      <th></th>\n",
              "    </tr>\n",
              "  </thead>\n",
              "  <tbody>\n",
              "    <tr>\n",
              "      <th>bachelor's degree</th>\n",
              "      <td>33142.802434</td>\n",
              "      <td>28054.5310</td>\n",
              "    </tr>\n",
              "    <tr>\n",
              "      <th>graduate degree</th>\n",
              "      <td>27960.024667</td>\n",
              "      <td>25161.5835</td>\n",
              "    </tr>\n",
              "    <tr>\n",
              "      <th>primary education</th>\n",
              "      <td>21144.882211</td>\n",
              "      <td>18741.9760</td>\n",
              "    </tr>\n",
              "    <tr>\n",
              "      <th>secondary education</th>\n",
              "      <td>24594.503037</td>\n",
              "      <td>21836.5830</td>\n",
              "    </tr>\n",
              "    <tr>\n",
              "      <th>some college</th>\n",
              "      <td>29040.132990</td>\n",
              "      <td>25608.7945</td>\n",
              "    </tr>\n",
              "  </tbody>\n",
              "</table>\n",
              "</div>"
            ],
            "text/plain": [
              "                     total_income            \n",
              "                             mean      median\n",
              "education                                    \n",
              "bachelor's degree    33142.802434  28054.5310\n",
              "graduate degree      27960.024667  25161.5835\n",
              "primary education    21144.882211  18741.9760\n",
              "secondary education  24594.503037  21836.5830\n",
              "some college         29040.132990  25608.7945"
            ]
          },
          "execution_count": 52,
          "metadata": {},
          "output_type": "execute_result"
        }
      ],
      "source": [
        "# Examina los valores medios y medianos de los ingresos en función de los factores que identificaste\n",
        "## Valores medios y medianos en función a 'education'\n",
        "education_mean_median = df_notnull.groupby('education').agg({'total_income' : ['mean', 'median']})\n",
        "education_mean_median\n"
      ]
    },
    {
      "cell_type": "markdown",
      "metadata": {
        "id": "DvqSPqjDS-yk"
      },
      "source": [
        "Claramente, entre un empresario y una persona retirada habrán diferencias significativas de ingresos, 'income_type' también es un factor importante."
      ]
    },
    {
      "cell_type": "code",
      "execution_count": null,
      "metadata": {
        "scrolled": true,
        "id": "ogLDL__gS-yk",
        "outputId": "ae0d6779-8b63-4d05-b064-43ad14134002"
      },
      "outputs": [
        {
          "data": {
            "text/html": [
              "<div>\n",
              "<style scoped>\n",
              "    .dataframe tbody tr th:only-of-type {\n",
              "        vertical-align: middle;\n",
              "    }\n",
              "\n",
              "    .dataframe tbody tr th {\n",
              "        vertical-align: top;\n",
              "    }\n",
              "\n",
              "    .dataframe thead tr th {\n",
              "        text-align: left;\n",
              "    }\n",
              "\n",
              "    .dataframe thead tr:last-of-type th {\n",
              "        text-align: right;\n",
              "    }\n",
              "</style>\n",
              "<table border=\"1\" class=\"dataframe\">\n",
              "  <thead>\n",
              "    <tr>\n",
              "      <th></th>\n",
              "      <th colspan=\"2\" halign=\"left\">total_income</th>\n",
              "    </tr>\n",
              "    <tr>\n",
              "      <th></th>\n",
              "      <th>mean</th>\n",
              "      <th>median</th>\n",
              "    </tr>\n",
              "    <tr>\n",
              "      <th>income_type</th>\n",
              "      <th></th>\n",
              "      <th></th>\n",
              "    </tr>\n",
              "  </thead>\n",
              "  <tbody>\n",
              "    <tr>\n",
              "      <th>business</th>\n",
              "      <td>32386.741818</td>\n",
              "      <td>27571.0825</td>\n",
              "    </tr>\n",
              "    <tr>\n",
              "      <th>civil servant</th>\n",
              "      <td>27343.729582</td>\n",
              "      <td>24071.6695</td>\n",
              "    </tr>\n",
              "    <tr>\n",
              "      <th>employee</th>\n",
              "      <td>25820.841683</td>\n",
              "      <td>22815.1035</td>\n",
              "    </tr>\n",
              "    <tr>\n",
              "      <th>entrepreneur</th>\n",
              "      <td>79866.103000</td>\n",
              "      <td>79866.1030</td>\n",
              "    </tr>\n",
              "    <tr>\n",
              "      <th>paternity / maternity leave</th>\n",
              "      <td>8612.661000</td>\n",
              "      <td>8612.6610</td>\n",
              "    </tr>\n",
              "    <tr>\n",
              "      <th>retiree</th>\n",
              "      <td>21940.394503</td>\n",
              "      <td>18962.3180</td>\n",
              "    </tr>\n",
              "    <tr>\n",
              "      <th>student</th>\n",
              "      <td>15712.260000</td>\n",
              "      <td>15712.2600</td>\n",
              "    </tr>\n",
              "    <tr>\n",
              "      <th>unemployed</th>\n",
              "      <td>21014.360500</td>\n",
              "      <td>21014.3605</td>\n",
              "    </tr>\n",
              "  </tbody>\n",
              "</table>\n",
              "</div>"
            ],
            "text/plain": [
              "                             total_income            \n",
              "                                     mean      median\n",
              "income_type                                          \n",
              "business                     32386.741818  27571.0825\n",
              "civil servant                27343.729582  24071.6695\n",
              "employee                     25820.841683  22815.1035\n",
              "entrepreneur                 79866.103000  79866.1030\n",
              "paternity / maternity leave   8612.661000   8612.6610\n",
              "retiree                      21940.394503  18962.3180\n",
              "student                      15712.260000  15712.2600\n",
              "unemployed                   21014.360500  21014.3605"
            ]
          },
          "execution_count": 53,
          "metadata": {},
          "output_type": "execute_result"
        }
      ],
      "source": [
        "## Valores medios y medianos en función a 'income_type'\n",
        "income_type_mean_median = df_notnull.groupby('income_type').agg({'total_income' : ['mean', 'median']})\n",
        "income_type_mean_median"
      ]
    },
    {
      "cell_type": "markdown",
      "metadata": {
        "id": "Y71s-TigS-yk"
      },
      "source": [
        "Una mayor edad significa más experiencia laboral y más tiempo de trabajo, por lo que 'dob_years' será otro factor a considerar."
      ]
    },
    {
      "cell_type": "code",
      "execution_count": null,
      "metadata": {
        "scrolled": false,
        "id": "xbRBki_ZS-yl",
        "outputId": "b45b9c7d-8b65-45fc-d057-f25d0af6d352"
      },
      "outputs": [
        {
          "data": {
            "text/html": [
              "<div>\n",
              "<style scoped>\n",
              "    .dataframe tbody tr th:only-of-type {\n",
              "        vertical-align: middle;\n",
              "    }\n",
              "\n",
              "    .dataframe tbody tr th {\n",
              "        vertical-align: top;\n",
              "    }\n",
              "\n",
              "    .dataframe thead tr th {\n",
              "        text-align: left;\n",
              "    }\n",
              "\n",
              "    .dataframe thead tr:last-of-type th {\n",
              "        text-align: right;\n",
              "    }\n",
              "</style>\n",
              "<table border=\"1\" class=\"dataframe\">\n",
              "  <thead>\n",
              "    <tr>\n",
              "      <th></th>\n",
              "      <th colspan=\"2\" halign=\"left\">total_income</th>\n",
              "    </tr>\n",
              "    <tr>\n",
              "      <th></th>\n",
              "      <th>mean</th>\n",
              "      <th>median</th>\n",
              "    </tr>\n",
              "    <tr>\n",
              "      <th>dob_years</th>\n",
              "      <th></th>\n",
              "      <th></th>\n",
              "    </tr>\n",
              "  </thead>\n",
              "  <tbody>\n",
              "    <tr>\n",
              "      <th>19</th>\n",
              "      <td>16993.942462</td>\n",
              "      <td>14934.9010</td>\n",
              "    </tr>\n",
              "    <tr>\n",
              "      <th>20</th>\n",
              "      <td>20318.927348</td>\n",
              "      <td>17520.3290</td>\n",
              "    </tr>\n",
              "    <tr>\n",
              "      <th>21</th>\n",
              "      <td>22980.763140</td>\n",
              "      <td>20522.5150</td>\n",
              "    </tr>\n",
              "    <tr>\n",
              "      <th>22</th>\n",
              "      <td>22374.508572</td>\n",
              "      <td>19839.3410</td>\n",
              "    </tr>\n",
              "    <tr>\n",
              "      <th>23</th>\n",
              "      <td>22154.104601</td>\n",
              "      <td>19706.0455</td>\n",
              "    </tr>\n",
              "    <tr>\n",
              "      <th>24</th>\n",
              "      <td>24036.031306</td>\n",
              "      <td>22461.0545</td>\n",
              "    </tr>\n",
              "    <tr>\n",
              "      <th>25</th>\n",
              "      <td>25211.566611</td>\n",
              "      <td>22899.0990</td>\n",
              "    </tr>\n",
              "    <tr>\n",
              "      <th>26</th>\n",
              "      <td>25272.935834</td>\n",
              "      <td>23273.1360</td>\n",
              "    </tr>\n",
              "    <tr>\n",
              "      <th>27</th>\n",
              "      <td>28337.678400</td>\n",
              "      <td>24708.6790</td>\n",
              "    </tr>\n",
              "    <tr>\n",
              "      <th>28</th>\n",
              "      <td>26349.611370</td>\n",
              "      <td>23946.0940</td>\n",
              "    </tr>\n",
              "    <tr>\n",
              "      <th>29</th>\n",
              "      <td>27079.430236</td>\n",
              "      <td>23458.8230</td>\n",
              "    </tr>\n",
              "    <tr>\n",
              "      <th>30</th>\n",
              "      <td>27515.250983</td>\n",
              "      <td>23511.1470</td>\n",
              "    </tr>\n",
              "    <tr>\n",
              "      <th>31</th>\n",
              "      <td>27821.969285</td>\n",
              "      <td>23796.6030</td>\n",
              "    </tr>\n",
              "    <tr>\n",
              "      <th>32</th>\n",
              "      <td>26785.196366</td>\n",
              "      <td>24200.6250</td>\n",
              "    </tr>\n",
              "    <tr>\n",
              "      <th>33</th>\n",
              "      <td>29056.748851</td>\n",
              "      <td>25046.2160</td>\n",
              "    </tr>\n",
              "    <tr>\n",
              "      <th>34</th>\n",
              "      <td>28494.735794</td>\n",
              "      <td>24857.4340</td>\n",
              "    </tr>\n",
              "    <tr>\n",
              "      <th>35</th>\n",
              "      <td>28466.247208</td>\n",
              "      <td>24983.2600</td>\n",
              "    </tr>\n",
              "    <tr>\n",
              "      <th>36</th>\n",
              "      <td>29188.621323</td>\n",
              "      <td>25389.0370</td>\n",
              "    </tr>\n",
              "    <tr>\n",
              "      <th>37</th>\n",
              "      <td>29333.582450</td>\n",
              "      <td>25669.4635</td>\n",
              "    </tr>\n",
              "    <tr>\n",
              "      <th>38</th>\n",
              "      <td>26911.508520</td>\n",
              "      <td>24234.6725</td>\n",
              "    </tr>\n",
              "    <tr>\n",
              "      <th>39</th>\n",
              "      <td>29480.114443</td>\n",
              "      <td>23908.6645</td>\n",
              "    </tr>\n",
              "    <tr>\n",
              "      <th>40</th>\n",
              "      <td>28216.595871</td>\n",
              "      <td>25336.0120</td>\n",
              "    </tr>\n",
              "    <tr>\n",
              "      <th>41</th>\n",
              "      <td>28392.780697</td>\n",
              "      <td>23770.1140</td>\n",
              "    </tr>\n",
              "    <tr>\n",
              "      <th>42</th>\n",
              "      <td>28937.395806</td>\n",
              "      <td>25178.0750</td>\n",
              "    </tr>\n",
              "    <tr>\n",
              "      <th>43</th>\n",
              "      <td>29560.121983</td>\n",
              "      <td>24283.8230</td>\n",
              "    </tr>\n",
              "    <tr>\n",
              "      <th>44</th>\n",
              "      <td>28450.777831</td>\n",
              "      <td>24368.4640</td>\n",
              "    </tr>\n",
              "    <tr>\n",
              "      <th>45</th>\n",
              "      <td>27776.057729</td>\n",
              "      <td>24663.6220</td>\n",
              "    </tr>\n",
              "    <tr>\n",
              "      <th>46</th>\n",
              "      <td>29840.888162</td>\n",
              "      <td>25189.7720</td>\n",
              "    </tr>\n",
              "    <tr>\n",
              "      <th>47</th>\n",
              "      <td>27085.061746</td>\n",
              "      <td>24495.6710</td>\n",
              "    </tr>\n",
              "    <tr>\n",
              "      <th>48</th>\n",
              "      <td>28356.987124</td>\n",
              "      <td>25438.2915</td>\n",
              "    </tr>\n",
              "    <tr>\n",
              "      <th>49</th>\n",
              "      <td>28175.576526</td>\n",
              "      <td>24589.9565</td>\n",
              "    </tr>\n",
              "    <tr>\n",
              "      <th>50</th>\n",
              "      <td>26503.901125</td>\n",
              "      <td>22740.0690</td>\n",
              "    </tr>\n",
              "    <tr>\n",
              "      <th>51</th>\n",
              "      <td>27235.088231</td>\n",
              "      <td>23221.1770</td>\n",
              "    </tr>\n",
              "    <tr>\n",
              "      <th>52</th>\n",
              "      <td>26885.204232</td>\n",
              "      <td>22728.7560</td>\n",
              "    </tr>\n",
              "    <tr>\n",
              "      <th>53</th>\n",
              "      <td>26806.469492</td>\n",
              "      <td>22559.8500</td>\n",
              "    </tr>\n",
              "    <tr>\n",
              "      <th>54</th>\n",
              "      <td>24994.539358</td>\n",
              "      <td>21907.7055</td>\n",
              "    </tr>\n",
              "    <tr>\n",
              "      <th>55</th>\n",
              "      <td>24839.611838</td>\n",
              "      <td>21299.6570</td>\n",
              "    </tr>\n",
              "    <tr>\n",
              "      <th>56</th>\n",
              "      <td>25864.341051</td>\n",
              "      <td>22259.1530</td>\n",
              "    </tr>\n",
              "    <tr>\n",
              "      <th>57</th>\n",
              "      <td>24857.686252</td>\n",
              "      <td>22096.5880</td>\n",
              "    </tr>\n",
              "    <tr>\n",
              "      <th>58</th>\n",
              "      <td>25184.870919</td>\n",
              "      <td>21466.1100</td>\n",
              "    </tr>\n",
              "    <tr>\n",
              "      <th>59</th>\n",
              "      <td>24798.136002</td>\n",
              "      <td>21896.7745</td>\n",
              "    </tr>\n",
              "    <tr>\n",
              "      <th>60</th>\n",
              "      <td>22816.682873</td>\n",
              "      <td>20185.7630</td>\n",
              "    </tr>\n",
              "    <tr>\n",
              "      <th>61</th>\n",
              "      <td>24307.529019</td>\n",
              "      <td>20629.8410</td>\n",
              "    </tr>\n",
              "    <tr>\n",
              "      <th>62</th>\n",
              "      <td>23814.644334</td>\n",
              "      <td>21181.2660</td>\n",
              "    </tr>\n",
              "    <tr>\n",
              "      <th>63</th>\n",
              "      <td>22895.602629</td>\n",
              "      <td>19832.3730</td>\n",
              "    </tr>\n",
              "    <tr>\n",
              "      <th>64</th>\n",
              "      <td>25884.393232</td>\n",
              "      <td>21372.1895</td>\n",
              "    </tr>\n",
              "    <tr>\n",
              "      <th>65</th>\n",
              "      <td>24274.798201</td>\n",
              "      <td>19669.4650</td>\n",
              "    </tr>\n",
              "    <tr>\n",
              "      <th>66</th>\n",
              "      <td>21075.015963</td>\n",
              "      <td>17867.7550</td>\n",
              "    </tr>\n",
              "    <tr>\n",
              "      <th>67</th>\n",
              "      <td>22069.313391</td>\n",
              "      <td>18024.9680</td>\n",
              "    </tr>\n",
              "    <tr>\n",
              "      <th>68</th>\n",
              "      <td>20242.143478</td>\n",
              "      <td>18113.3420</td>\n",
              "    </tr>\n",
              "    <tr>\n",
              "      <th>69</th>\n",
              "      <td>19856.012638</td>\n",
              "      <td>16690.0775</td>\n",
              "    </tr>\n",
              "    <tr>\n",
              "      <th>70</th>\n",
              "      <td>20995.335629</td>\n",
              "      <td>18889.9720</td>\n",
              "    </tr>\n",
              "    <tr>\n",
              "      <th>71</th>\n",
              "      <td>20669.747736</td>\n",
              "      <td>19669.4870</td>\n",
              "    </tr>\n",
              "    <tr>\n",
              "      <th>72</th>\n",
              "      <td>19011.407290</td>\n",
              "      <td>17757.6840</td>\n",
              "    </tr>\n",
              "    <tr>\n",
              "      <th>73</th>\n",
              "      <td>18397.396429</td>\n",
              "      <td>19070.4780</td>\n",
              "    </tr>\n",
              "    <tr>\n",
              "      <th>74</th>\n",
              "      <td>13372.878167</td>\n",
              "      <td>12296.0520</td>\n",
              "    </tr>\n",
              "    <tr>\n",
              "      <th>75</th>\n",
              "      <td>24525.224000</td>\n",
              "      <td>24525.2240</td>\n",
              "    </tr>\n",
              "  </tbody>\n",
              "</table>\n",
              "</div>"
            ],
            "text/plain": [
              "           total_income            \n",
              "                   mean      median\n",
              "dob_years                          \n",
              "19         16993.942462  14934.9010\n",
              "20         20318.927348  17520.3290\n",
              "21         22980.763140  20522.5150\n",
              "22         22374.508572  19839.3410\n",
              "23         22154.104601  19706.0455\n",
              "24         24036.031306  22461.0545\n",
              "25         25211.566611  22899.0990\n",
              "26         25272.935834  23273.1360\n",
              "27         28337.678400  24708.6790\n",
              "28         26349.611370  23946.0940\n",
              "29         27079.430236  23458.8230\n",
              "30         27515.250983  23511.1470\n",
              "31         27821.969285  23796.6030\n",
              "32         26785.196366  24200.6250\n",
              "33         29056.748851  25046.2160\n",
              "34         28494.735794  24857.4340\n",
              "35         28466.247208  24983.2600\n",
              "36         29188.621323  25389.0370\n",
              "37         29333.582450  25669.4635\n",
              "38         26911.508520  24234.6725\n",
              "39         29480.114443  23908.6645\n",
              "40         28216.595871  25336.0120\n",
              "41         28392.780697  23770.1140\n",
              "42         28937.395806  25178.0750\n",
              "43         29560.121983  24283.8230\n",
              "44         28450.777831  24368.4640\n",
              "45         27776.057729  24663.6220\n",
              "46         29840.888162  25189.7720\n",
              "47         27085.061746  24495.6710\n",
              "48         28356.987124  25438.2915\n",
              "49         28175.576526  24589.9565\n",
              "50         26503.901125  22740.0690\n",
              "51         27235.088231  23221.1770\n",
              "52         26885.204232  22728.7560\n",
              "53         26806.469492  22559.8500\n",
              "54         24994.539358  21907.7055\n",
              "55         24839.611838  21299.6570\n",
              "56         25864.341051  22259.1530\n",
              "57         24857.686252  22096.5880\n",
              "58         25184.870919  21466.1100\n",
              "59         24798.136002  21896.7745\n",
              "60         22816.682873  20185.7630\n",
              "61         24307.529019  20629.8410\n",
              "62         23814.644334  21181.2660\n",
              "63         22895.602629  19832.3730\n",
              "64         25884.393232  21372.1895\n",
              "65         24274.798201  19669.4650\n",
              "66         21075.015963  17867.7550\n",
              "67         22069.313391  18024.9680\n",
              "68         20242.143478  18113.3420\n",
              "69         19856.012638  16690.0775\n",
              "70         20995.335629  18889.9720\n",
              "71         20669.747736  19669.4870\n",
              "72         19011.407290  17757.6840\n",
              "73         18397.396429  19070.4780\n",
              "74         13372.878167  12296.0520\n",
              "75         24525.224000  24525.2240"
            ]
          },
          "execution_count": 54,
          "metadata": {},
          "output_type": "execute_result"
        }
      ],
      "source": [
        "## Valores medios y medianos en función a 'dob_years'\n",
        "dob_years_mean_median = df_notnull.groupby('dob_years').agg({'total_income' : ['mean', 'median']})\n",
        "dob_years_mean_median"
      ]
    },
    {
      "cell_type": "markdown",
      "metadata": {
        "id": "zjKUXLu3S-yl"
      },
      "source": [
        "El género de los clientes también es un factor diferenciador en sus ingresos."
      ]
    },
    {
      "cell_type": "code",
      "execution_count": null,
      "metadata": {
        "id": "by9sPr2-S-yl",
        "outputId": "74929a5a-0011-4913-dc51-a3332be83bca"
      },
      "outputs": [
        {
          "data": {
            "text/html": [
              "<div>\n",
              "<style scoped>\n",
              "    .dataframe tbody tr th:only-of-type {\n",
              "        vertical-align: middle;\n",
              "    }\n",
              "\n",
              "    .dataframe tbody tr th {\n",
              "        vertical-align: top;\n",
              "    }\n",
              "\n",
              "    .dataframe thead tr th {\n",
              "        text-align: left;\n",
              "    }\n",
              "\n",
              "    .dataframe thead tr:last-of-type th {\n",
              "        text-align: right;\n",
              "    }\n",
              "</style>\n",
              "<table border=\"1\" class=\"dataframe\">\n",
              "  <thead>\n",
              "    <tr>\n",
              "      <th></th>\n",
              "      <th colspan=\"2\" halign=\"left\">total_income</th>\n",
              "    </tr>\n",
              "    <tr>\n",
              "      <th></th>\n",
              "      <th>mean</th>\n",
              "      <th>median</th>\n",
              "    </tr>\n",
              "    <tr>\n",
              "      <th>gender</th>\n",
              "      <th></th>\n",
              "      <th></th>\n",
              "    </tr>\n",
              "  </thead>\n",
              "  <tbody>\n",
              "    <tr>\n",
              "      <th>F</th>\n",
              "      <td>24655.604757</td>\n",
              "      <td>21464.845</td>\n",
              "    </tr>\n",
              "    <tr>\n",
              "      <th>M</th>\n",
              "      <td>30907.144369</td>\n",
              "      <td>26834.295</td>\n",
              "    </tr>\n",
              "  </tbody>\n",
              "</table>\n",
              "</div>"
            ],
            "text/plain": [
              "        total_income           \n",
              "                mean     median\n",
              "gender                         \n",
              "F       24655.604757  21464.845\n",
              "M       30907.144369  26834.295"
            ]
          },
          "execution_count": 55,
          "metadata": {},
          "output_type": "execute_result"
        }
      ],
      "source": [
        "## Valores medios y medianos en función a 'gender'\n",
        "gender_mean_median = df_notnull.groupby('gender').agg({'total_income' : ['mean', 'median']})\n",
        "gender_mean_median"
      ]
    },
    {
      "cell_type": "markdown",
      "metadata": {
        "id": "XIxMLQv4S-yl"
      },
      "source": [
        "En la columna 'total_income' existen ingresos signiticativamente distintos, es decir, son valores atípicos. Debido a esto utilizaremos la mediana para rellenar los valores ausentes de 'total_income'. Para rellenar los valores ausentes utilizaremos la mediana de 'total_income' en función a los valores de la columna 'education'.\n"
      ]
    },
    {
      "cell_type": "code",
      "execution_count": null,
      "metadata": {
        "id": "V6-vTokdS-yl"
      },
      "outputs": [],
      "source": [
        "#  Escribe una función que usaremos para completar los valores ausentes\n",
        "\n",
        "def fillna_by_other_column(df, target_column, column_to_replace, agg = \"mean\"):\n",
        "    grouped = df.groupby(column_to_replace).agg({target_column: [\"mean\",\"median\"]})\n",
        "\n",
        "    for index in grouped.index:\n",
        "        df.loc[df[target_column].isna() & (df[column_to_replace] == index),  target_column] = grouped.loc[index,(target_column, agg)]\n",
        "\n",
        "    return df\n"
      ]
    },
    {
      "cell_type": "code",
      "execution_count": null,
      "metadata": {
        "scrolled": true,
        "id": "eieHQJLLS-yl",
        "outputId": "3dbe8fcf-7db6-4261-e80b-3e5dd6dde001"
      },
      "outputs": [
        {
          "data": {
            "text/html": [
              "<div>\n",
              "<style scoped>\n",
              "    .dataframe tbody tr th:only-of-type {\n",
              "        vertical-align: middle;\n",
              "    }\n",
              "\n",
              "    .dataframe tbody tr th {\n",
              "        vertical-align: top;\n",
              "    }\n",
              "\n",
              "    .dataframe thead th {\n",
              "        text-align: right;\n",
              "    }\n",
              "</style>\n",
              "<table border=\"1\" class=\"dataframe\">\n",
              "  <thead>\n",
              "    <tr style=\"text-align: right;\">\n",
              "      <th></th>\n",
              "      <th>index</th>\n",
              "      <th>children</th>\n",
              "      <th>days_employed</th>\n",
              "      <th>dob_years</th>\n",
              "      <th>education</th>\n",
              "      <th>education_id</th>\n",
              "      <th>family_status</th>\n",
              "      <th>family_status_id</th>\n",
              "      <th>gender</th>\n",
              "      <th>income_type</th>\n",
              "      <th>debt</th>\n",
              "      <th>total_income</th>\n",
              "      <th>purpose</th>\n",
              "      <th>age_group</th>\n",
              "    </tr>\n",
              "  </thead>\n",
              "  <tbody>\n",
              "    <tr>\n",
              "      <th>0</th>\n",
              "      <td>0</td>\n",
              "      <td>1</td>\n",
              "      <td>8437.673028</td>\n",
              "      <td>42</td>\n",
              "      <td>bachelor's degree</td>\n",
              "      <td>0</td>\n",
              "      <td>married</td>\n",
              "      <td>0</td>\n",
              "      <td>F</td>\n",
              "      <td>employee</td>\n",
              "      <td>0</td>\n",
              "      <td>40620.102</td>\n",
              "      <td>purchase of the house</td>\n",
              "      <td>41_to_50</td>\n",
              "    </tr>\n",
              "    <tr>\n",
              "      <th>1</th>\n",
              "      <td>1</td>\n",
              "      <td>1</td>\n",
              "      <td>4024.803754</td>\n",
              "      <td>36</td>\n",
              "      <td>secondary education</td>\n",
              "      <td>1</td>\n",
              "      <td>married</td>\n",
              "      <td>0</td>\n",
              "      <td>F</td>\n",
              "      <td>employee</td>\n",
              "      <td>0</td>\n",
              "      <td>17932.802</td>\n",
              "      <td>car purchase</td>\n",
              "      <td>31_to_40</td>\n",
              "    </tr>\n",
              "    <tr>\n",
              "      <th>2</th>\n",
              "      <td>2</td>\n",
              "      <td>0</td>\n",
              "      <td>5623.422610</td>\n",
              "      <td>33</td>\n",
              "      <td>secondary education</td>\n",
              "      <td>1</td>\n",
              "      <td>married</td>\n",
              "      <td>0</td>\n",
              "      <td>M</td>\n",
              "      <td>employee</td>\n",
              "      <td>0</td>\n",
              "      <td>23341.752</td>\n",
              "      <td>purchase of the house</td>\n",
              "      <td>31_to_40</td>\n",
              "    </tr>\n",
              "    <tr>\n",
              "      <th>3</th>\n",
              "      <td>3</td>\n",
              "      <td>3</td>\n",
              "      <td>4124.747207</td>\n",
              "      <td>32</td>\n",
              "      <td>secondary education</td>\n",
              "      <td>1</td>\n",
              "      <td>married</td>\n",
              "      <td>0</td>\n",
              "      <td>M</td>\n",
              "      <td>employee</td>\n",
              "      <td>0</td>\n",
              "      <td>42820.568</td>\n",
              "      <td>supplementary education</td>\n",
              "      <td>31_to_40</td>\n",
              "    </tr>\n",
              "    <tr>\n",
              "      <th>4</th>\n",
              "      <td>4</td>\n",
              "      <td>0</td>\n",
              "      <td>17755.000000</td>\n",
              "      <td>53</td>\n",
              "      <td>secondary education</td>\n",
              "      <td>1</td>\n",
              "      <td>civil_partnership</td>\n",
              "      <td>1</td>\n",
              "      <td>F</td>\n",
              "      <td>retiree</td>\n",
              "      <td>0</td>\n",
              "      <td>25378.572</td>\n",
              "      <td>to have a wedding</td>\n",
              "      <td>51_to_60</td>\n",
              "    </tr>\n",
              "    <tr>\n",
              "      <th>...</th>\n",
              "      <td>...</td>\n",
              "      <td>...</td>\n",
              "      <td>...</td>\n",
              "      <td>...</td>\n",
              "      <td>...</td>\n",
              "      <td>...</td>\n",
              "      <td>...</td>\n",
              "      <td>...</td>\n",
              "      <td>...</td>\n",
              "      <td>...</td>\n",
              "      <td>...</td>\n",
              "      <td>...</td>\n",
              "      <td>...</td>\n",
              "      <td>...</td>\n",
              "    </tr>\n",
              "    <tr>\n",
              "      <th>21448</th>\n",
              "      <td>21520</td>\n",
              "      <td>1</td>\n",
              "      <td>4529.316663</td>\n",
              "      <td>43</td>\n",
              "      <td>secondary education</td>\n",
              "      <td>1</td>\n",
              "      <td>civil_partnership</td>\n",
              "      <td>1</td>\n",
              "      <td>F</td>\n",
              "      <td>business</td>\n",
              "      <td>0</td>\n",
              "      <td>35966.698</td>\n",
              "      <td>housing transactions</td>\n",
              "      <td>41_to_50</td>\n",
              "    </tr>\n",
              "    <tr>\n",
              "      <th>21449</th>\n",
              "      <td>21521</td>\n",
              "      <td>0</td>\n",
              "      <td>22445.000000</td>\n",
              "      <td>67</td>\n",
              "      <td>secondary education</td>\n",
              "      <td>1</td>\n",
              "      <td>married</td>\n",
              "      <td>0</td>\n",
              "      <td>F</td>\n",
              "      <td>retiree</td>\n",
              "      <td>0</td>\n",
              "      <td>24959.969</td>\n",
              "      <td>purchase of a car</td>\n",
              "      <td>61_to_70</td>\n",
              "    </tr>\n",
              "    <tr>\n",
              "      <th>21450</th>\n",
              "      <td>21522</td>\n",
              "      <td>1</td>\n",
              "      <td>2113.346888</td>\n",
              "      <td>38</td>\n",
              "      <td>secondary education</td>\n",
              "      <td>1</td>\n",
              "      <td>civil_partnership</td>\n",
              "      <td>1</td>\n",
              "      <td>M</td>\n",
              "      <td>employee</td>\n",
              "      <td>1</td>\n",
              "      <td>14347.610</td>\n",
              "      <td>property</td>\n",
              "      <td>31_to_40</td>\n",
              "    </tr>\n",
              "    <tr>\n",
              "      <th>21451</th>\n",
              "      <td>21523</td>\n",
              "      <td>3</td>\n",
              "      <td>3112.481705</td>\n",
              "      <td>38</td>\n",
              "      <td>secondary education</td>\n",
              "      <td>1</td>\n",
              "      <td>married</td>\n",
              "      <td>0</td>\n",
              "      <td>M</td>\n",
              "      <td>employee</td>\n",
              "      <td>1</td>\n",
              "      <td>39054.888</td>\n",
              "      <td>buying my own car</td>\n",
              "      <td>31_to_40</td>\n",
              "    </tr>\n",
              "    <tr>\n",
              "      <th>21452</th>\n",
              "      <td>21524</td>\n",
              "      <td>2</td>\n",
              "      <td>1984.507589</td>\n",
              "      <td>40</td>\n",
              "      <td>secondary education</td>\n",
              "      <td>1</td>\n",
              "      <td>married</td>\n",
              "      <td>0</td>\n",
              "      <td>F</td>\n",
              "      <td>employee</td>\n",
              "      <td>0</td>\n",
              "      <td>13127.587</td>\n",
              "      <td>to buy a car</td>\n",
              "      <td>31_to_40</td>\n",
              "    </tr>\n",
              "  </tbody>\n",
              "</table>\n",
              "<p>21453 rows × 14 columns</p>\n",
              "</div>"
            ],
            "text/plain": [
              "       index  children  days_employed  dob_years            education  \\\n",
              "0          0         1    8437.673028         42    bachelor's degree   \n",
              "1          1         1    4024.803754         36  secondary education   \n",
              "2          2         0    5623.422610         33  secondary education   \n",
              "3          3         3    4124.747207         32  secondary education   \n",
              "4          4         0   17755.000000         53  secondary education   \n",
              "...      ...       ...            ...        ...                  ...   \n",
              "21448  21520         1    4529.316663         43  secondary education   \n",
              "21449  21521         0   22445.000000         67  secondary education   \n",
              "21450  21522         1    2113.346888         38  secondary education   \n",
              "21451  21523         3    3112.481705         38  secondary education   \n",
              "21452  21524         2    1984.507589         40  secondary education   \n",
              "\n",
              "       education_id      family_status  family_status_id gender income_type  \\\n",
              "0                 0            married                 0      F    employee   \n",
              "1                 1            married                 0      F    employee   \n",
              "2                 1            married                 0      M    employee   \n",
              "3                 1            married                 0      M    employee   \n",
              "4                 1  civil_partnership                 1      F     retiree   \n",
              "...             ...                ...               ...    ...         ...   \n",
              "21448             1  civil_partnership                 1      F    business   \n",
              "21449             1            married                 0      F     retiree   \n",
              "21450             1  civil_partnership                 1      M    employee   \n",
              "21451             1            married                 0      M    employee   \n",
              "21452             1            married                 0      F    employee   \n",
              "\n",
              "       debt  total_income                  purpose age_group  \n",
              "0         0     40620.102    purchase of the house  41_to_50  \n",
              "1         0     17932.802             car purchase  31_to_40  \n",
              "2         0     23341.752    purchase of the house  31_to_40  \n",
              "3         0     42820.568  supplementary education  31_to_40  \n",
              "4         0     25378.572        to have a wedding  51_to_60  \n",
              "...     ...           ...                      ...       ...  \n",
              "21448     0     35966.698     housing transactions  41_to_50  \n",
              "21449     0     24959.969        purchase of a car  61_to_70  \n",
              "21450     1     14347.610                 property  31_to_40  \n",
              "21451     1     39054.888        buying my own car  31_to_40  \n",
              "21452     0     13127.587             to buy a car  31_to_40  \n",
              "\n",
              "[21453 rows x 14 columns]"
            ]
          },
          "execution_count": 57,
          "metadata": {},
          "output_type": "execute_result"
        }
      ],
      "source": [
        "# Comprueba si funciona\n",
        "fillna_by_other_column(df, \"total_income\", \"education\", agg = \"median\")"
      ]
    },
    {
      "cell_type": "code",
      "execution_count": null,
      "metadata": {
        "id": "qTbkbLzoS-ym"
      },
      "outputs": [],
      "source": [
        "# Aplícalo a cada fila\n",
        "df = fillna_by_other_column(df, \"total_income\", \"education\", agg = \"median\")"
      ]
    },
    {
      "cell_type": "code",
      "execution_count": null,
      "metadata": {
        "id": "wO2vOs2nS-ym",
        "outputId": "215cd548-32f4-484b-cdd0-4650b4c1e7a3"
      },
      "outputs": [
        {
          "data": {
            "text/plain": [
              "index                  0\n",
              "children               0\n",
              "days_employed       2093\n",
              "dob_years              0\n",
              "education              0\n",
              "education_id           0\n",
              "family_status          0\n",
              "family_status_id       0\n",
              "gender                 0\n",
              "income_type            0\n",
              "debt                   0\n",
              "total_income           0\n",
              "purpose                0\n",
              "age_group              0\n",
              "dtype: int64"
            ]
          },
          "execution_count": 59,
          "metadata": {},
          "output_type": "execute_result"
        }
      ],
      "source": [
        "# Comprueba si tenemos algún error\n",
        "df.isna().sum()"
      ]
    },
    {
      "cell_type": "markdown",
      "metadata": {
        "id": "DgIGxcgeS-ym"
      },
      "source": [
        "Como podemos observar, se han reemplazado exitosamente los valores ausentes de 'total_income'."
      ]
    },
    {
      "cell_type": "code",
      "execution_count": null,
      "metadata": {
        "id": "UYZZpT56S-ym",
        "outputId": "c7fce2ac-abdc-4304-d4a5-a5e7951ef117"
      },
      "outputs": [
        {
          "name": "stdout",
          "output_type": "stream",
          "text": [
            "<class 'pandas.core.frame.DataFrame'>\n",
            "RangeIndex: 21453 entries, 0 to 21452\n",
            "Data columns (total 14 columns):\n",
            " #   Column            Non-Null Count  Dtype  \n",
            "---  ------            --------------  -----  \n",
            " 0   index             21453 non-null  int64  \n",
            " 1   children          21453 non-null  int64  \n",
            " 2   days_employed     19360 non-null  float64\n",
            " 3   dob_years         21453 non-null  int64  \n",
            " 4   education         21453 non-null  object \n",
            " 5   education_id      21453 non-null  int64  \n",
            " 6   family_status     21453 non-null  object \n",
            " 7   family_status_id  21453 non-null  int64  \n",
            " 8   gender            21453 non-null  object \n",
            " 9   income_type       21453 non-null  object \n",
            " 10  debt              21453 non-null  int64  \n",
            " 11  total_income      21453 non-null  float64\n",
            " 12  purpose           21453 non-null  object \n",
            " 13  age_group         21453 non-null  object \n",
            "dtypes: float64(2), int64(6), object(6)\n",
            "memory usage: 2.3+ MB\n"
          ]
        }
      ],
      "source": [
        "# Comprobar el número de entradas en las columnas\n",
        "df.info()\n"
      ]
    },
    {
      "cell_type": "markdown",
      "metadata": {
        "id": "qg9V26HUS-ym"
      },
      "source": [
        "###  Restaurar valores en `days_employed`"
      ]
    },
    {
      "cell_type": "markdown",
      "metadata": {
        "id": "UvAQb32ZS-ym"
      },
      "source": [
        "A continuación restauraremos los valores ausentes en 'days_employed', para esto nos podrían ser útiles los parámetros 'age_group' y 'dob_years'."
      ]
    },
    {
      "cell_type": "code",
      "execution_count": null,
      "metadata": {
        "pycharm": {
          "name": "#%%\n"
        },
        "scrolled": true,
        "id": "quxABUljS-yn",
        "outputId": "799439f1-aa9c-474b-ca8f-2b67ff37e987"
      },
      "outputs": [
        {
          "data": {
            "text/html": [
              "<div>\n",
              "<style scoped>\n",
              "    .dataframe tbody tr th:only-of-type {\n",
              "        vertical-align: middle;\n",
              "    }\n",
              "\n",
              "    .dataframe tbody tr th {\n",
              "        vertical-align: top;\n",
              "    }\n",
              "\n",
              "    .dataframe thead tr th {\n",
              "        text-align: left;\n",
              "    }\n",
              "\n",
              "    .dataframe thead tr:last-of-type th {\n",
              "        text-align: right;\n",
              "    }\n",
              "</style>\n",
              "<table border=\"1\" class=\"dataframe\">\n",
              "  <thead>\n",
              "    <tr>\n",
              "      <th></th>\n",
              "      <th colspan=\"2\" halign=\"left\">days_employed</th>\n",
              "    </tr>\n",
              "    <tr>\n",
              "      <th></th>\n",
              "      <th>mean</th>\n",
              "      <th>median</th>\n",
              "    </tr>\n",
              "    <tr>\n",
              "      <th>age_group</th>\n",
              "      <th></th>\n",
              "      <th></th>\n",
              "    </tr>\n",
              "  </thead>\n",
              "  <tbody>\n",
              "    <tr>\n",
              "      <th>19_to_30</th>\n",
              "      <td>1294.918571</td>\n",
              "      <td>1045.752744</td>\n",
              "    </tr>\n",
              "    <tr>\n",
              "      <th>31_to_40</th>\n",
              "      <td>2164.087084</td>\n",
              "      <td>1630.193189</td>\n",
              "    </tr>\n",
              "    <tr>\n",
              "      <th>41_to_50</th>\n",
              "      <td>3250.138183</td>\n",
              "      <td>2130.417977</td>\n",
              "    </tr>\n",
              "    <tr>\n",
              "      <th>51_to_60</th>\n",
              "      <td>9788.152002</td>\n",
              "      <td>6481.039027</td>\n",
              "    </tr>\n",
              "    <tr>\n",
              "      <th>61_to_70</th>\n",
              "      <td>17826.350842</td>\n",
              "      <td>21105.000000</td>\n",
              "    </tr>\n",
              "    <tr>\n",
              "      <th>71_to_80</th>\n",
              "      <td>21532.007652</td>\n",
              "      <td>23785.000000</td>\n",
              "    </tr>\n",
              "  </tbody>\n",
              "</table>\n",
              "</div>"
            ],
            "text/plain": [
              "          days_employed              \n",
              "                   mean        median\n",
              "age_group                            \n",
              "19_to_30    1294.918571   1045.752744\n",
              "31_to_40    2164.087084   1630.193189\n",
              "41_to_50    3250.138183   2130.417977\n",
              "51_to_60    9788.152002   6481.039027\n",
              "61_to_70   17826.350842  21105.000000\n",
              "71_to_80   21532.007652  23785.000000"
            ]
          },
          "execution_count": 61,
          "metadata": {},
          "output_type": "execute_result"
        }
      ],
      "source": [
        "# Distribución de las medianas y medias de `days_employed` en función de los parámetros identificados\n",
        "## Valores medios y medianos en función a 'age_group'\n",
        "age_group_mean_median = df_notnull.groupby('age_group').agg({'days_employed' : ['mean', 'median']})\n",
        "age_group_mean_median"
      ]
    },
    {
      "cell_type": "code",
      "execution_count": null,
      "metadata": {
        "scrolled": false,
        "id": "0az-wNQJS-yn",
        "outputId": "a3c9aa2c-354f-400e-9c82-93e9a5b45497"
      },
      "outputs": [
        {
          "data": {
            "text/html": [
              "<div>\n",
              "<style scoped>\n",
              "    .dataframe tbody tr th:only-of-type {\n",
              "        vertical-align: middle;\n",
              "    }\n",
              "\n",
              "    .dataframe tbody tr th {\n",
              "        vertical-align: top;\n",
              "    }\n",
              "\n",
              "    .dataframe thead tr th {\n",
              "        text-align: left;\n",
              "    }\n",
              "\n",
              "    .dataframe thead tr:last-of-type th {\n",
              "        text-align: right;\n",
              "    }\n",
              "</style>\n",
              "<table border=\"1\" class=\"dataframe\">\n",
              "  <thead>\n",
              "    <tr>\n",
              "      <th></th>\n",
              "      <th colspan=\"2\" halign=\"left\">days_employed</th>\n",
              "    </tr>\n",
              "    <tr>\n",
              "      <th></th>\n",
              "      <th>mean</th>\n",
              "      <th>median</th>\n",
              "    </tr>\n",
              "    <tr>\n",
              "      <th>dob_years</th>\n",
              "      <th></th>\n",
              "      <th></th>\n",
              "    </tr>\n",
              "  </thead>\n",
              "  <tbody>\n",
              "    <tr>\n",
              "      <th>19</th>\n",
              "      <td>633.678086</td>\n",
              "      <td>724.492610</td>\n",
              "    </tr>\n",
              "    <tr>\n",
              "      <th>20</th>\n",
              "      <td>684.944308</td>\n",
              "      <td>674.838979</td>\n",
              "    </tr>\n",
              "    <tr>\n",
              "      <th>21</th>\n",
              "      <td>709.440930</td>\n",
              "      <td>618.733817</td>\n",
              "    </tr>\n",
              "    <tr>\n",
              "      <th>22</th>\n",
              "      <td>821.067277</td>\n",
              "      <td>703.310078</td>\n",
              "    </tr>\n",
              "    <tr>\n",
              "      <th>23</th>\n",
              "      <td>827.309437</td>\n",
              "      <td>690.204208</td>\n",
              "    </tr>\n",
              "    <tr>\n",
              "      <th>24</th>\n",
              "      <td>1020.900547</td>\n",
              "      <td>942.390603</td>\n",
              "    </tr>\n",
              "    <tr>\n",
              "      <th>25</th>\n",
              "      <td>1088.406453</td>\n",
              "      <td>919.199388</td>\n",
              "    </tr>\n",
              "    <tr>\n",
              "      <th>26</th>\n",
              "      <td>1240.554604</td>\n",
              "      <td>1083.658132</td>\n",
              "    </tr>\n",
              "    <tr>\n",
              "      <th>27</th>\n",
              "      <td>1408.614178</td>\n",
              "      <td>1166.212160</td>\n",
              "    </tr>\n",
              "    <tr>\n",
              "      <th>28</th>\n",
              "      <td>1415.570447</td>\n",
              "      <td>1141.705450</td>\n",
              "    </tr>\n",
              "    <tr>\n",
              "      <th>29</th>\n",
              "      <td>1553.823200</td>\n",
              "      <td>1315.453550</td>\n",
              "    </tr>\n",
              "    <tr>\n",
              "      <th>30</th>\n",
              "      <td>1696.039355</td>\n",
              "      <td>1420.586863</td>\n",
              "    </tr>\n",
              "    <tr>\n",
              "      <th>31</th>\n",
              "      <td>1670.358909</td>\n",
              "      <td>1308.901135</td>\n",
              "    </tr>\n",
              "    <tr>\n",
              "      <th>32</th>\n",
              "      <td>1792.764529</td>\n",
              "      <td>1446.622542</td>\n",
              "    </tr>\n",
              "    <tr>\n",
              "      <th>33</th>\n",
              "      <td>1903.320635</td>\n",
              "      <td>1426.415003</td>\n",
              "    </tr>\n",
              "    <tr>\n",
              "      <th>34</th>\n",
              "      <td>2036.568629</td>\n",
              "      <td>1615.910188</td>\n",
              "    </tr>\n",
              "    <tr>\n",
              "      <th>35</th>\n",
              "      <td>2126.270615</td>\n",
              "      <td>1613.494818</td>\n",
              "    </tr>\n",
              "    <tr>\n",
              "      <th>36</th>\n",
              "      <td>2332.452123</td>\n",
              "      <td>1799.520465</td>\n",
              "    </tr>\n",
              "    <tr>\n",
              "      <th>37</th>\n",
              "      <td>2284.472671</td>\n",
              "      <td>1816.713382</td>\n",
              "    </tr>\n",
              "    <tr>\n",
              "      <th>38</th>\n",
              "      <td>2460.341451</td>\n",
              "      <td>1817.194286</td>\n",
              "    </tr>\n",
              "    <tr>\n",
              "      <th>39</th>\n",
              "      <td>2488.238196</td>\n",
              "      <td>1891.388566</td>\n",
              "    </tr>\n",
              "    <tr>\n",
              "      <th>40</th>\n",
              "      <td>2487.794476</td>\n",
              "      <td>1728.936706</td>\n",
              "    </tr>\n",
              "    <tr>\n",
              "      <th>41</th>\n",
              "      <td>2557.349953</td>\n",
              "      <td>1864.657692</td>\n",
              "    </tr>\n",
              "    <tr>\n",
              "      <th>42</th>\n",
              "      <td>2554.410187</td>\n",
              "      <td>1755.907443</td>\n",
              "    </tr>\n",
              "    <tr>\n",
              "      <th>43</th>\n",
              "      <td>2724.206570</td>\n",
              "      <td>1869.019899</td>\n",
              "    </tr>\n",
              "    <tr>\n",
              "      <th>44</th>\n",
              "      <td>3051.465102</td>\n",
              "      <td>2084.330015</td>\n",
              "    </tr>\n",
              "    <tr>\n",
              "      <th>45</th>\n",
              "      <td>3093.590359</td>\n",
              "      <td>2254.431130</td>\n",
              "    </tr>\n",
              "    <tr>\n",
              "      <th>46</th>\n",
              "      <td>3248.980039</td>\n",
              "      <td>2100.473217</td>\n",
              "    </tr>\n",
              "    <tr>\n",
              "      <th>47</th>\n",
              "      <td>3358.075741</td>\n",
              "      <td>2203.078545</td>\n",
              "    </tr>\n",
              "    <tr>\n",
              "      <th>48</th>\n",
              "      <td>3434.043009</td>\n",
              "      <td>2429.674518</td>\n",
              "    </tr>\n",
              "    <tr>\n",
              "      <th>49</th>\n",
              "      <td>3969.304167</td>\n",
              "      <td>2560.317106</td>\n",
              "    </tr>\n",
              "    <tr>\n",
              "      <th>50</th>\n",
              "      <td>4895.269682</td>\n",
              "      <td>2626.986257</td>\n",
              "    </tr>\n",
              "    <tr>\n",
              "      <th>51</th>\n",
              "      <td>5624.529355</td>\n",
              "      <td>2846.080700</td>\n",
              "    </tr>\n",
              "    <tr>\n",
              "      <th>52</th>\n",
              "      <td>6383.241961</td>\n",
              "      <td>3395.639568</td>\n",
              "    </tr>\n",
              "    <tr>\n",
              "      <th>53</th>\n",
              "      <td>6942.951678</td>\n",
              "      <td>3650.007523</td>\n",
              "    </tr>\n",
              "    <tr>\n",
              "      <th>54</th>\n",
              "      <td>8147.312440</td>\n",
              "      <td>4026.541145</td>\n",
              "    </tr>\n",
              "    <tr>\n",
              "      <th>55</th>\n",
              "      <td>9666.877852</td>\n",
              "      <td>7043.471139</td>\n",
              "    </tr>\n",
              "    <tr>\n",
              "      <th>56</th>\n",
              "      <td>9853.050262</td>\n",
              "      <td>6850.179463</td>\n",
              "    </tr>\n",
              "    <tr>\n",
              "      <th>57</th>\n",
              "      <td>11653.307887</td>\n",
              "      <td>19095.000000</td>\n",
              "    </tr>\n",
              "    <tr>\n",
              "      <th>58</th>\n",
              "      <td>11569.032462</td>\n",
              "      <td>19430.000000</td>\n",
              "    </tr>\n",
              "    <tr>\n",
              "      <th>59</th>\n",
              "      <td>13715.421773</td>\n",
              "      <td>19765.000000</td>\n",
              "    </tr>\n",
              "    <tr>\n",
              "      <th>60</th>\n",
              "      <td>15515.827511</td>\n",
              "      <td>20100.000000</td>\n",
              "    </tr>\n",
              "    <tr>\n",
              "      <th>61</th>\n",
              "      <td>15105.860257</td>\n",
              "      <td>20435.000000</td>\n",
              "    </tr>\n",
              "    <tr>\n",
              "      <th>62</th>\n",
              "      <td>16306.530946</td>\n",
              "      <td>20770.000000</td>\n",
              "    </tr>\n",
              "    <tr>\n",
              "      <th>63</th>\n",
              "      <td>17761.174530</td>\n",
              "      <td>21105.000000</td>\n",
              "    </tr>\n",
              "    <tr>\n",
              "      <th>64</th>\n",
              "      <td>17701.678328</td>\n",
              "      <td>21440.000000</td>\n",
              "    </tr>\n",
              "    <tr>\n",
              "      <th>65</th>\n",
              "      <td>17906.057395</td>\n",
              "      <td>21775.000000</td>\n",
              "    </tr>\n",
              "    <tr>\n",
              "      <th>66</th>\n",
              "      <td>19428.763545</td>\n",
              "      <td>22110.000000</td>\n",
              "    </tr>\n",
              "    <tr>\n",
              "      <th>67</th>\n",
              "      <td>20075.546246</td>\n",
              "      <td>22445.000000</td>\n",
              "    </tr>\n",
              "    <tr>\n",
              "      <th>68</th>\n",
              "      <td>20754.604477</td>\n",
              "      <td>22780.000000</td>\n",
              "    </tr>\n",
              "    <tr>\n",
              "      <th>69</th>\n",
              "      <td>21664.568233</td>\n",
              "      <td>23115.000000</td>\n",
              "    </tr>\n",
              "    <tr>\n",
              "      <th>70</th>\n",
              "      <td>21026.281106</td>\n",
              "      <td>23450.000000</td>\n",
              "    </tr>\n",
              "    <tr>\n",
              "      <th>71</th>\n",
              "      <td>21802.911587</td>\n",
              "      <td>23785.000000</td>\n",
              "    </tr>\n",
              "    <tr>\n",
              "      <th>72</th>\n",
              "      <td>22424.895490</td>\n",
              "      <td>24120.000000</td>\n",
              "    </tr>\n",
              "    <tr>\n",
              "      <th>73</th>\n",
              "      <td>21451.315069</td>\n",
              "      <td>24455.000000</td>\n",
              "    </tr>\n",
              "    <tr>\n",
              "      <th>74</th>\n",
              "      <td>17928.750058</td>\n",
              "      <td>24790.000000</td>\n",
              "    </tr>\n",
              "    <tr>\n",
              "      <th>75</th>\n",
              "      <td>1678.969771</td>\n",
              "      <td>1678.969771</td>\n",
              "    </tr>\n",
              "  </tbody>\n",
              "</table>\n",
              "</div>"
            ],
            "text/plain": [
              "          days_employed              \n",
              "                   mean        median\n",
              "dob_years                            \n",
              "19           633.678086    724.492610\n",
              "20           684.944308    674.838979\n",
              "21           709.440930    618.733817\n",
              "22           821.067277    703.310078\n",
              "23           827.309437    690.204208\n",
              "24          1020.900547    942.390603\n",
              "25          1088.406453    919.199388\n",
              "26          1240.554604   1083.658132\n",
              "27          1408.614178   1166.212160\n",
              "28          1415.570447   1141.705450\n",
              "29          1553.823200   1315.453550\n",
              "30          1696.039355   1420.586863\n",
              "31          1670.358909   1308.901135\n",
              "32          1792.764529   1446.622542\n",
              "33          1903.320635   1426.415003\n",
              "34          2036.568629   1615.910188\n",
              "35          2126.270615   1613.494818\n",
              "36          2332.452123   1799.520465\n",
              "37          2284.472671   1816.713382\n",
              "38          2460.341451   1817.194286\n",
              "39          2488.238196   1891.388566\n",
              "40          2487.794476   1728.936706\n",
              "41          2557.349953   1864.657692\n",
              "42          2554.410187   1755.907443\n",
              "43          2724.206570   1869.019899\n",
              "44          3051.465102   2084.330015\n",
              "45          3093.590359   2254.431130\n",
              "46          3248.980039   2100.473217\n",
              "47          3358.075741   2203.078545\n",
              "48          3434.043009   2429.674518\n",
              "49          3969.304167   2560.317106\n",
              "50          4895.269682   2626.986257\n",
              "51          5624.529355   2846.080700\n",
              "52          6383.241961   3395.639568\n",
              "53          6942.951678   3650.007523\n",
              "54          8147.312440   4026.541145\n",
              "55          9666.877852   7043.471139\n",
              "56          9853.050262   6850.179463\n",
              "57         11653.307887  19095.000000\n",
              "58         11569.032462  19430.000000\n",
              "59         13715.421773  19765.000000\n",
              "60         15515.827511  20100.000000\n",
              "61         15105.860257  20435.000000\n",
              "62         16306.530946  20770.000000\n",
              "63         17761.174530  21105.000000\n",
              "64         17701.678328  21440.000000\n",
              "65         17906.057395  21775.000000\n",
              "66         19428.763545  22110.000000\n",
              "67         20075.546246  22445.000000\n",
              "68         20754.604477  22780.000000\n",
              "69         21664.568233  23115.000000\n",
              "70         21026.281106  23450.000000\n",
              "71         21802.911587  23785.000000\n",
              "72         22424.895490  24120.000000\n",
              "73         21451.315069  24455.000000\n",
              "74         17928.750058  24790.000000\n",
              "75          1678.969771   1678.969771"
            ]
          },
          "execution_count": 62,
          "metadata": {},
          "output_type": "execute_result"
        }
      ],
      "source": [
        "## Valores medios y medianos en función a 'dob_years'\n",
        "dob_year_mean_median = df_notnull.groupby('dob_years').agg({'days_employed' : ['mean', 'median']})\n",
        "dob_year_mean_median"
      ]
    },
    {
      "cell_type": "markdown",
      "metadata": {
        "id": "3aggjxzLS-yn"
      },
      "source": [
        "Ahora reemplazaremos los valores ausentes de 'days_employed'. Para esto utilizaremos la mediana de 'days_employed' en función a 'dob_years', es decir, se calculará la mediana de días trabajados en función a las edades de los clientes. Se utilizará la mediana debido a que los valores son atípicos."
      ]
    },
    {
      "cell_type": "code",
      "execution_count": null,
      "metadata": {
        "id": "zE97HFUQS-yn"
      },
      "outputs": [],
      "source": [
        "# Escribamos una función que calcule medias o medianas (dependiendo de tu decisión) según el parámetro identificado\n",
        "def fillna_by_other_column(df, target_column, column_to_replace, agg = \"mean\"):\n",
        "    grouped = df.groupby(column_to_replace).agg({target_column: [\"mean\",\"median\"]})\n",
        "\n",
        "    for index in grouped.index:\n",
        "        df.loc[df[target_column].isna() & (df[column_to_replace] == index),  target_column] = grouped.loc[index,(target_column, agg)]\n",
        "\n",
        "    return df"
      ]
    },
    {
      "cell_type": "code",
      "execution_count": null,
      "metadata": {
        "id": "0ZZHgJu2S-yn",
        "outputId": "9ebd41ef-c252-49e4-bf3d-e032c2d54331"
      },
      "outputs": [
        {
          "data": {
            "text/html": [
              "<div>\n",
              "<style scoped>\n",
              "    .dataframe tbody tr th:only-of-type {\n",
              "        vertical-align: middle;\n",
              "    }\n",
              "\n",
              "    .dataframe tbody tr th {\n",
              "        vertical-align: top;\n",
              "    }\n",
              "\n",
              "    .dataframe thead th {\n",
              "        text-align: right;\n",
              "    }\n",
              "</style>\n",
              "<table border=\"1\" class=\"dataframe\">\n",
              "  <thead>\n",
              "    <tr style=\"text-align: right;\">\n",
              "      <th></th>\n",
              "      <th>index</th>\n",
              "      <th>children</th>\n",
              "      <th>days_employed</th>\n",
              "      <th>dob_years</th>\n",
              "      <th>education</th>\n",
              "      <th>education_id</th>\n",
              "      <th>family_status</th>\n",
              "      <th>family_status_id</th>\n",
              "      <th>gender</th>\n",
              "      <th>income_type</th>\n",
              "      <th>debt</th>\n",
              "      <th>total_income</th>\n",
              "      <th>purpose</th>\n",
              "      <th>age_group</th>\n",
              "    </tr>\n",
              "  </thead>\n",
              "  <tbody>\n",
              "    <tr>\n",
              "      <th>0</th>\n",
              "      <td>0</td>\n",
              "      <td>1</td>\n",
              "      <td>8437.673028</td>\n",
              "      <td>42</td>\n",
              "      <td>bachelor's degree</td>\n",
              "      <td>0</td>\n",
              "      <td>married</td>\n",
              "      <td>0</td>\n",
              "      <td>F</td>\n",
              "      <td>employee</td>\n",
              "      <td>0</td>\n",
              "      <td>40620.102</td>\n",
              "      <td>purchase of the house</td>\n",
              "      <td>41_to_50</td>\n",
              "    </tr>\n",
              "    <tr>\n",
              "      <th>1</th>\n",
              "      <td>1</td>\n",
              "      <td>1</td>\n",
              "      <td>4024.803754</td>\n",
              "      <td>36</td>\n",
              "      <td>secondary education</td>\n",
              "      <td>1</td>\n",
              "      <td>married</td>\n",
              "      <td>0</td>\n",
              "      <td>F</td>\n",
              "      <td>employee</td>\n",
              "      <td>0</td>\n",
              "      <td>17932.802</td>\n",
              "      <td>car purchase</td>\n",
              "      <td>31_to_40</td>\n",
              "    </tr>\n",
              "    <tr>\n",
              "      <th>2</th>\n",
              "      <td>2</td>\n",
              "      <td>0</td>\n",
              "      <td>5623.422610</td>\n",
              "      <td>33</td>\n",
              "      <td>secondary education</td>\n",
              "      <td>1</td>\n",
              "      <td>married</td>\n",
              "      <td>0</td>\n",
              "      <td>M</td>\n",
              "      <td>employee</td>\n",
              "      <td>0</td>\n",
              "      <td>23341.752</td>\n",
              "      <td>purchase of the house</td>\n",
              "      <td>31_to_40</td>\n",
              "    </tr>\n",
              "    <tr>\n",
              "      <th>3</th>\n",
              "      <td>3</td>\n",
              "      <td>3</td>\n",
              "      <td>4124.747207</td>\n",
              "      <td>32</td>\n",
              "      <td>secondary education</td>\n",
              "      <td>1</td>\n",
              "      <td>married</td>\n",
              "      <td>0</td>\n",
              "      <td>M</td>\n",
              "      <td>employee</td>\n",
              "      <td>0</td>\n",
              "      <td>42820.568</td>\n",
              "      <td>supplementary education</td>\n",
              "      <td>31_to_40</td>\n",
              "    </tr>\n",
              "    <tr>\n",
              "      <th>4</th>\n",
              "      <td>4</td>\n",
              "      <td>0</td>\n",
              "      <td>17755.000000</td>\n",
              "      <td>53</td>\n",
              "      <td>secondary education</td>\n",
              "      <td>1</td>\n",
              "      <td>civil_partnership</td>\n",
              "      <td>1</td>\n",
              "      <td>F</td>\n",
              "      <td>retiree</td>\n",
              "      <td>0</td>\n",
              "      <td>25378.572</td>\n",
              "      <td>to have a wedding</td>\n",
              "      <td>51_to_60</td>\n",
              "    </tr>\n",
              "    <tr>\n",
              "      <th>...</th>\n",
              "      <td>...</td>\n",
              "      <td>...</td>\n",
              "      <td>...</td>\n",
              "      <td>...</td>\n",
              "      <td>...</td>\n",
              "      <td>...</td>\n",
              "      <td>...</td>\n",
              "      <td>...</td>\n",
              "      <td>...</td>\n",
              "      <td>...</td>\n",
              "      <td>...</td>\n",
              "      <td>...</td>\n",
              "      <td>...</td>\n",
              "      <td>...</td>\n",
              "    </tr>\n",
              "    <tr>\n",
              "      <th>21448</th>\n",
              "      <td>21520</td>\n",
              "      <td>1</td>\n",
              "      <td>4529.316663</td>\n",
              "      <td>43</td>\n",
              "      <td>secondary education</td>\n",
              "      <td>1</td>\n",
              "      <td>civil_partnership</td>\n",
              "      <td>1</td>\n",
              "      <td>F</td>\n",
              "      <td>business</td>\n",
              "      <td>0</td>\n",
              "      <td>35966.698</td>\n",
              "      <td>housing transactions</td>\n",
              "      <td>41_to_50</td>\n",
              "    </tr>\n",
              "    <tr>\n",
              "      <th>21449</th>\n",
              "      <td>21521</td>\n",
              "      <td>0</td>\n",
              "      <td>22445.000000</td>\n",
              "      <td>67</td>\n",
              "      <td>secondary education</td>\n",
              "      <td>1</td>\n",
              "      <td>married</td>\n",
              "      <td>0</td>\n",
              "      <td>F</td>\n",
              "      <td>retiree</td>\n",
              "      <td>0</td>\n",
              "      <td>24959.969</td>\n",
              "      <td>purchase of a car</td>\n",
              "      <td>61_to_70</td>\n",
              "    </tr>\n",
              "    <tr>\n",
              "      <th>21450</th>\n",
              "      <td>21522</td>\n",
              "      <td>1</td>\n",
              "      <td>2113.346888</td>\n",
              "      <td>38</td>\n",
              "      <td>secondary education</td>\n",
              "      <td>1</td>\n",
              "      <td>civil_partnership</td>\n",
              "      <td>1</td>\n",
              "      <td>M</td>\n",
              "      <td>employee</td>\n",
              "      <td>1</td>\n",
              "      <td>14347.610</td>\n",
              "      <td>property</td>\n",
              "      <td>31_to_40</td>\n",
              "    </tr>\n",
              "    <tr>\n",
              "      <th>21451</th>\n",
              "      <td>21523</td>\n",
              "      <td>3</td>\n",
              "      <td>3112.481705</td>\n",
              "      <td>38</td>\n",
              "      <td>secondary education</td>\n",
              "      <td>1</td>\n",
              "      <td>married</td>\n",
              "      <td>0</td>\n",
              "      <td>M</td>\n",
              "      <td>employee</td>\n",
              "      <td>1</td>\n",
              "      <td>39054.888</td>\n",
              "      <td>buying my own car</td>\n",
              "      <td>31_to_40</td>\n",
              "    </tr>\n",
              "    <tr>\n",
              "      <th>21452</th>\n",
              "      <td>21524</td>\n",
              "      <td>2</td>\n",
              "      <td>1984.507589</td>\n",
              "      <td>40</td>\n",
              "      <td>secondary education</td>\n",
              "      <td>1</td>\n",
              "      <td>married</td>\n",
              "      <td>0</td>\n",
              "      <td>F</td>\n",
              "      <td>employee</td>\n",
              "      <td>0</td>\n",
              "      <td>13127.587</td>\n",
              "      <td>to buy a car</td>\n",
              "      <td>31_to_40</td>\n",
              "    </tr>\n",
              "  </tbody>\n",
              "</table>\n",
              "<p>21453 rows × 14 columns</p>\n",
              "</div>"
            ],
            "text/plain": [
              "       index  children  days_employed  dob_years            education  \\\n",
              "0          0         1    8437.673028         42    bachelor's degree   \n",
              "1          1         1    4024.803754         36  secondary education   \n",
              "2          2         0    5623.422610         33  secondary education   \n",
              "3          3         3    4124.747207         32  secondary education   \n",
              "4          4         0   17755.000000         53  secondary education   \n",
              "...      ...       ...            ...        ...                  ...   \n",
              "21448  21520         1    4529.316663         43  secondary education   \n",
              "21449  21521         0   22445.000000         67  secondary education   \n",
              "21450  21522         1    2113.346888         38  secondary education   \n",
              "21451  21523         3    3112.481705         38  secondary education   \n",
              "21452  21524         2    1984.507589         40  secondary education   \n",
              "\n",
              "       education_id      family_status  family_status_id gender income_type  \\\n",
              "0                 0            married                 0      F    employee   \n",
              "1                 1            married                 0      F    employee   \n",
              "2                 1            married                 0      M    employee   \n",
              "3                 1            married                 0      M    employee   \n",
              "4                 1  civil_partnership                 1      F     retiree   \n",
              "...             ...                ...               ...    ...         ...   \n",
              "21448             1  civil_partnership                 1      F    business   \n",
              "21449             1            married                 0      F     retiree   \n",
              "21450             1  civil_partnership                 1      M    employee   \n",
              "21451             1            married                 0      M    employee   \n",
              "21452             1            married                 0      F    employee   \n",
              "\n",
              "       debt  total_income                  purpose age_group  \n",
              "0         0     40620.102    purchase of the house  41_to_50  \n",
              "1         0     17932.802             car purchase  31_to_40  \n",
              "2         0     23341.752    purchase of the house  31_to_40  \n",
              "3         0     42820.568  supplementary education  31_to_40  \n",
              "4         0     25378.572        to have a wedding  51_to_60  \n",
              "...     ...           ...                      ...       ...  \n",
              "21448     0     35966.698     housing transactions  41_to_50  \n",
              "21449     0     24959.969        purchase of a car  61_to_70  \n",
              "21450     1     14347.610                 property  31_to_40  \n",
              "21451     1     39054.888        buying my own car  31_to_40  \n",
              "21452     0     13127.587             to buy a car  31_to_40  \n",
              "\n",
              "[21453 rows x 14 columns]"
            ]
          },
          "execution_count": 64,
          "metadata": {},
          "output_type": "execute_result"
        }
      ],
      "source": [
        "# Comprueba que la función funciona\n",
        "fillna_by_other_column(df, \"days_employed\", \"dob_years\", agg = \"median\")\n"
      ]
    },
    {
      "cell_type": "code",
      "execution_count": null,
      "metadata": {
        "scrolled": true,
        "id": "rHbJfcj7S-yn"
      },
      "outputs": [],
      "source": [
        "# Aplicar la función al income_type\n",
        "alternate_df = fillna_by_other_column(df, \"days_employed\", \"income_type\", agg = \"median\")"
      ]
    },
    {
      "cell_type": "code",
      "execution_count": null,
      "metadata": {
        "id": "naaCh7NmS-yn",
        "outputId": "0e9860be-77be-4b6e-8c91-f3c69e89dfcb"
      },
      "outputs": [
        {
          "name": "stdout",
          "output_type": "stream",
          "text": [
            "<class 'pandas.core.frame.DataFrame'>\n",
            "RangeIndex: 21453 entries, 0 to 21452\n",
            "Data columns (total 14 columns):\n",
            " #   Column            Non-Null Count  Dtype  \n",
            "---  ------            --------------  -----  \n",
            " 0   index             21453 non-null  int64  \n",
            " 1   children          21453 non-null  int64  \n",
            " 2   days_employed     21453 non-null  float64\n",
            " 3   dob_years         21453 non-null  int64  \n",
            " 4   education         21453 non-null  object \n",
            " 5   education_id      21453 non-null  int64  \n",
            " 6   family_status     21453 non-null  object \n",
            " 7   family_status_id  21453 non-null  int64  \n",
            " 8   gender            21453 non-null  object \n",
            " 9   income_type       21453 non-null  object \n",
            " 10  debt              21453 non-null  int64  \n",
            " 11  total_income      21453 non-null  float64\n",
            " 12  purpose           21453 non-null  object \n",
            " 13  age_group         21453 non-null  object \n",
            "dtypes: float64(2), int64(6), object(6)\n",
            "memory usage: 2.3+ MB\n"
          ]
        }
      ],
      "source": [
        "# Comprueba si la función funcionó\n",
        "alternate_df.info()\n"
      ]
    },
    {
      "cell_type": "code",
      "execution_count": null,
      "metadata": {
        "id": "HwW9HgtbS-yo"
      },
      "outputs": [],
      "source": [
        "# Reemplazar valores ausentes\n",
        "df = fillna_by_other_column(df, \"days_employed\", \"dob_years\", agg = \"median\")\n"
      ]
    },
    {
      "cell_type": "code",
      "execution_count": null,
      "metadata": {
        "id": "P0nf12d9S-yo",
        "outputId": "060372a8-1735-4c0e-b4d8-89367b5c008f"
      },
      "outputs": [
        {
          "name": "stdout",
          "output_type": "stream",
          "text": [
            "<class 'pandas.core.frame.DataFrame'>\n",
            "RangeIndex: 21453 entries, 0 to 21452\n",
            "Data columns (total 14 columns):\n",
            " #   Column            Non-Null Count  Dtype  \n",
            "---  ------            --------------  -----  \n",
            " 0   index             21453 non-null  int64  \n",
            " 1   children          21453 non-null  int64  \n",
            " 2   days_employed     21453 non-null  float64\n",
            " 3   dob_years         21453 non-null  int64  \n",
            " 4   education         21453 non-null  object \n",
            " 5   education_id      21453 non-null  int64  \n",
            " 6   family_status     21453 non-null  object \n",
            " 7   family_status_id  21453 non-null  int64  \n",
            " 8   gender            21453 non-null  object \n",
            " 9   income_type       21453 non-null  object \n",
            " 10  debt              21453 non-null  int64  \n",
            " 11  total_income      21453 non-null  float64\n",
            " 12  purpose           21453 non-null  object \n",
            " 13  age_group         21453 non-null  object \n",
            "dtypes: float64(2), int64(6), object(6)\n",
            "memory usage: 2.3+ MB\n"
          ]
        }
      ],
      "source": [
        "# Comprueba las entradas en todas las columnas: asegúrate de que hayamos corregido todos los valores ausentes\n",
        "df.info()"
      ]
    },
    {
      "cell_type": "markdown",
      "metadata": {
        "id": "6PCWKYN6S-yo"
      },
      "source": [
        "Al aplicar la función, podemos comprobar que el número total de entradas para cada columna coinciden."
      ]
    },
    {
      "cell_type": "markdown",
      "metadata": {
        "id": "POiByQCTS-yo"
      },
      "source": [
        "## Clasificación de datos\n",
        "\n",
        "A continuación clasificaremos las columnas 'children', 'family_status', 'total_income' y 'purpose', en relación a 'debt', para analizar cómo afectan estos factores en los pagos de los prestamos. Primero procesaremos los datos de texto, luego los datos numéricos.\n"
      ]
    },
    {
      "cell_type": "code",
      "execution_count": null,
      "metadata": {
        "scrolled": true,
        "id": "NqSGbp7jS-yo",
        "outputId": "18fe7105-5c5c-4458-c146-8513d6150ea1"
      },
      "outputs": [
        {
          "data": {
            "text/plain": [
              "array([1, 0, 3, 2, 4, 5])"
            ]
          },
          "execution_count": 69,
          "metadata": {},
          "output_type": "execute_result"
        }
      ],
      "source": [
        "# Muestra los valores de los datos seleccionados para la clasificación\n",
        "## Valores de 'children'\n",
        "df['children'].unique()"
      ]
    },
    {
      "cell_type": "code",
      "execution_count": null,
      "metadata": {
        "id": "n_gJSxpvS-yo",
        "outputId": "de6e7f08-3e6b-48eb-ca0c-df9afd0a8126"
      },
      "outputs": [
        {
          "data": {
            "text/plain": [
              "array(['married', 'civil_partnership', 'widow_or_widower', 'divorced',\n",
              "       'unmarried'], dtype=object)"
            ]
          },
          "execution_count": 70,
          "metadata": {},
          "output_type": "execute_result"
        }
      ],
      "source": [
        "## Valores de 'family_status'\n",
        "df['family_status'].unique()"
      ]
    },
    {
      "cell_type": "code",
      "execution_count": null,
      "metadata": {
        "id": "wfCazIYmS-yo",
        "outputId": "c3e4b1d9-a9b4-4390-ead7-1c6d1d4196bd"
      },
      "outputs": [
        {
          "data": {
            "text/plain": [
              "array([40620.102, 17932.802, 23341.752, ..., 14347.61 , 39054.888,\n",
              "       13127.587])"
            ]
          },
          "execution_count": 71,
          "metadata": {},
          "output_type": "execute_result"
        }
      ],
      "source": [
        "## Valores de 'total_income'\n",
        "df['total_income'].unique()"
      ]
    },
    {
      "cell_type": "code",
      "execution_count": null,
      "metadata": {
        "id": "4k4I6AfHS-yp",
        "outputId": "daddd2c5-41b4-447f-b061-80087cd65d7e"
      },
      "outputs": [
        {
          "data": {
            "text/plain": [
              "array(['purchase of the house', 'car purchase', 'supplementary education',\n",
              "       'to have a wedding', 'housing transactions', 'education',\n",
              "       'having a wedding', 'purchase of the house for my family',\n",
              "       'buy real estate', 'buy commercial real estate',\n",
              "       'buy residential real estate', 'construction of own property',\n",
              "       'property', 'building a property', 'buying a second-hand car',\n",
              "       'buying my own car', 'transactions with commercial real estate',\n",
              "       'building a real estate', 'housing',\n",
              "       'transactions with my real estate', 'cars', 'to become educated',\n",
              "       'second-hand car purchase', 'getting an education', 'car',\n",
              "       'wedding ceremony', 'to get a supplementary education',\n",
              "       'purchase of my own house', 'real estate transactions',\n",
              "       'getting higher education', 'to own a car', 'purchase of a car',\n",
              "       'profile education', 'university education',\n",
              "       'buying property for renting out', 'to buy a car',\n",
              "       'housing renovation', 'going to university'], dtype=object)"
            ]
          },
          "execution_count": 72,
          "metadata": {},
          "output_type": "execute_result"
        }
      ],
      "source": [
        "## Valores de 'purpose'\n",
        "df['purpose'].unique()"
      ]
    },
    {
      "cell_type": "markdown",
      "metadata": {
        "id": "kmsAb8zES-yp"
      },
      "source": [
        "Ahora comprobaremos los valores únicos en los datos seleccionados."
      ]
    },
    {
      "cell_type": "code",
      "execution_count": null,
      "metadata": {
        "scrolled": true,
        "id": "I40d58LIS-yp",
        "outputId": "34d77e7a-458d-4554-ec55-84bee909aec0"
      },
      "outputs": [
        {
          "data": {
            "text/plain": [
              "0    14090\n",
              "1     4855\n",
              "2     2128\n",
              "3      330\n",
              "4       41\n",
              "5        9\n",
              "Name: children, dtype: int64"
            ]
          },
          "execution_count": 73,
          "metadata": {},
          "output_type": "execute_result"
        }
      ],
      "source": [
        "# Comprobar los valores únicos\n",
        "## Comprobar los valores únicos de 'children'\n",
        "df['children'].value_counts()"
      ]
    },
    {
      "cell_type": "code",
      "execution_count": null,
      "metadata": {
        "id": "2CSOlDepS-yp",
        "outputId": "1ad4f9d7-2394-4b78-8a5e-6d1a745519b0"
      },
      "outputs": [
        {
          "data": {
            "text/plain": [
              "married              12339\n",
              "civil_partnership     4150\n",
              "unmarried             2810\n",
              "divorced              1195\n",
              "widow_or_widower       959\n",
              "Name: family_status, dtype: int64"
            ]
          },
          "execution_count": 74,
          "metadata": {},
          "output_type": "execute_result"
        }
      ],
      "source": [
        "## Comprobar los valores únicos de 'family_status'\n",
        "df['family_status'].value_counts()"
      ]
    },
    {
      "cell_type": "code",
      "execution_count": null,
      "metadata": {
        "scrolled": true,
        "id": "8Fz8JZ3YS-yq",
        "outputId": "60150130-e653-4dd6-8f11-c73a8e4f6316"
      },
      "outputs": [
        {
          "data": {
            "text/plain": [
              "21836.5830    1480\n",
              "28054.5310     534\n",
              "25608.7945      69\n",
              "18741.9760      22\n",
              "17312.7170       2\n",
              "              ... \n",
              "45484.1090       1\n",
              "27715.4580       1\n",
              "23834.5340       1\n",
              "26124.6130       1\n",
              "41428.9160       1\n",
              "Name: total_income, Length: 19349, dtype: int64"
            ]
          },
          "execution_count": 75,
          "metadata": {},
          "output_type": "execute_result"
        }
      ],
      "source": [
        "## Comprobar los valores únicos de 'total_income'\n",
        "df['total_income'].value_counts()"
      ]
    },
    {
      "cell_type": "code",
      "execution_count": null,
      "metadata": {
        "id": "OGJK2NM5S-yq",
        "outputId": "69cbc44d-3cef-4886-cc16-59905b93d140"
      },
      "outputs": [
        {
          "data": {
            "text/plain": [
              "wedding ceremony                            791\n",
              "having a wedding                            768\n",
              "to have a wedding                           765\n",
              "real estate transactions                    675\n",
              "buy commercial real estate                  661\n",
              "housing transactions                        652\n",
              "buying property for renting out             651\n",
              "transactions with commercial real estate    650\n",
              "housing                                     646\n",
              "purchase of the house                       646\n",
              "purchase of the house for my family         638\n",
              "construction of own property                635\n",
              "property                                    633\n",
              "transactions with my real estate            627\n",
              "building a real estate                      624\n",
              "purchase of my own house                    620\n",
              "buy real estate                             620\n",
              "building a property                         619\n",
              "housing renovation                          607\n",
              "buy residential real estate                 606\n",
              "buying my own car                           505\n",
              "going to university                         496\n",
              "car                                         494\n",
              "second-hand car purchase                    486\n",
              "buying a second-hand car                    478\n",
              "to own a car                                478\n",
              "cars                                        478\n",
              "to buy a car                                471\n",
              "car purchase                                461\n",
              "supplementary education                     460\n",
              "purchase of a car                           455\n",
              "university education                        452\n",
              "education                                   447\n",
              "to get a supplementary education            446\n",
              "getting an education                        442\n",
              "profile education                           436\n",
              "getting higher education                    426\n",
              "to become educated                          408\n",
              "Name: purpose, dtype: int64"
            ]
          },
          "execution_count": 76,
          "metadata": {},
          "output_type": "execute_result"
        }
      ],
      "source": [
        "## Comprobar los valores únicos de 'purpose'\n",
        "df['purpose'].value_counts()"
      ]
    },
    {
      "cell_type": "markdown",
      "metadata": {
        "id": "ljdvnK9yS-yq"
      },
      "source": [
        "A continuación clasificaremos las columnas seleccionadas (\"children\", \"family_status\", \"total_income\", \"purpose\") en relación a clientes con deudas de la columna \"debt\", comenzando por los datos de texto.\n"
      ]
    },
    {
      "cell_type": "code",
      "execution_count": null,
      "metadata": {
        "scrolled": true,
        "id": "Qix-r6PlS-yq"
      },
      "outputs": [],
      "source": [
        "# Escribamos una función para clasificar los datos en función de temas comunes\n",
        "def clasificar_datos(col1):\n",
        "    clasify = (df.debt == 1)\n",
        "    return df.loc[clasify].groupby([col1]).debt.count()\n"
      ]
    },
    {
      "cell_type": "markdown",
      "metadata": {
        "id": "g3J8xcBIS-yq"
      },
      "source": [
        "A continuación simplificaremos la columna \"purpose\" para facilitar su clasificación."
      ]
    },
    {
      "cell_type": "code",
      "execution_count": null,
      "metadata": {
        "id": "cZJ6Za2iS-yq"
      },
      "outputs": [],
      "source": [
        "#simplificar columna \"purpose\" para facilitar su clasificación.\n",
        "\n",
        "def purpose_simplified(row):\n",
        "    purpose = row['purpose']\n",
        "    if 'education' in purpose or 'university' in purpose or 'educated' in purpose:\n",
        "        return 'education'\n",
        "    elif 'wedding' in purpose:\n",
        "        return 'wedding'\n",
        "    elif 'real' in purpose:\n",
        "        return 'real_estate'\n",
        "    elif 'house' in purpose:\n",
        "        return 'house'\n",
        "    elif 'property' in purpose:\n",
        "        return 'property'\n",
        "    elif 'car' in purpose or 'cars' in purpose:\n",
        "        return 'car'\n",
        "    else:\n",
        "        return 'another_purpose'\n",
        ""
      ]
    },
    {
      "cell_type": "code",
      "execution_count": null,
      "metadata": {
        "id": "i9fr3bMYS-yq"
      },
      "outputs": [],
      "source": [
        "#reemplazamos los valores de la columna 'purpose' para simplificarla\n",
        "\n",
        "df[\"purpose\"] = df.apply(purpose_simplified, axis=1)"
      ]
    },
    {
      "cell_type": "code",
      "execution_count": null,
      "metadata": {
        "id": "bJlhoL9tS-yr",
        "outputId": "6cafc410-5ba9-4ee3-db45-6c41600d0ddb"
      },
      "outputs": [
        {
          "data": {
            "text/plain": [
              "array(['house', 'car', 'education', 'wedding', 'another_purpose',\n",
              "       'real_estate', 'property'], dtype=object)"
            ]
          },
          "execution_count": 80,
          "metadata": {},
          "output_type": "execute_result"
        }
      ],
      "source": [
        "#comprobamos sus valores únicos\n",
        "\n",
        "df.purpose.unique()"
      ]
    },
    {
      "cell_type": "code",
      "execution_count": null,
      "metadata": {
        "scrolled": false,
        "id": "WOOt0Dp3S-yr",
        "outputId": "f926079a-5b3d-4d08-8d71-2b8fc107ed7d"
      },
      "outputs": [
        {
          "data": {
            "text/plain": [
              "purpose\n",
              "car                403\n",
              "education          370\n",
              "real_estate        336\n",
              "property           190\n",
              "wedding            186\n",
              "another_purpose    129\n",
              "house              127\n",
              "Name: debt, dtype: int64"
            ]
          },
          "execution_count": 81,
          "metadata": {},
          "output_type": "execute_result"
        }
      ],
      "source": [
        "# Crea una columna con las categorías y cuenta los valores en ellas\n",
        "\n",
        "##Clasificar categorías de \"purpose\" respecto a \"debt\"\n",
        "clasificar_datos(\"purpose\").sort_values(ascending=False)"
      ]
    },
    {
      "cell_type": "markdown",
      "metadata": {
        "id": "_Sr3rpXdS-yr"
      },
      "source": [
        "Algunos de los principales motivos de clientes que no han pagado sus prestamos son: casas, autos y educación."
      ]
    },
    {
      "cell_type": "code",
      "execution_count": null,
      "metadata": {
        "id": "EXjjqDUyS-yr",
        "outputId": "f7d029eb-0453-4475-b235-892b9c2a304d"
      },
      "outputs": [
        {
          "data": {
            "text/plain": [
              "family_status\n",
              "married              931\n",
              "civil_partnership    388\n",
              "unmarried            274\n",
              "divorced              85\n",
              "widow_or_widower      63\n",
              "Name: debt, dtype: int64"
            ]
          },
          "execution_count": 82,
          "metadata": {},
          "output_type": "execute_result"
        }
      ],
      "source": [
        "##Clasificar categorías de \"family_status\" respecto a \"debt\"\n",
        "clasificar_datos(\"family_status\").sort_values(ascending=False)"
      ]
    },
    {
      "cell_type": "markdown",
      "metadata": {
        "id": "iz-ao9pDS-yr"
      },
      "source": [
        "Aquí podemos observar que la mayor parte de los clientes deudores están casados."
      ]
    },
    {
      "cell_type": "markdown",
      "metadata": {
        "id": "70wyJBZ0S-ys"
      },
      "source": [
        "A continuación clasificaremos los datos numéricos."
      ]
    },
    {
      "cell_type": "markdown",
      "metadata": {
        "id": "Jr7VAaJCS-ys"
      },
      "source": [
        "Ahora segmentaremos \"total_income\" por rangos de valores para poder clasificar y visualizar sus valores respecto a \"debt\" con mayor claridad."
      ]
    },
    {
      "cell_type": "code",
      "execution_count": null,
      "metadata": {
        "id": "bU3zdQutS-ys"
      },
      "outputs": [],
      "source": [
        "# Crear una función para clasificar en diferentes grupos numéricos basándose en rangos\n",
        "\n",
        "##función para clasificar \"total_income\" por rangos.\n",
        "def ti_range(ti):\n",
        "    if ti <= 20000:\n",
        "        return '0_to_20000'\n",
        "    elif 20001 <= ti <= 40000:\n",
        "        return '20000_to_40000'\n",
        "    elif 40001 <= ti <= 60000:\n",
        "        return '40000_to_60000'\n",
        "    elif 60001 <= ti <= 80000:\n",
        "        return '60000_to_80000'\n",
        "    elif 80001 <= ti <= 100000:\n",
        "        return '80000_to_100000'\n",
        "    elif 100001 <= ti <=2000000:\n",
        "        return '100000_to_200000'\n",
        "    else:\n",
        "        return '200000_plus'\n",
        ""
      ]
    },
    {
      "cell_type": "code",
      "execution_count": null,
      "metadata": {
        "id": "P873RFHrS-ys"
      },
      "outputs": [],
      "source": [
        "# Crear una columna con categorías\n",
        "\n",
        "##creamos una nueva columna de \"total_income\" clasificada por rangos llamada \"ti_group\"\n",
        "df[\"ti_group\"] = df[\"total_income\"].apply(ti_range)"
      ]
    },
    {
      "cell_type": "code",
      "execution_count": null,
      "metadata": {
        "scrolled": true,
        "id": "uF7L2wBUS-ys",
        "outputId": "e1136eda-bac0-46c0-8850-216288e2d2d1"
      },
      "outputs": [
        {
          "data": {
            "text/plain": [
              "ti_group\n",
              "20000_to_40000      936\n",
              "0_to_20000          611\n",
              "40000_to_60000      156\n",
              "60000_to_80000       24\n",
              "80000_to_100000       8\n",
              "100000_to_200000      6\n",
              "Name: debt, dtype: int64"
            ]
          },
          "execution_count": 85,
          "metadata": {},
          "output_type": "execute_result"
        }
      ],
      "source": [
        "##Clasificar categorías de \"ti_group\" respecto a \"debt\"\n",
        "clasificar_datos(\"ti_group\").sort_values(ascending=False)"
      ]
    },
    {
      "cell_type": "markdown",
      "metadata": {
        "id": "SM6GbL27S-yt"
      },
      "source": [
        "Aquí podemos ver la mayoría de clientes que no han pagado el prestamo tienen los ingresos menores"
      ]
    },
    {
      "cell_type": "code",
      "execution_count": null,
      "metadata": {
        "id": "lIR97S7kS-yt",
        "outputId": "eb05991b-e399-4d7a-fccf-40a4ea523ab2"
      },
      "outputs": [
        {
          "data": {
            "text/plain": [
              "children\n",
              "0    1063\n",
              "1     445\n",
              "2     202\n",
              "3      27\n",
              "4       4\n",
              "Name: debt, dtype: int64"
            ]
          },
          "execution_count": 86,
          "metadata": {},
          "output_type": "execute_result"
        }
      ],
      "source": [
        "# Revisar todos los datos numéricos en la columna seleccionada para la clasificación\n",
        "\n",
        "##Clasificar categorías de \"children\" respecto a \"debt\"\n",
        "clasificar_datos(\"children\").sort_values(ascending=False)"
      ]
    },
    {
      "cell_type": "code",
      "execution_count": null,
      "metadata": {
        "scrolled": true,
        "id": "Yzp8CsI9S-yt",
        "outputId": "0faad980-47e8-466a-ad94-272db041377f"
      },
      "outputs": [
        {
          "data": {
            "text/plain": [
              "336    1\n",
              "129    1\n",
              "370    1\n",
              "403    1\n",
              "186    1\n",
              "190    1\n",
              "127    1\n",
              "Name: debt, dtype: int64"
            ]
          },
          "execution_count": 87,
          "metadata": {},
          "output_type": "execute_result"
        }
      ],
      "source": [
        "# Contar los valores de cada categoría para ver la distribución\n",
        "\n",
        "##distribución de clasificación de \"purpose\" respecto a \"debt\"\n",
        "clasificar_datos(\"purpose\").value_counts()\n"
      ]
    },
    {
      "cell_type": "code",
      "execution_count": null,
      "metadata": {
        "scrolled": true,
        "id": "DB-E73pgS-yt",
        "outputId": "2483df34-16d8-4b31-a335-063889b1b11a"
      },
      "outputs": [
        {
          "data": {
            "text/plain": [
              "274    1\n",
              "931    1\n",
              "388    1\n",
              "85     1\n",
              "63     1\n",
              "Name: debt, dtype: int64"
            ]
          },
          "execution_count": 88,
          "metadata": {},
          "output_type": "execute_result"
        }
      ],
      "source": [
        "##distribución de clasificación de \"family_status\" respecto a \"debt\"\n",
        "clasificar_datos(\"family_status\").value_counts()"
      ]
    },
    {
      "cell_type": "code",
      "execution_count": null,
      "metadata": {
        "id": "jRB7OfHvS-yt",
        "outputId": "4673cbd0-015e-485f-a508-e5f6e8628184"
      },
      "outputs": [
        {
          "data": {
            "text/plain": [
              "936    1\n",
              "8      1\n",
              "611    1\n",
              "156    1\n",
              "24     1\n",
              "6      1\n",
              "Name: debt, dtype: int64"
            ]
          },
          "execution_count": 89,
          "metadata": {},
          "output_type": "execute_result"
        }
      ],
      "source": [
        "##distribución de clasificación de \"total_income\" respecto a \"debt\"\n",
        "clasificar_datos(\"ti_group\").value_counts()"
      ]
    },
    {
      "cell_type": "code",
      "execution_count": null,
      "metadata": {
        "id": "mqAuSbrWS-yu",
        "outputId": "050bdb8f-f636-422b-e6ce-68a4f6bbb2b2"
      },
      "outputs": [
        {
          "data": {
            "text/plain": [
              "202     1\n",
              "27      1\n",
              "4       1\n",
              "445     1\n",
              "1063    1\n",
              "Name: debt, dtype: int64"
            ]
          },
          "execution_count": 90,
          "metadata": {},
          "output_type": "execute_result"
        }
      ],
      "source": [
        "##distribución de clasificación de \"family_status\" respecto a \"debt\"\n",
        "clasificar_datos(\"children\").value_counts()"
      ]
    },
    {
      "cell_type": "markdown",
      "metadata": {
        "id": "aVUNK0NwS-yu"
      },
      "source": [
        "## Comprobación de las hipótesis\n"
      ]
    },
    {
      "cell_type": "markdown",
      "metadata": {
        "id": "Wbc0xXdgS-yu"
      },
      "source": [
        "**¿Existe una correlación entre tener hijos y pagar a tiempo?**"
      ]
    },
    {
      "cell_type": "code",
      "execution_count": null,
      "metadata": {
        "id": "-1bD5gXMS-yu",
        "outputId": "f58ceab8-053b-44ce-b619-0065931ac531"
      },
      "outputs": [
        {
          "name": "stdout",
          "output_type": "stream",
          "text": [
            "         debt                    \n",
            "children    0    1    2   3  4  5\n",
            "gender                           \n",
            "F         592  246  138  17  1  0\n",
            "M         471  199   64  10  3  0\n",
            "\n",
            "           debt       default_rate\n",
            "          count   sum             \n",
            "children                          \n",
            "0         14090  1063     0.075444\n",
            "1          4855   445     0.091658\n",
            "2          2128   202     0.094925\n",
            "3           330    27     0.081818\n",
            "4            41     4     0.097561\n",
            "5             9     0     0.000000\n"
          ]
        }
      ],
      "source": [
        "# Comprueba los datos sobre los hijos y los pagos puntuales\n",
        "pivot_t_kids_vs_debt = df.pivot_table(index=['gender'], columns=('children'), values=['debt'], aggfunc='sum')\n",
        "\n",
        "pivot_t_kids_vs_debt\n",
        "\n",
        "# Calcular la tasa de incumplimiento en función del número de hijos\n",
        "children_debt = df.groupby('children').agg({'debt': ['count', 'sum']})\n",
        "\n",
        "children_debt['default_rate'] = children_debt['debt']['sum'] / children_debt['debt']['count']\n",
        "\n",
        "print(pivot_t_kids_vs_debt)\n",
        "print()\n",
        "print(children_debt)"
      ]
    },
    {
      "cell_type": "markdown",
      "metadata": {
        "id": "9alcudhVS-yu"
      },
      "source": [
        "**Conclusión**\n",
        "\n",
        "Como se puede apreciar en los datos, el número de hijos no afecta en gran medida en la taza de incumplimiento de los clientes. Sin embargo, podemos observar que la taza de incumplimiento de quienes tienen hijos (9,1%) es ligeramente mayor a la de quienes no tienen hijos(7,5%)."
      ]
    },
    {
      "cell_type": "markdown",
      "metadata": {
        "id": "bYackXPES-yu"
      },
      "source": [
        "**¿Existe una correlación entre la situación familiar y el pago a tiempo?**"
      ]
    },
    {
      "cell_type": "code",
      "execution_count": null,
      "metadata": {
        "id": "YHB89N7DS-yv",
        "outputId": "e9172fbe-4165-44b1-e149-8b08628de8fe"
      },
      "outputs": [
        {
          "name": "stdout",
          "output_type": "stream",
          "text": [
            "                           debt                                            \n",
            "family_status civil_partnership divorced married unmarried widow_or_widower\n",
            "gender                                                                     \n",
            "F                           233       61     530       118               52\n",
            "M                           155       24     401       156               11\n",
            "\n",
            "                    debt      default_rate\n",
            "                   count  sum             \n",
            "family_status                             \n",
            "civil_partnership   4150  388     0.093494\n",
            "divorced            1195   85     0.071130\n",
            "married            12339  931     0.075452\n",
            "unmarried           2810  274     0.097509\n",
            "widow_or_widower     959   63     0.065693\n"
          ]
        }
      ],
      "source": [
        "# Comprueba los datos del estado familiar y los pagos a tiempo\n",
        "pivot_t_familystatus_vs_debt = df.pivot_table(index=['gender'], columns=('family_status'), values=['debt'], aggfunc='sum')\n",
        "\n",
        "pivot_t_familystatus_vs_debt\n",
        "\n",
        "# Calcular la tasa de incumplimiento basada en el estado familiar\n",
        "\n",
        "familystatus_debt = df.groupby('family_status').agg({'debt': ['count', 'sum']})\n",
        "\n",
        "familystatus_debt['default_rate'] = familystatus_debt['debt']['sum'] / familystatus_debt['debt']['count']\n",
        "\n",
        "print(pivot_t_familystatus_vs_debt)\n",
        "print()\n",
        "print(familystatus_debt)"
      ]
    },
    {
      "cell_type": "markdown",
      "metadata": {
        "id": "KX03nXGMS-yv"
      },
      "source": [
        "**Conclusión**\n",
        "\n",
        "Como se puede observar, los estados civiles 'civil partnership' y 'unmarried' tienen los porcentajes de imcumplimiento más altos. Luego le siguen 'divorced' y 'married', y por último 'widow / widower' con la tasa de incuplimiento más baja."
      ]
    },
    {
      "cell_type": "markdown",
      "metadata": {
        "id": "2LfitfqfS-yw"
      },
      "source": [
        "**¿Existe una correlación entre el nivel de ingresos y el pago a tiempo?**"
      ]
    },
    {
      "cell_type": "code",
      "execution_count": null,
      "metadata": {
        "scrolled": true,
        "id": "iz4npoWMS-yw",
        "outputId": "56d441f3-d84c-463b-873c-f8d62d72cffd"
      },
      "outputs": [
        {
          "data": {
            "text/html": [
              "<div>\n",
              "<style scoped>\n",
              "    .dataframe tbody tr th:only-of-type {\n",
              "        vertical-align: middle;\n",
              "    }\n",
              "\n",
              "    .dataframe tbody tr th {\n",
              "        vertical-align: top;\n",
              "    }\n",
              "\n",
              "    .dataframe thead tr th {\n",
              "        text-align: left;\n",
              "    }\n",
              "\n",
              "    .dataframe thead tr:last-of-type th {\n",
              "        text-align: right;\n",
              "    }\n",
              "</style>\n",
              "<table border=\"1\" class=\"dataframe\">\n",
              "  <thead>\n",
              "    <tr>\n",
              "      <th></th>\n",
              "      <th colspan=\"6\" halign=\"left\">total_income</th>\n",
              "    </tr>\n",
              "    <tr>\n",
              "      <th></th>\n",
              "      <th colspan=\"2\" halign=\"left\">max</th>\n",
              "      <th colspan=\"2\" halign=\"left\">mean</th>\n",
              "      <th colspan=\"2\" halign=\"left\">min</th>\n",
              "    </tr>\n",
              "    <tr>\n",
              "      <th>debt</th>\n",
              "      <th>0</th>\n",
              "      <th>1</th>\n",
              "      <th>0</th>\n",
              "      <th>1</th>\n",
              "      <th>0</th>\n",
              "      <th>1</th>\n",
              "    </tr>\n",
              "    <tr>\n",
              "      <th>education</th>\n",
              "      <th></th>\n",
              "      <th></th>\n",
              "      <th></th>\n",
              "      <th></th>\n",
              "      <th></th>\n",
              "      <th></th>\n",
              "    </tr>\n",
              "  </thead>\n",
              "  <tbody>\n",
              "    <tr>\n",
              "      <th>bachelor's degree</th>\n",
              "      <td>362496.645</td>\n",
              "      <td>352136.354</td>\n",
              "      <td>32672.798028</td>\n",
              "      <td>31774.906608</td>\n",
              "      <td>5148.514</td>\n",
              "      <td>6689.661</td>\n",
              "    </tr>\n",
              "    <tr>\n",
              "      <th>graduate degree</th>\n",
              "      <td>42945.794</td>\n",
              "      <td>NaN</td>\n",
              "      <td>27960.024667</td>\n",
              "      <td>NaN</td>\n",
              "      <td>15800.399</td>\n",
              "      <td>NaN</td>\n",
              "    </tr>\n",
              "    <tr>\n",
              "      <th>primary education</th>\n",
              "      <td>78410.774</td>\n",
              "      <td>45488.263</td>\n",
              "      <td>20851.751127</td>\n",
              "      <td>21890.523226</td>\n",
              "      <td>4049.374</td>\n",
              "      <td>11755.443</td>\n",
              "    </tr>\n",
              "    <tr>\n",
              "      <th>secondary education</th>\n",
              "      <td>276204.162</td>\n",
              "      <td>164943.868</td>\n",
              "      <td>24335.818661</td>\n",
              "      <td>24222.765597</td>\n",
              "      <td>3392.845</td>\n",
              "      <td>3306.762</td>\n",
              "    </tr>\n",
              "    <tr>\n",
              "      <th>some college</th>\n",
              "      <td>153349.533</td>\n",
              "      <td>131588.163</td>\n",
              "      <td>28176.265065</td>\n",
              "      <td>34133.493184</td>\n",
              "      <td>5514.581</td>\n",
              "      <td>8154.029</td>\n",
              "    </tr>\n",
              "  </tbody>\n",
              "</table>\n",
              "</div>"
            ],
            "text/plain": [
              "                    total_income                                          \\\n",
              "                             max                      mean                 \n",
              "debt                           0           1             0             1   \n",
              "education                                                                  \n",
              "bachelor's degree     362496.645  352136.354  32672.798028  31774.906608   \n",
              "graduate degree        42945.794         NaN  27960.024667           NaN   \n",
              "primary education      78410.774   45488.263  20851.751127  21890.523226   \n",
              "secondary education   276204.162  164943.868  24335.818661  24222.765597   \n",
              "some college          153349.533  131588.163  28176.265065  34133.493184   \n",
              "\n",
              "                                           \n",
              "                           min             \n",
              "debt                         0          1  \n",
              "education                                  \n",
              "bachelor's degree     5148.514   6689.661  \n",
              "graduate degree      15800.399        NaN  \n",
              "primary education     4049.374  11755.443  \n",
              "secondary education   3392.845   3306.762  \n",
              "some college          5514.581   8154.029  "
            ]
          },
          "execution_count": 93,
          "metadata": {},
          "output_type": "execute_result"
        }
      ],
      "source": [
        "# Comprueba los datos del nivel de ingresos y los pagos a tiempo\n",
        "pivot_t_tincome_vs_debt = df.pivot_table(index=['education'], columns=('debt'), values=['total_income'], aggfunc=('min', 'mean', 'max'))\n",
        "\n",
        "pivot_t_tincome_vs_debt\n",
        "\n"
      ]
    },
    {
      "cell_type": "code",
      "execution_count": null,
      "metadata": {
        "id": "ASZ6gTwYS-yx",
        "outputId": "db34e31e-e4df-40ad-dbba-cc41fc74fb78"
      },
      "outputs": [
        {
          "name": "stdout",
          "output_type": "stream",
          "text": [
            "                   debt      default_rate\n",
            "                  count  sum             \n",
            "ti_group                                 \n",
            "0_to_20000         7390  611     0.082679\n",
            "100000_to_200000     99    6     0.060606\n",
            "200000_plus           1    0     0.000000\n",
            "20000_to_40000    11250  936     0.083200\n",
            "40000_to_60000     2140  156     0.072897\n",
            "60000_to_80000      450   24     0.053333\n",
            "80000_to_100000     123    8     0.065041\n"
          ]
        }
      ],
      "source": [
        "# Calcular la tasa de incumplimiento basada en el nivel de ingresos\n",
        "##Aquí utilizaremos la columna 'ti_group', que es la columna 'total_income' segmentada en rangos de valores, para facilitar su visualización\n",
        "\n",
        "total_income_debt = df.groupby('ti_group').agg({'debt': ['count', 'sum']})\n",
        "\n",
        "total_income_debt['default_rate'] = total_income_debt['debt']['sum'] / total_income_debt['debt']['count']\n",
        "\n",
        "print(total_income_debt)"
      ]
    },
    {
      "cell_type": "markdown",
      "metadata": {
        "id": "N_vKxcHuS-yx"
      },
      "source": [
        "**Conclusión**\n",
        "\n",
        "De acuerdo a los resultados que nos muestra la tabla, los grupos con menor ingresos '0_to_20000' y '20000_to_40000' son quienes poseen las mayores tasas de incumplimiento. Podemos observar que mientras mayores sean los ingresos, menor es la tasa de incumplimiento, lo que tiene lógica."
      ]
    },
    {
      "cell_type": "markdown",
      "metadata": {
        "id": "mm6CcaG_S-yy"
      },
      "source": [
        "**¿Cómo afecta el propósito del crédito a la tasa de incumplimiento?**"
      ]
    },
    {
      "cell_type": "code",
      "execution_count": null,
      "metadata": {
        "scrolled": true,
        "id": "FIendFNuS-yy",
        "outputId": "8ed81a47-6ecc-46f8-db85-ab05d79e2528"
      },
      "outputs": [
        {
          "data": {
            "text/html": [
              "<div>\n",
              "<style scoped>\n",
              "    .dataframe tbody tr th:only-of-type {\n",
              "        vertical-align: middle;\n",
              "    }\n",
              "\n",
              "    .dataframe tbody tr th {\n",
              "        vertical-align: top;\n",
              "    }\n",
              "\n",
              "    .dataframe thead tr th {\n",
              "        text-align: left;\n",
              "    }\n",
              "\n",
              "    .dataframe thead tr:last-of-type th {\n",
              "        text-align: right;\n",
              "    }\n",
              "</style>\n",
              "<table border=\"1\" class=\"dataframe\">\n",
              "  <thead>\n",
              "    <tr>\n",
              "      <th></th>\n",
              "      <th>mean</th>\n",
              "    </tr>\n",
              "    <tr>\n",
              "      <th></th>\n",
              "      <th>debt</th>\n",
              "    </tr>\n",
              "    <tr>\n",
              "      <th>purpose</th>\n",
              "      <th></th>\n",
              "    </tr>\n",
              "  </thead>\n",
              "  <tbody>\n",
              "    <tr>\n",
              "      <th>another_purpose</th>\n",
              "      <td>0.067717</td>\n",
              "    </tr>\n",
              "    <tr>\n",
              "      <th>car</th>\n",
              "      <td>0.093590</td>\n",
              "    </tr>\n",
              "    <tr>\n",
              "      <th>education</th>\n",
              "      <td>0.092200</td>\n",
              "    </tr>\n",
              "    <tr>\n",
              "      <th>house</th>\n",
              "      <td>0.066702</td>\n",
              "    </tr>\n",
              "    <tr>\n",
              "      <th>property</th>\n",
              "      <td>0.074862</td>\n",
              "    </tr>\n",
              "    <tr>\n",
              "      <th>real_estate</th>\n",
              "      <td>0.075286</td>\n",
              "    </tr>\n",
              "    <tr>\n",
              "      <th>wedding</th>\n",
              "      <td>0.080034</td>\n",
              "    </tr>\n",
              "  </tbody>\n",
              "</table>\n",
              "</div>"
            ],
            "text/plain": [
              "                     mean\n",
              "                     debt\n",
              "purpose                  \n",
              "another_purpose  0.067717\n",
              "car              0.093590\n",
              "education        0.092200\n",
              "house            0.066702\n",
              "property         0.074862\n",
              "real_estate      0.075286\n",
              "wedding          0.080034"
            ]
          },
          "execution_count": 95,
          "metadata": {},
          "output_type": "execute_result"
        }
      ],
      "source": [
        "# Consulta los porcentajes de tasa de incumplimiento para cada propósito del crédito y analízalos\n",
        "pivot_table_purpose_and_debt = df.pivot_table(index=['purpose'], values=['debt'], aggfunc=['mean'])\n",
        "pivot_table_purpose_and_debt"
      ]
    },
    {
      "cell_type": "markdown",
      "metadata": {
        "id": "rwjxTMswS-yy"
      },
      "source": [
        "**Conclusión**\n",
        "\n",
        "Aquí podemos ver que algunos de los motivos más importantes en la tasa de incumplimiento son 'car' y 'education', mientras que 'house' y 'other_purpose' tienen las tasas de incumplimiento más bajas.\n",
        "\n",
        "\n"
      ]
    },
    {
      "cell_type": "markdown",
      "metadata": {
        "id": "FG6ckzomS-yy"
      },
      "source": [
        "# Conclusión general\n",
        "\n",
        "Al comenzar esta investigación se nos entregó un dataframe de 12.25 líneas y 12 columnas que, además, contaba con 2174 valores ausentes en la columna 'total_income' y '2174' valores ausentes en la columna'days_employed'. El resto de columnas contaba con algunos problemas que presentaremos a continuación.\n",
        "\n",
        "1.-'education': en esta columna encontramos valores duplicados, escritos en mayúsculas y minúsculas, lo que fue corregido.\n",
        "\n",
        "2.-'children': en esta columna nos encontramos valores negativos probablemente por errores de tipeo, lo que fue corregido. Además encontramos 76 clientes con una cantidad de 20 hijos, que si bien es extraño, puede ser una posibilidad. Dado que no tenemos mayor contexto sobre esto, no manipulamos estos datos.\n",
        "\n",
        "3.-'days_employed': en esta columna también encontramos valores negativos, probablemente debido a errores humanos o de sistema, que dejamos en positivo. Además encontramos 2174 valores ausentes que fueron reemplazados por la mediana de los valores de 'days_employed'.\n",
        "\n",
        "4.-'don_years': aquí encontramos 101 clientes con una edad de 0. Debido a que no había valores atípicos importantes en la columna, reemplazamos estos valores extraños por la media de las edades, de modo que no alterase los resultados de nuestra investigación.\n",
        "\n",
        "5.-'family_status': en esta columna no se encontraron problemas, por lo que no hubo cambios.\n",
        "\n",
        "6.-'gender': en esta columna solo había 1 género desconocido, al ser una porción minúscula de los datos, eliminamos esta fila, ya que esto no afectará al resultado de nuestra investigación.\n",
        "\n",
        "7.-'income_type': En esta columna tampoco hemos encontramos valores extraños, más allá de algunos valores poco comunes pero posibles.\n",
        "\n",
        "8.-'purpose': en esta columna se redujo los atributos para facilitar la lectura de los valores.\n",
        "\n",
        "9.-'total_income': En esta columna habían 2174 valores ausentes, que fueron reemplazados por la mediana de los datos, debido a que eran valores significativamente distintos.\n",
        "\n",
        "Para saber si existe una conexión entre el tener hijos, el estado civil, el nivel de ingresos y los propósito de los prestamos,  con el pago a tiempo de las deudas, se determinó lo siguiente.\n",
        "\n",
        "De acuerdo a los datos que pudimos reunir, la tasa de incumplimiento de las personas que tienen hijos es mayor a la tasa de incumplimiento de quienes no los tienen.\n",
        "\n",
        "Además, los estados civiles 'civil partnership' y 'unmarried' tienen los porcentajes de imcumplimiento más altos. Luego le siguen 'divorced' y 'married', y por último 'widow / widower' con la tasa de incuplimiento más baja.\n",
        "\n",
        "Respecto a al nivel de ingresos, se determinó que la tasa de imcumplimiento de las personas con ingresos mayores es menor respecto a la tasa de incumplimiento de personas con ingresos menores.\n",
        "\n",
        "Finalmente, se determinó que los propósitos 'education' y 'cars' tienen la tasa de incumplimiento más alta, mientras que 'house' tiene la tasa de incumplimiento más baja.\n",
        "\n"
      ]
    }
  ],
  "metadata": {
    "ExecuteTimeLog": [
      {
        "duration": 2741,
        "start_time": "2021-10-21T01:08:49.480Z"
      },
      {
        "duration": 52,
        "start_time": "2021-10-21T01:08:53.315Z"
      },
      {
        "duration": 49,
        "start_time": "2021-10-21T01:08:57.432Z"
      },
      {
        "duration": 70,
        "start_time": "2021-10-21T01:09:07.706Z"
      }
    ],
    "kernelspec": {
      "display_name": "Python 3 (ipykernel)",
      "language": "python",
      "name": "python3"
    },
    "language_info": {
      "codemirror_mode": {
        "name": "ipython",
        "version": 3
      },
      "file_extension": ".py",
      "mimetype": "text/x-python",
      "name": "python",
      "nbconvert_exporter": "python",
      "pygments_lexer": "ipython3",
      "version": "3.9.5"
    },
    "toc": {
      "base_numbering": 1,
      "nav_menu": {},
      "number_sections": true,
      "sideBar": true,
      "skip_h1_title": true,
      "title_cell": "Table of Contents",
      "title_sidebar": "Contents",
      "toc_cell": false,
      "toc_position": {},
      "toc_section_display": true,
      "toc_window_display": true
    },
    "colab": {
      "provenance": []
    }
  },
  "nbformat": 4,
  "nbformat_minor": 0
}